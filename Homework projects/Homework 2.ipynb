{
 "cells": [
  {
   "cell_type": "markdown",
   "id": "1b87c532",
   "metadata": {},
   "source": [
    "Exercises"
   ]
  },
  {
   "cell_type": "markdown",
   "id": "847c2724",
   "metadata": {},
   "source": [
    "1. Create a list of numbers 100 elements in length that counts by 3s - i.e., [3,6,9,12,...]"
   ]
  },
  {
   "cell_type": "code",
   "execution_count": 2,
   "id": "da00fd07",
   "metadata": {},
   "outputs": [
    {
     "name": "stdout",
     "output_type": "stream",
     "text": [
      "[3, 6, 9, 12, 15, 18, 21, 24, 27, 30, 33, 36, 39, 42, 45, 48, 51, 54, 57, 60, 63, 66, 69, 72, 75, 78, 81, 84, 87, 90, 93, 96, 99]\n"
     ]
    }
   ],
   "source": [
    "alist = list(range(3, 100, 3))\n",
    "print(alist)"
   ]
  },
  {
   "cell_type": "markdown",
   "id": "aa39e01a",
   "metadata": {},
   "source": [
    "2. Using the list from question 1, create a second list whose elements are the same values converted to strings. hint: use a for loop and the function str()."
   ]
  },
  {
   "cell_type": "code",
   "execution_count": 3,
   "id": "323bda0d",
   "metadata": {},
   "outputs": [
    {
     "data": {
      "text/plain": [
       "'[3, 6, 9, 12, 15, 18, 21, 24, 27, 30, 33, 36, 39, 42, 45, 48, 51, 54, 57, 60, 63, 66, 69, 72, 75, 78, 81, 84, 87, 90, 93, 96, 99]'"
      ]
     },
     "execution_count": 3,
     "metadata": {},
     "output_type": "execute_result"
    }
   ],
   "source": [
    "alist = list(range(3, 100, 3))\n",
    "str(alist)"
   ]
  },
  {
   "cell_type": "markdown",
   "id": "ce976939",
   "metadata": {},
   "source": [
    "3. Using the list from question 2, create a variable that concatenates each of the elements in order of index (Hint: result should be like \"36912...\")."
   ]
  },
  {
   "cell_type": "code",
   "execution_count": 12,
   "id": "25582086",
   "metadata": {},
   "outputs": [
    {
     "ename": "SyntaxError",
     "evalue": "invalid syntax (<ipython-input-12-6f0dc0cab813>, line 1)",
     "output_type": "error",
     "traceback": [
      "\u001b[1;36m  File \u001b[1;32m\"<ipython-input-12-6f0dc0cab813>\"\u001b[1;36m, line \u001b[1;32m1\u001b[0m\n\u001b[1;33m    int base = alist[0]\u001b[0m\n\u001b[1;37m        ^\u001b[0m\n\u001b[1;31mSyntaxError\u001b[0m\u001b[1;31m:\u001b[0m invalid syntax\n"
     ]
    }
   ],
   "source": [
    "int base = alist[0]\n",
    "    for i inrange(len(alist) - 1):\n",
    "    base = int( str(base) + str(alist[i+1]))\n",
    "\n",
    "Print(base)"
   ]
  },
  {
   "cell_type": "markdown",
   "id": "51a6daf7",
   "metadata": {},
   "source": [
    "4. Using .pop() and .append(), create a list whose values are the same as the list from question 1 but in reverse order. (Hint: .pop() removes the last element from a list. The value can be save, i.e., x = lst.pop().)"
   ]
  },
  {
   "cell_type": "markdown",
   "id": "f6a20329",
   "metadata": {},
   "source": [
    "5. Using len(), calculate the midpoint of the list from question 1. Pass this midpoint to slice the list so that the resultant copy includes only the second half of the list from question 1."
   ]
  },
  {
   "cell_type": "markdown",
   "id": "897fa6a7",
   "metadata": {},
   "source": [
    "6. Create a string that includes only every other element, starting from the 0th element, from the string in question 3 while maintaining the order of these elements (Hint: this can be done be using a for loop whose values are descending)."
   ]
  },
  {
   "cell_type": "markdown",
   "id": "003c603e",
   "metadata": {},
   "source": [
    "7. Explain the difference between a dynamic list in Python (usually referred to as a list) and a tuple."
   ]
  },
  {
   "cell_type": "markdown",
   "id": "f2cd1af3",
   "metadata": {},
   "source": [
    "List and Tuple in Python are the class of data structure. The list is dynamic, whereas the tuple has static characteristics. \n",
    "List is just like the arrays, declared in other languages. Lists need not be homogeneous always which makes it the most powerful tool in Python. In Python, the list is a type of container in Data Structures, which is used to store multiple data at the same time. Lists are a useful tool for preserving a sequence of data and further iterating over it. "
   ]
  },
  {
   "cell_type": "markdown",
   "id": "fd1a7d37",
   "metadata": {},
   "source": [
    "## Exploration"
   ]
  },
  {
   "cell_type": "markdown",
   "id": "6e7e11b6",
   "metadata": {},
   "source": [
    "1. Use a generator to create a list of the first 100 prime numbers. Include a paragraph explaining how a generator works."
   ]
  },
  {
   "cell_type": "code",
   "execution_count": 9,
   "id": "c396e7cf",
   "metadata": {},
   "outputs": [
    {
     "name": "stdout",
     "output_type": "stream",
     "text": [
      "Enter lower range: 1\n",
      "Enter upper range: 600\n",
      "2\n",
      "3\n",
      "5\n",
      "7\n",
      "11\n",
      "13\n",
      "17\n",
      "19\n",
      "23\n",
      "29\n",
      "31\n",
      "37\n",
      "41\n",
      "43\n",
      "47\n",
      "53\n",
      "59\n",
      "61\n",
      "67\n",
      "71\n",
      "73\n",
      "79\n",
      "83\n",
      "89\n",
      "97\n",
      "101\n",
      "103\n",
      "107\n",
      "109\n",
      "113\n",
      "127\n",
      "131\n",
      "137\n",
      "139\n",
      "149\n",
      "151\n",
      "157\n",
      "163\n",
      "167\n",
      "173\n",
      "179\n",
      "181\n",
      "191\n",
      "193\n",
      "197\n",
      "199\n",
      "211\n",
      "223\n",
      "227\n",
      "229\n",
      "233\n",
      "239\n",
      "241\n",
      "251\n",
      "257\n",
      "263\n",
      "269\n",
      "271\n",
      "277\n",
      "281\n",
      "283\n",
      "293\n",
      "307\n",
      "311\n",
      "313\n",
      "317\n",
      "331\n",
      "337\n",
      "347\n",
      "349\n",
      "353\n",
      "359\n",
      "367\n",
      "373\n",
      "379\n",
      "383\n",
      "389\n",
      "397\n",
      "401\n",
      "409\n",
      "419\n",
      "421\n",
      "431\n",
      "433\n",
      "439\n",
      "443\n",
      "449\n",
      "457\n",
      "461\n",
      "463\n",
      "467\n",
      "479\n",
      "487\n",
      "491\n",
      "499\n",
      "503\n",
      "509\n",
      "521\n",
      "523\n",
      "541\n",
      "547\n",
      "557\n",
      "563\n",
      "569\n",
      "571\n",
      "577\n",
      "587\n",
      "593\n",
      "599\n"
     ]
    }
   ],
   "source": [
    "lower = int(input(\"Enter lower range: \"))  \n",
    "upper = int(input(\"Enter upper range: \"))  \n",
    "for num in range(lower,upper + 1):  \n",
    "   if num > 1:  \n",
    "       for i in range(2,num):  \n",
    "           if (num % i) == 0:  \n",
    "               break  \n",
    "       else:  \n",
    "           print(num)  "
   ]
  },
  {
   "cell_type": "markdown",
   "id": "b2fd019c",
   "metadata": {},
   "source": [
    "A Python generator is a function that produces a sequence of results. It works by maintaining its local state, so that the function can resume again exactly where it left off when called subsequent times. Thus, we can think of a generator as something like a powerful iterator."
   ]
  },
  {
   "cell_type": "markdown",
   "id": "a94cbd32",
   "metadata": {},
   "source": [
    "2. Using a for loop and the pop function, create a list of the values from the list of prime numbers whose values are descending from highest to lowest."
   ]
  },
  {
   "cell_type": "markdown",
   "id": "4d17881c",
   "metadata": {},
   "source": [
    "3. Using either of prime numbers, create another list that includes the same numbers but is randomly ordered. Do this without shuffling the initial list (Hint: you will need to import random and import copy). Explain in a paragraph the process that you followed to accomplish the task."
   ]
  },
  {
   "cell_type": "code",
   "execution_count": 13,
   "id": "fe38d98a",
   "metadata": {},
   "outputs": [],
   "source": [
    "import random\n",
    "import copy"
   ]
  }
 ],
 "metadata": {
  "kernelspec": {
   "display_name": "Python 3",
   "language": "python",
   "name": "python3"
  },
  "language_info": {
   "codemirror_mode": {
    "name": "ipython",
    "version": 3
   },
   "file_extension": ".py",
   "mimetype": "text/x-python",
   "name": "python",
   "nbconvert_exporter": "python",
   "pygments_lexer": "ipython3",
   "version": "3.8.8"
  }
 },
 "nbformat": 4,
 "nbformat_minor": 5
}
