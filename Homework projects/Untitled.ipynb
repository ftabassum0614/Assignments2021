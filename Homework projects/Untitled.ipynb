{
 "cells": [
  {
   "cell_type": "code",
   "execution_count": 2,
   "id": "1a8025cb",
   "metadata": {},
   "outputs": [
    {
     "name": "stdout",
     "output_type": "stream",
     "text": [
      "Collecting virtualenv\n",
      "  Downloading virtualenv-20.10.0-py2.py3-none-any.whl (5.6 MB)\n",
      "Requirement already satisfied: six<2,>=1.9.0 in c:\\users\\faria\\anaconda3\\lib\\site-packages (from virtualenv) (1.16.0)\n",
      "Requirement already satisfied: filelock<4,>=3.2 in c:\\users\\faria\\anaconda3\\lib\\site-packages (from virtualenv) (3.3.1)\n",
      "Collecting platformdirs<3,>=2\n",
      "  Downloading platformdirs-2.4.0-py3-none-any.whl (14 kB)\n",
      "Collecting distlib<1,>=0.3.1\n",
      "  Downloading distlib-0.3.3-py2.py3-none-any.whl (496 kB)\n",
      "Collecting backports.entry-points-selectable>=1.0.4\n",
      "  Downloading backports.entry_points_selectable-1.1.1-py2.py3-none-any.whl (6.2 kB)\n",
      "Installing collected packages: platformdirs, distlib, backports.entry-points-selectable, virtualenv\n",
      "Successfully installed backports.entry-points-selectable-1.1.1 distlib-0.3.3 platformdirs-2.4.0 virtualenv-20.10.0\n"
     ]
    }
   ],
   "source": [
    "!pip install virtualenv"
   ]
  },
  {
   "cell_type": "code",
   "execution_count": 4,
   "id": "3925b7db",
   "metadata": {},
   "outputs": [],
   "source": [
    "import virtualenv"
   ]
  },
  {
   "cell_type": "code",
   "execution_count": 5,
   "id": "d31fb22b",
   "metadata": {},
   "outputs": [
    {
     "ename": "SyntaxError",
     "evalue": "invalid syntax (Temp/ipykernel_26976/3728982715.py, line 1)",
     "output_type": "error",
     "traceback": [
      "\u001b[1;36m  File \u001b[1;32m\"C:\\Users\\faria\\AppData\\Local\\Temp/ipykernel_26976/3728982715.py\"\u001b[1;36m, line \u001b[1;32m1\u001b[0m\n\u001b[1;33m    virtualenv myenv --python=python3.7\u001b[0m\n\u001b[1;37m               ^\u001b[0m\n\u001b[1;31mSyntaxError\u001b[0m\u001b[1;31m:\u001b[0m invalid syntax\n"
     ]
    }
   ],
   "source": [
    "virtualenv myenv --python=python3.7"
   ]
  },
  {
   "cell_type": "code",
   "execution_count": 6,
   "id": "b7350796",
   "metadata": {},
   "outputs": [
    {
     "name": "stdout",
     "output_type": "stream",
     "text": [
      "Requirement already satisfied: ipykernel in c:\\users\\faria\\anaconda3\\lib\\site-packages (6.4.1)\n",
      "Requirement already satisfied: jupyter-client<8.0 in c:\\users\\faria\\anaconda3\\lib\\site-packages (from ipykernel) (6.1.12)\n",
      "Requirement already satisfied: ipython-genutils in c:\\users\\faria\\anaconda3\\lib\\site-packages (from ipykernel) (0.2.0)\n",
      "Requirement already satisfied: debugpy<2.0,>=1.0.0 in c:\\users\\faria\\anaconda3\\lib\\site-packages (from ipykernel) (1.5.1)\n",
      "Requirement already satisfied: tornado<7.0,>=4.2 in c:\\users\\faria\\anaconda3\\lib\\site-packages (from ipykernel) (6.1)\n",
      "Collecting matplotlib-inline<0.2.0,>=0.1.0\n",
      "  Downloading matplotlib_inline-0.1.3-py3-none-any.whl (8.2 kB)\n",
      "Requirement already satisfied: ipython<8.0,>=7.23.1 in c:\\users\\faria\\anaconda3\\lib\\site-packages (from ipykernel) (7.29.0)\n",
      "Requirement already satisfied: traitlets<6.0,>=4.1.0 in c:\\users\\faria\\anaconda3\\lib\\site-packages (from ipykernel) (5.1.1)\n",
      "Requirement already satisfied: pickleshare in c:\\users\\faria\\anaconda3\\lib\\site-packages (from ipython<8.0,>=7.23.1->ipykernel) (0.7.5)\n",
      "Requirement already satisfied: decorator in c:\\users\\faria\\appdata\\roaming\\python\\python38\\site-packages (from ipython<8.0,>=7.23.1->ipykernel) (5.0.9)\n",
      "Requirement already satisfied: jedi>=0.16 in c:\\users\\faria\\anaconda3\\lib\\site-packages (from ipython<8.0,>=7.23.1->ipykernel) (0.18.0)\n",
      "Requirement already satisfied: colorama in c:\\users\\faria\\anaconda3\\lib\\site-packages (from ipython<8.0,>=7.23.1->ipykernel) (0.4.4)\n",
      "Requirement already satisfied: prompt-toolkit!=3.0.0,!=3.0.1,<3.1.0,>=2.0.0 in c:\\users\\faria\\anaconda3\\lib\\site-packages (from ipython<8.0,>=7.23.1->ipykernel) (3.0.20)\n",
      "Requirement already satisfied: pygments in c:\\users\\faria\\anaconda3\\lib\\site-packages (from ipython<8.0,>=7.23.1->ipykernel) (2.10.0)\n",
      "Requirement already satisfied: setuptools>=18.5 in c:\\users\\faria\\anaconda3\\lib\\site-packages (from ipython<8.0,>=7.23.1->ipykernel) (58.0.4)\n",
      "Requirement already satisfied: backcall in c:\\users\\faria\\anaconda3\\lib\\site-packages (from ipython<8.0,>=7.23.1->ipykernel) (0.2.0)\n",
      "Requirement already satisfied: parso<0.9.0,>=0.8.0 in c:\\users\\faria\\anaconda3\\lib\\site-packages (from jedi>=0.16->ipython<8.0,>=7.23.1->ipykernel) (0.8.2)\n",
      "Requirement already satisfied: pyzmq>=13 in c:\\users\\faria\\anaconda3\\lib\\site-packages (from jupyter-client<8.0->ipykernel) (22.2.1)\n",
      "Requirement already satisfied: jupyter-core>=4.6.0 in c:\\users\\faria\\anaconda3\\lib\\site-packages (from jupyter-client<8.0->ipykernel) (4.9.1)\n",
      "Requirement already satisfied: python-dateutil>=2.1 in c:\\users\\faria\\anaconda3\\lib\\site-packages (from jupyter-client<8.0->ipykernel) (2.8.2)\n",
      "Requirement already satisfied: pywin32>=1.0 in c:\\users\\faria\\anaconda3\\lib\\site-packages (from jupyter-core>=4.6.0->jupyter-client<8.0->ipykernel) (228)\n",
      "Requirement already satisfied: wcwidth in c:\\users\\faria\\anaconda3\\lib\\site-packages (from prompt-toolkit!=3.0.0,!=3.0.1,<3.1.0,>=2.0.0->ipython<8.0,>=7.23.1->ipykernel) (0.2.5)\n",
      "Requirement already satisfied: six>=1.5 in c:\\users\\faria\\anaconda3\\lib\\site-packages (from python-dateutil>=2.1->jupyter-client<8.0->ipykernel) (1.16.0)\n",
      "Installing collected packages: matplotlib-inline\n",
      "Successfully installed matplotlib-inline-0.1.3\n"
     ]
    }
   ],
   "source": [
    "!pip install ipykernel"
   ]
  },
  {
   "cell_type": "code",
   "execution_count": 7,
   "id": "9c13f74a",
   "metadata": {},
   "outputs": [
    {
     "ename": "SyntaxError",
     "evalue": "invalid syntax (Temp/ipykernel_26976/2604057563.py, line 1)",
     "output_type": "error",
     "traceback": [
      "\u001b[1;36m  File \u001b[1;32m\"C:\\Users\\faria\\AppData\\Local\\Temp/ipykernel_26976/2604057563.py\"\u001b[1;36m, line \u001b[1;32m1\u001b[0m\n\u001b[1;33m    python3 -m ipykernel install --name=myenv\u001b[0m\n\u001b[1;37m               ^\u001b[0m\n\u001b[1;31mSyntaxError\u001b[0m\u001b[1;31m:\u001b[0m invalid syntax\n"
     ]
    }
   ],
   "source": [
    "python3 -m ipykernel install --name=myenv"
   ]
  },
  {
   "cell_type": "code",
   "execution_count": 8,
   "id": "7158cc81",
   "metadata": {},
   "outputs": [],
   "source": [
    "import sys"
   ]
  },
  {
   "cell_type": "code",
   "execution_count": 9,
   "id": "c3f1c2b7",
   "metadata": {},
   "outputs": [
    {
     "data": {
      "text/plain": [
       "'C:\\\\Users\\\\faria\\\\anaconda3\\\\python.exe'"
      ]
     },
     "execution_count": 9,
     "metadata": {},
     "output_type": "execute_result"
    }
   ],
   "source": [
    "sys.executable"
   ]
  },
  {
   "cell_type": "code",
   "execution_count": 10,
   "id": "2c997d15",
   "metadata": {},
   "outputs": [
    {
     "data": {
      "text/plain": [
       "['C:\\\\Users\\\\faria\\\\GitRepositories\\\\Assignments2021\\\\Homework projects',\n",
       " 'C:\\\\Users\\\\faria\\\\anaconda3\\\\python38.zip',\n",
       " 'C:\\\\Users\\\\faria\\\\anaconda3\\\\DLLs',\n",
       " 'C:\\\\Users\\\\faria\\\\anaconda3\\\\lib',\n",
       " 'C:\\\\Users\\\\faria\\\\anaconda3',\n",
       " '',\n",
       " 'C:\\\\Users\\\\faria\\\\AppData\\\\Roaming\\\\Python\\\\Python38\\\\site-packages',\n",
       " 'C:\\\\Users\\\\faria\\\\anaconda3\\\\lib\\\\site-packages',\n",
       " 'C:\\\\Users\\\\faria\\\\anaconda3\\\\lib\\\\site-packages\\\\locket-0.2.1-py3.8.egg',\n",
       " 'C:\\\\Users\\\\faria\\\\anaconda3\\\\lib\\\\site-packages\\\\win32',\n",
       " 'C:\\\\Users\\\\faria\\\\anaconda3\\\\lib\\\\site-packages\\\\win32\\\\lib',\n",
       " 'C:\\\\Users\\\\faria\\\\anaconda3\\\\lib\\\\site-packages\\\\Pythonwin',\n",
       " 'C:\\\\Users\\\\faria\\\\anaconda3\\\\lib\\\\site-packages\\\\IPython\\\\extensions',\n",
       " 'C:\\\\Users\\\\faria\\\\.ipython']"
      ]
     },
     "execution_count": 10,
     "metadata": {},
     "output_type": "execute_result"
    }
   ],
   "source": [
    "sys.path"
   ]
  },
  {
   "cell_type": "code",
   "execution_count": 11,
   "id": "abe6f20c",
   "metadata": {},
   "outputs": [
    {
     "name": "stdout",
     "output_type": "stream",
     "text": [
      "Requirement already satisfied: matplotlib in c:\\users\\faria\\anaconda3\\lib\\site-packages (3.5.0)\n",
      "Requirement already satisfied: cycler>=0.10 in c:\\users\\faria\\anaconda3\\lib\\site-packages (from matplotlib) (0.11.0)\n",
      "Requirement already satisfied: pyparsing>=2.2.1 in c:\\users\\faria\\anaconda3\\lib\\site-packages (from matplotlib) (3.0.4)\n",
      "Requirement already satisfied: python-dateutil>=2.7 in c:\\users\\faria\\anaconda3\\lib\\site-packages (from matplotlib) (2.8.2)\n",
      "Requirement already satisfied: fonttools>=4.22.0 in c:\\users\\faria\\anaconda3\\lib\\site-packages (from matplotlib) (4.25.0)\n",
      "Requirement already satisfied: packaging>=20.0 in c:\\users\\faria\\anaconda3\\lib\\site-packages (from matplotlib) (21.3)\n",
      "Requirement already satisfied: setuptools-scm>=4 in c:\\users\\faria\\anaconda3\\lib\\site-packages (from matplotlib) (6.3.2)\n",
      "Requirement already satisfied: pillow>=6.2.0 in c:\\users\\faria\\anaconda3\\lib\\site-packages (from matplotlib) (8.4.0)\n",
      "Requirement already satisfied: kiwisolver>=1.0.1 in c:\\users\\faria\\anaconda3\\lib\\site-packages (from matplotlib) (1.3.1)\n",
      "Requirement already satisfied: numpy>=1.17 in c:\\users\\faria\\anaconda3\\lib\\site-packages (from matplotlib) (1.20.3)\n",
      "Requirement already satisfied: six>=1.5 in c:\\users\\faria\\anaconda3\\lib\\site-packages (from python-dateutil>=2.7->matplotlib) (1.16.0)\n",
      "Requirement already satisfied: setuptools in c:\\users\\faria\\anaconda3\\lib\\site-packages (from setuptools-scm>=4->matplotlib) (58.0.4)\n",
      "Requirement already satisfied: tomli>=1.0.0 in c:\\users\\faria\\anaconda3\\lib\\site-packages (from setuptools-scm>=4->matplotlib) (1.2.2)\n",
      "Note: you may need to restart the kernel to use updated packages.\n"
     ]
    }
   ],
   "source": [
    "pip install matplotlib"
   ]
  },
  {
   "cell_type": "code",
   "execution_count": 12,
   "id": "d864d96b",
   "metadata": {},
   "outputs": [
    {
     "name": "stdout",
     "output_type": "stream",
     "text": [
      "Requirement already satisfied: pip--upgrade in c:\\users\\faria\\anaconda3\\lib\\site-packages (0.0.6)\n",
      "Requirement already satisfied: pip>=1.5.1 in c:\\users\\faria\\anaconda3\\lib\\site-packages (from pip--upgrade) (21.2.2)\n"
     ]
    }
   ],
   "source": [
    "!pip install pip--upgrade"
   ]
  },
  {
   "cell_type": "code",
   "execution_count": 15,
   "id": "d7f840d8",
   "metadata": {},
   "outputs": [
    {
     "name": "stdout",
     "output_type": "stream",
     "text": [
      "# packages in environment at C:\\Users\\faria\\anaconda3:\n",
      "#\n",
      "# Name                    Version                   Build  Channel\n",
      "matplotlib                3.5.0                    pypi_0    pypi\n",
      "matplotlib-inline         0.1.3                    pypi_0    pypi\n",
      "\n",
      "Note: you may need to restart the kernel to use updated packages.\n"
     ]
    }
   ],
   "source": [
    "conda list matplotlib"
   ]
  },
  {
   "cell_type": "code",
   "execution_count": null,
   "id": "68601e79",
   "metadata": {},
   "outputs": [],
   "source": [
    "import matplotlib\n"
   ]
  }
 ],
 "metadata": {
  "kernelspec": {
   "display_name": "Python 3 (ipykernel)",
   "language": "python",
   "name": "python3"
  },
  "language_info": {
   "codemirror_mode": {
    "name": "ipython",
    "version": 3
   },
   "file_extension": ".py",
   "mimetype": "text/x-python",
   "name": "python",
   "nbconvert_exporter": "python",
   "pygments_lexer": "ipython3",
   "version": "3.8.12"
  }
 },
 "nbformat": 4,
 "nbformat_minor": 5
}
