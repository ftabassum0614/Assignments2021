{
 "cells": [
  {
   "cell_type": "markdown",
   "id": "e1d03501",
   "metadata": {},
   "source": [
    "## HW 7: Advanced Data Analysis"
   ]
  },
  {
   "cell_type": "markdown",
   "id": "bbdf8471",
   "metadata": {},
   "source": [
    "## Notice\n",
    "Dear Students,\n",
    "\n",
    "Some of you have asked if Homework 7 is due this weekend. You have learned the skills you need to complete the 1 homework problem in the assignment. If you prefer, you may run a standard OLS regression instead of a Panel OLS. The important thing is that you find another data set to include in the regression to see if the addition of the variable would help normalize the errors. If you are unable to normalize the errors, explain why you think the additional variable did not accomplish this goal."
   ]
  },
  {
   "cell_type": "markdown",
   "id": "97c4c846",
   "metadata": {},
   "source": [
    "1. The regression results tend to generate residuals that are correlated with the dependent variable. This indicates that the regression is missing an explanatory variable that better captures the magnitude of changes in RGDP. Find a variable that improves prediction of RGDP per capita. Rerun all results presented in the panel regression section with this variable included."
   ]
  }
 ],
 "metadata": {
  "kernelspec": {
   "display_name": "Python 3",
   "language": "python",
   "name": "python3"
  },
  "language_info": {
   "codemirror_mode": {
    "name": "ipython",
    "version": 3
   },
   "file_extension": ".py",
   "mimetype": "text/x-python",
   "name": "python",
   "nbconvert_exporter": "python",
   "pygments_lexer": "ipython3",
   "version": "3.8.8"
  }
 },
 "nbformat": 4,
 "nbformat_minor": 5
}
