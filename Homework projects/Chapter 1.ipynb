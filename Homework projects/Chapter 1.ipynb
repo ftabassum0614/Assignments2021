{
 "cells": [
  {
   "cell_type": "markdown",
   "id": "ce4d4bd2",
   "metadata": {},
   "source": [
    "## Exercise"
   ]
  },
  {
   "cell_type": "markdown",
   "id": "e8480a93",
   "metadata": {},
   "source": [
    "1. Record your name in an object (x = ...) and a description of yourself in another object.\n"
   ]
  },
  {
   "cell_type": "code",
   "execution_count": 1,
   "id": "bbe9964e",
   "metadata": {},
   "outputs": [
    {
     "name": "stdout",
     "output_type": "stream",
     "text": [
      "My name is Faria Tabassum\n",
      "I am a graduate student at NDSU\n"
     ]
    }
   ],
   "source": [
    "x = \"My name is Faria Tabassum\"\n",
    "print(x)\n",
    "\n",
    "y = \"I am a graduate student at NDSU\"\n",
    "print(y)"
   ]
  },
  {
   "cell_type": "markdown",
   "id": "a1336df6",
   "metadata": {},
   "source": [
    "2. Raise 2 to the 4th power. Save the value as an object named twoToTheFourth. Then create a new value that sums the value twice. Create another variable that saves the value of twoToTheFourth as a string. Just as with the numeric value, sum the string object twice."
   ]
  },
  {
   "cell_type": "code",
   "execution_count": 2,
   "id": "5b8f9351",
   "metadata": {},
   "outputs": [
    {
     "name": "stdout",
     "output_type": "stream",
     "text": [
      "16.0\n",
      "32.0\n",
      "16\n",
      "1616\n"
     ]
    }
   ],
   "source": [
    "twoToTheFourth = 2.0 ** 4\n",
    "print(twoToTheFourth)\n",
    "\n",
    "sums_nums = twoToTheFourth + twoToTheFourth\n",
    "print (sums_nums)\n",
    "x = \"16\"\n",
    "print(x)\n",
    "\n",
    "y = x + x\n",
    "print(y)"
   ]
  },
  {
   "cell_type": "markdown",
   "id": "708fd4ba",
   "metadata": {},
   "source": [
    "3. Find the list of escape sequences in Section 2.4. create a string that uses at least 4 different escape sequences.\n"
   ]
  },
  {
   "cell_type": "code",
   "execution_count": 8,
   "id": "a01082b3",
   "metadata": {},
   "outputs": [
    {
     "name": "stdout",
     "output_type": "stream",
     "text": [
      "I\n",
      "had mybreakfastearly\n",
      "Ihad mybreakfastearly\n",
      "She is called 'the queen'\n",
      "Today is \n",
      "\tFriday\n"
     ]
    }
   ],
   "source": [
    "x = \"I\"\n",
    "y = \"had my\"\n",
    "z = \"breakfast\"\n",
    "a = \"early\"\n",
    "\n",
    "print(x + \"\\n\" + y + z + a)\n",
    "print (x + y +z + a, sep = \"\\n\")\n",
    "\n",
    "\n",
    "b = 'She is called \\'the queen\\''\n",
    "print (b)\n",
    "\n",
    "c = 'Today is \\n\\tFriday'\n",
    "print(c)\n"
   ]
  },
  {
   "cell_type": "markdown",
   "id": "6d6bc778",
   "metadata": {},
   "source": [
    "4. Add an integer and a float together. Is the final number an integer or a float?"
   ]
  },
  {
   "cell_type": "code",
   "execution_count": 4,
   "id": "5a249653",
   "metadata": {},
   "outputs": [
    {
     "name": "stdout",
     "output_type": "stream",
     "text": [
      "8.5\n"
     ]
    },
    {
     "data": {
      "text/plain": [
       "float"
      ]
     },
     "execution_count": 4,
     "metadata": {},
     "output_type": "execute_result"
    }
   ],
   "source": [
    "integer = 4\n",
    "float = 4.5\n",
    "final = integer + float\n",
    "print(final)\n",
    "type(final)"
   ]
  },
  {
   "cell_type": "markdown",
   "id": "4a13dc3e",
   "metadata": {},
   "source": [
    "5. Add 2 ** 1024 + 1.5. What is the outcome? Why? hint: Try adding .5, 1, and 1.1 instead of 1.5."
   ]
  },
  {
   "cell_type": "code",
   "execution_count": 6,
   "id": "15407874",
   "metadata": {
    "scrolled": true
   },
   "outputs": [
    {
     "ename": "OverflowError",
     "evalue": "int too large to convert to float",
     "output_type": "error",
     "traceback": [
      "\u001b[1;31m---------------------------------------------------------------------------\u001b[0m",
      "\u001b[1;31mOverflowError\u001b[0m                             Traceback (most recent call last)",
      "\u001b[1;32m<ipython-input-6-b5bb2fc82439>\u001b[0m in \u001b[0;36m<module>\u001b[1;34m\u001b[0m\n\u001b[1;32m----> 1\u001b[1;33m \u001b[0mx\u001b[0m \u001b[1;33m=\u001b[0m \u001b[1;36m2\u001b[0m \u001b[1;33m**\u001b[0m \u001b[1;36m1024\u001b[0m \u001b[1;33m+\u001b[0m \u001b[1;36m1.5\u001b[0m\u001b[1;33m\u001b[0m\u001b[1;33m\u001b[0m\u001b[0m\n\u001b[0m\u001b[0;32m      2\u001b[0m \u001b[1;33m\u001b[0m\u001b[0m\n\u001b[0;32m      3\u001b[0m \u001b[0my\u001b[0m \u001b[1;33m=\u001b[0m \u001b[1;36m2\u001b[0m \u001b[1;33m**\u001b[0m \u001b[1;36m1024\u001b[0m \u001b[1;33m+\u001b[0m \u001b[1;36m.5\u001b[0m\u001b[1;33m\u001b[0m\u001b[1;33m\u001b[0m\u001b[0m\n\u001b[0;32m      4\u001b[0m \u001b[1;33m\u001b[0m\u001b[0m\n\u001b[0;32m      5\u001b[0m \u001b[0mz\u001b[0m \u001b[1;33m=\u001b[0m \u001b[1;36m2\u001b[0m \u001b[1;33m**\u001b[0m \u001b[1;36m1024\u001b[0m \u001b[1;33m+\u001b[0m \u001b[1;36m1\u001b[0m\u001b[1;33m\u001b[0m\u001b[1;33m\u001b[0m\u001b[0m\n",
      "\u001b[1;31mOverflowError\u001b[0m: int too large to convert to float"
     ]
    }
   ],
   "source": [
    "x = 2 ** 1024 + 1.5 \n",
    "\n",
    "y = 2 ** 1024 + .5 \n",
    "\n",
    "z = 2 ** 1024 + 1\n",
    "\n",
    "a = 2 ** 1024 + 1.1\n",
    "\n",
    "print(x)\n",
    "print(y)\n",
    "print(z)\n",
    "print(a)\n",
    "\n",
    "\n"
   ]
  },
  {
   "cell_type": "markdown",
   "id": "0dbde393",
   "metadata": {},
   "source": [
    "answer: Overflow error as the integer is too large to convert to float."
   ]
  },
  {
   "cell_type": "markdown",
   "id": "9fce863a",
   "metadata": {},
   "source": [
    "6. import the string library with the script import string. Print string.__dict__ . What is the output? If you do not understand the meaning, search \"python class __dict__\" online and find an explanation."
   ]
  },
  {
   "cell_type": "code",
   "execution_count": 22,
   "id": "30c54d85",
   "metadata": {},
   "outputs": [],
   "source": [
    "import string"
   ]
  },
  {
   "cell_type": "code",
   "execution_count": 21,
   "id": "418493f1",
   "metadata": {},
   "outputs": [
    {
     "ename": "AttributeError",
     "evalue": "module 'string' has no attribute '_dict_'",
     "output_type": "error",
     "traceback": [
      "\u001b[1;31m---------------------------------------------------------------------------\u001b[0m",
      "\u001b[1;31mAttributeError\u001b[0m                            Traceback (most recent call last)",
      "\u001b[1;32m<ipython-input-21-7b8168de8860>\u001b[0m in \u001b[0;36m<module>\u001b[1;34m\u001b[0m\n\u001b[1;32m----> 1\u001b[1;33m \u001b[0mprint\u001b[0m\u001b[1;33m(\u001b[0m\u001b[0mstring\u001b[0m\u001b[1;33m.\u001b[0m\u001b[0m_dict_\u001b[0m\u001b[1;33m)\u001b[0m\u001b[1;33m\u001b[0m\u001b[1;33m\u001b[0m\u001b[0m\n\u001b[0m",
      "\u001b[1;31mAttributeError\u001b[0m: module 'string' has no attribute '_dict_'"
     ]
    }
   ],
   "source": [
    "print(string._dict_)"
   ]
  },
  {
   "cell_type": "markdown",
   "id": "1cbc733f",
   "metadata": {},
   "source": [
    "7. Call at least 5 of the results from string.__dict__."
   ]
  },
  {
   "cell_type": "markdown",
   "id": "8b1d7d7f",
   "metadata": {},
   "source": [
    "8. Concatenate 3 distinct strings"
   ]
  },
  {
   "cell_type": "code",
   "execution_count": 16,
   "id": "c4011317",
   "metadata": {},
   "outputs": [
    {
     "name": "stdout",
     "output_type": "stream",
     "text": [
      "Welcome to NDSU\n"
     ]
    }
   ],
   "source": [
    "x = \"Welcome\" \n",
    "y = \"to\"\n",
    "z = \"NDSU\"\n",
    "\n",
    "print(x + \" \" + y + \" \" + z) "
   ]
  }
 ],
 "metadata": {
  "kernelspec": {
   "display_name": "Python 3",
   "language": "python",
   "name": "python3"
  },
  "language_info": {
   "codemirror_mode": {
    "name": "ipython",
    "version": 3
   },
   "file_extension": ".py",
   "mimetype": "text/x-python",
   "name": "python",
   "nbconvert_exporter": "python",
   "pygments_lexer": "ipython3",
   "version": "3.8.8"
  }
 },
 "nbformat": 4,
 "nbformat_minor": 5
}
