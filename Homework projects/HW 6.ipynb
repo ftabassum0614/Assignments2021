{
 "cells": [
  {
   "cell_type": "markdown",
   "id": "20ba07cf",
   "metadata": {},
   "source": [
    "## Homework 6 \n",
    "1. Working With OLS \n",
    "2. Partial Correlations and Directed Acyclic Graphs"
   ]
  },
  {
   "cell_type": "markdown",
   "id": "8f7daf4f",
   "metadata": {},
   "source": [
    "## Exercises"
   ]
  },
  {
   "cell_type": "markdown",
   "id": "25135e16",
   "metadata": {},
   "source": [
    "1. Use the np.log() function to log the values of RGDP per capita. Create a lag for this new variable and rerun the regression using these new logged values as well as untransformed Economic Freedom Index Values (don't log these variables!). (hint: you may reimport the csv file)."
   ]
  },
  {
   "cell_type": "markdown",
   "id": "a739edf1",
   "metadata": {},
   "source": [
    "2. Plot the residuals in a bar chart. Explain why the shape of the distribution of these residuals are distinct from the shape of the residuals plotted in the first regression from this lesson."
   ]
  },
  {
   "cell_type": "markdown",
   "id": "18dc05fd",
   "metadata": {},
   "source": [
    "3. Plot a scatter plot with RGDP Per Capita on the horizontal axis and the predictor on the vertical axis. Then plot a scatter plot with RGDP Per Capita on the horizontal axis and the residual on the vertical axis. Are the residuals normally distributed? Why or why not? Why does this matter?"
   ]
  },
  {
   "cell_type": "markdown",
   "id": "7ca3e0d2",
   "metadata": {},
   "source": [
    "4. Plot the observed and predicted logged values of RGDP Per Capita for each individual country."
   ]
  }
 ],
 "metadata": {
  "kernelspec": {
   "display_name": "Python 3",
   "language": "python",
   "name": "python3"
  },
  "language_info": {
   "codemirror_mode": {
    "name": "ipython",
    "version": 3
   },
   "file_extension": ".py",
   "mimetype": "text/x-python",
   "name": "python",
   "nbconvert_exporter": "python",
   "pygments_lexer": "ipython3",
   "version": "3.8.8"
  }
 },
 "nbformat": 4,
 "nbformat_minor": 5
}
