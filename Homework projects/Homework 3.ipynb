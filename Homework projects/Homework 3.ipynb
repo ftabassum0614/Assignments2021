{
 "cells": [
  {
   "cell_type": "markdown",
   "id": "81da0e4c",
   "metadata": {},
   "source": [
    "1. Create a dictionary with the same structure as the dictionary we created in the in class project for 10 professionals or specialists that you admire. The dictionary should include keys that identify the name of the professional, their area of expertise, a short biography, and a link to their website (or social media profile if no website is available). Print the dataframe and save this dataframe as a csv."
   ]
  },
  {
   "cell_type": "code",
   "execution_count": 8,
   "id": "f3024ef8",
   "metadata": {},
   "outputs": [
    {
     "ename": "SyntaxError",
     "evalue": "invalid syntax (<ipython-input-8-42962e88534f>, line 6)",
     "output_type": "error",
     "traceback": [
      "\u001b[1;36m  File \u001b[1;32m\"<ipython-input-8-42962e88534f>\"\u001b[1;36m, line \u001b[1;32m6\u001b[0m\n\u001b[1;33m    {\"Ron Degges\":   {\"Website\": \"https://www.ndsu.edu/statistics/facultystaff/dr_ron_degges/\",\u001b[0m\n\u001b[1;37m    ^\u001b[0m\n\u001b[1;31mSyntaxError\u001b[0m\u001b[1;31m:\u001b[0m invalid syntax\n"
     ]
    }
   ],
   "source": [
    "#Faculty dictionary of Statistics department\n",
    "\n",
    "faculty_dict = {\"Rhonda Magel\": {\"Website\":\"https://www.ndsu.edu/statistics/facultystaff/dr_rhonda_magel/\",\n",
    "                                \"Expertise\": \"Nonparametrics\", \"Bio\": \"Department Chair, Ph.D. from University of Missouri\"}\n",
    "               \n",
    "               {\"Ron Degges\":   {\"Website\": \"https://www.ndsu.edu/statistics/facultystaff/dr_ron_degges/\",\n",
    "                                \"Expertise\": \"Survival Analysis, Nonparametrics, Regression\", \"Bio\": \"Associate Professor of Practice, Ph.D. (2011) in North Dakota State University, M.S. (1995) from North Dakota State University\"}\n",
    "               \n",
    "               \n",
    "               \n",
    "               \n",
    "               \n",
    "               }\n",
    "                 \n",
    "faculty_dict\n",
    "                 "
   ]
  }
 ],
 "metadata": {
  "kernelspec": {
   "display_name": "Python 3",
   "language": "python",
   "name": "python3"
  },
  "language_info": {
   "codemirror_mode": {
    "name": "ipython",
    "version": 3
   },
   "file_extension": ".py",
   "mimetype": "text/x-python",
   "name": "python",
   "nbconvert_exporter": "python",
   "pygments_lexer": "ipython3",
   "version": "3.8.8"
  }
 },
 "nbformat": 4,
 "nbformat_minor": 5
}
