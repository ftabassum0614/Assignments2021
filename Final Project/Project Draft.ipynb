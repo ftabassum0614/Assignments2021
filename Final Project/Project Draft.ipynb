{
 "cells": [
  {
   "cell_type": "markdown",
   "id": "0ad41992",
   "metadata": {},
   "source": [
    "### Rough Draft of Project\n",
    "### Due 11/24\n",
    "Upload Rough Draft of Project to GitHub. Must be at least 2500 words with 10 citations. "
   ]
  },
  {
   "cell_type": "markdown",
   "id": "4cddbb6f",
   "metadata": {},
   "source": [
    "Expected Outline:\n",
    "\n",
    "Introduction \\\n",
    "Background and presentation of problem \\\n",
    "Data\\\n",
    "Model\\\n",
    "Results\\\n",
    "Conclusion\\\n"
   ]
  },
  {
   "cell_type": "markdown",
   "id": "bad1bbb9",
   "metadata": {},
   "source": [
    "## Time Series Analysis of COVID-19 Data in Bangladesh Using Arima Model"
   ]
  },
  {
   "cell_type": "markdown",
   "id": "1a96eb9e",
   "metadata": {},
   "source": [
    "### Faria Tabassum"
   ]
  },
  {
   "cell_type": "markdown",
   "id": "79c8030a",
   "metadata": {},
   "source": [
    "### Abstract\n",
    "\n",
    "COVID-19 has been an unprecedented situation for which each, and every nation was unprepared. Being able to forecast the upcoming disaster helps the government design proper policies to tackle the problems. Bangladesh being a developing country has suffered a lot due to the corona situation and the current corona situation of the country is alarming. This paper attempt to predict the number of new COVID-19 case from 10th May 2021 to June 23, 2021, using the ARIMA model. the ARIMA (-,-,-) model was adopted for the forecasting of the number of new cases. To fit the ARIMA model, Augmented-Dickey Fuller tests were performed to confirm the stationarity of the series. The Ljung-Box Q statistics confirmed there is no autocorrelation in the model. \n"
   ]
  },
  {
   "cell_type": "markdown",
   "id": "8c4a7133",
   "metadata": {},
   "source": [
    "### 1.\tIntroduction: "
   ]
  },
  {
   "cell_type": "markdown",
   "id": "77209e5f",
   "metadata": {},
   "source": [
    "The novel coronavirus first appeared in December 2019 ( (Hongzhou, Stratton, & Tang, 2020)) and affecting more people all over the world daily. Bangladesh, one of the most populous countries, has one of the highest COVID-19 affected patients in the world. While this pandemic has caused worldwide socioeconomic unrest, it is very important to forecast this future scenario. A proper forecast would help the government be prepared for the upcoming disaster and take preparation accordingly. Otherwise, with the number of patients rising, there will be a shortage of hospital beds and proper medical facilities which in turn would increase the number of deaths and collapse the economic system. Therefore, it is very important to be able to forecast accurately the number of new cases daily so that government will be able to take proper steps. \n",
    "This paper aims to investigate prediction forecasts using the ARIMA model on the COVID-19 data. In this work, we have considered the number of new COVID cases to predict the number of new cases in the next 45 days. The time-series data sample was collected till 9th May 2021 and the prediction and analysis are done for May and June 2021. \n",
    "This paper started with a discussion of the motivation for this topic. Section 2 covers related work. Section 3 discusses the data and methodology used in this research. Section 4 discusses the results. And the study ends with a conclusion and future scope of work. "
   ]
  },
  {
   "cell_type": "markdown",
   "id": "7b74ea34",
   "metadata": {},
   "source": [
    "## 2. Motivation:"
   ]
  },
  {
   "cell_type": "markdown",
   "id": "a868f7bb",
   "metadata": {},
   "source": [
    "On March 11th, 2020, the World Health Organization announces the Coronavirus as an epidemic ( (Cascella, M., Cuomo, Dulebohn, & Di Napoli, 2020). Coronavirus was first detected in Wuhan, a province of China in December 2019 (Zhu, Zhang, Wang, & Li, 2019). Since then, as of May 10th, 2020, this disease has spread to more than 180 countries ( (Worldometer, 2021). The first case of Covid-19 affected in Bangladesh was detected on 7th March 2020 ( (Paul, March)). Being a developing country with a myriad of problems and poor infrastructure, the country is suffering from enormous problems tackling this pandemic situation. In this regard, it is high time to make proper forecasting of the number of new cases in upcoming months so that the government and public health officials can take proper steps to alleviate this issue. \n",
    "\n",
    "In this work, we have explored the time series model for the prediction of positive new cases for Bangladesh. We employed Auto-Regressive Integrated Moving Average (ARIMA) model for predicting the incidence of 2019 Novel Coronavirus. "
   ]
  },
  {
   "cell_type": "markdown",
   "id": "87b84dae",
   "metadata": {},
   "source": [
    "## 3. Previous Work"
   ]
  },
  {
   "cell_type": "markdown",
   "id": "515be92f",
   "metadata": {},
   "source": [
    "Some studies such as Hilmer et al. (1983) (Hilmer & Tiao, 2012) have worked on the analysis of infection spreading patterns in different countries. There have been several previous studies that employed machine learning and statistical approaches to capture patterns and trends of several varying events related to infectious disease ( (Kalpakis, Gada, & Puttagunta, 2001). There are also works found on the application of SIR models for contact tracing and prediction of a positive number of cases (LaViola, 2003)\n",
    "In the case of forecasting different diseases such as SARS, Ebola, and dengue, time series analysis with the ARIMA model is widely used. \n",
    "\n",
    "1. Tandon, P. , Chakraborty, & Suhag (2020) used ARIMA (2,2,2) to Predict the future number of cases in India.\n",
    "2. Tyagi, Dwivedi, & Sanzgiri (2020) used ARIMA (1,3,1) to check Requirement of ICU beds, ventilators, and isolation beds in India. \n",
    "3. Kundu, Ferdous, Islam, & Sultana (2020) used ARIMA (0,2,1) and ARIMA (0,1,1) to Forecast the spread of COVID-19 October to November 2020 in Bangladesh.\n",
    "4. Arunkumar, et al. (2021) used ARIMA and SARIMA Forecasting the dynamics of COVID-19 for top 16 countries.\n",
    "5. Singh, Chowdhury, Panja, & Neogy (2021) used ARIMA to check the effect of lockdown and unlock in India."
   ]
  },
  {
   "cell_type": "markdown",
   "id": "af02d764",
   "metadata": {},
   "source": [
    "## 4.\tMethodology \n",
    "4.1 Data Description:"
   ]
  },
  {
   "cell_type": "markdown",
   "id": "aa824977",
   "metadata": {},
   "source": [
    "The data of new confirmed cases of COVID-19 infection is collected for Bangladesh from the website of Our World in Data (Our World in Data). "
   ]
  },
  {
   "cell_type": "markdown",
   "id": "87f3493a",
   "metadata": {},
   "source": [
    "Data Description"
   ]
  },
  {
   "cell_type": "code",
   "execution_count": 1,
   "id": "571420fc",
   "metadata": {},
   "outputs": [],
   "source": [
    "import numpy\n",
    "import pandas as pd\n",
    "import stats "
   ]
  },
  {
   "cell_type": "code",
   "execution_count": 49,
   "id": "3798cc37",
   "metadata": {},
   "outputs": [
    {
     "name": "stderr",
     "output_type": "stream",
     "text": [
      "C:\\Users\\faria\\AppData\\Local\\Temp/ipykernel_16872/2660633312.py:2: FutureWarning: The pandas.datetime class is deprecated and will be removed from pandas in a future version. Import from datetime module instead.\n",
      "  from pandas import datetime\n"
     ]
    }
   ],
   "source": [
    "from pandas import read_csv\n",
    "from pandas import datetime\n",
    "from matplotlib import pyplot"
   ]
  },
  {
   "cell_type": "code",
   "execution_count": 50,
   "id": "4c8cd774",
   "metadata": {},
   "outputs": [
    {
     "data": {
      "text/html": [
       "<div>\n",
       "<style scoped>\n",
       "    .dataframe tbody tr th:only-of-type {\n",
       "        vertical-align: middle;\n",
       "    }\n",
       "\n",
       "    .dataframe tbody tr th {\n",
       "        vertical-align: top;\n",
       "    }\n",
       "\n",
       "    .dataframe thead th {\n",
       "        text-align: right;\n",
       "    }\n",
       "</style>\n",
       "<table border=\"1\" class=\"dataframe\">\n",
       "  <thead>\n",
       "    <tr style=\"text-align: right;\">\n",
       "      <th></th>\n",
       "      <th>date</th>\n",
       "      <th>new_cases</th>\n",
       "    </tr>\n",
       "  </thead>\n",
       "  <tbody>\n",
       "    <tr>\n",
       "      <th>0</th>\n",
       "      <td>2020-03-18</td>\n",
       "      <td>4</td>\n",
       "    </tr>\n",
       "    <tr>\n",
       "      <th>1</th>\n",
       "      <td>2020-03-19</td>\n",
       "      <td>3</td>\n",
       "    </tr>\n",
       "    <tr>\n",
       "      <th>2</th>\n",
       "      <td>2020-03-20</td>\n",
       "      <td>3</td>\n",
       "    </tr>\n",
       "    <tr>\n",
       "      <th>3</th>\n",
       "      <td>2020-03-21</td>\n",
       "      <td>5</td>\n",
       "    </tr>\n",
       "    <tr>\n",
       "      <th>4</th>\n",
       "      <td>2020-03-22</td>\n",
       "      <td>2</td>\n",
       "    </tr>\n",
       "    <tr>\n",
       "      <th>...</th>\n",
       "      <td>...</td>\n",
       "      <td>...</td>\n",
       "    </tr>\n",
       "    <tr>\n",
       "      <th>413</th>\n",
       "      <td>2021-05-05</td>\n",
       "      <td>1742</td>\n",
       "    </tr>\n",
       "    <tr>\n",
       "      <th>414</th>\n",
       "      <td>2021-05-06</td>\n",
       "      <td>1822</td>\n",
       "    </tr>\n",
       "    <tr>\n",
       "      <th>415</th>\n",
       "      <td>2021-05-07</td>\n",
       "      <td>1682</td>\n",
       "    </tr>\n",
       "    <tr>\n",
       "      <th>416</th>\n",
       "      <td>2021-05-08</td>\n",
       "      <td>1285</td>\n",
       "    </tr>\n",
       "    <tr>\n",
       "      <th>417</th>\n",
       "      <td>2021-05-09</td>\n",
       "      <td>1386</td>\n",
       "    </tr>\n",
       "  </tbody>\n",
       "</table>\n",
       "<p>418 rows × 2 columns</p>\n",
       "</div>"
      ],
      "text/plain": [
       "          date  new_cases\n",
       "0   2020-03-18          4\n",
       "1   2020-03-19          3\n",
       "2   2020-03-20          3\n",
       "3   2020-03-21          5\n",
       "4   2020-03-22          2\n",
       "..         ...        ...\n",
       "413 2021-05-05       1742\n",
       "414 2021-05-06       1822\n",
       "415 2021-05-07       1682\n",
       "416 2021-05-08       1285\n",
       "417 2021-05-09       1386\n",
       "\n",
       "[418 rows x 2 columns]"
      ]
     },
     "execution_count": 50,
     "metadata": {},
     "output_type": "execute_result"
    }
   ],
   "source": [
    "data = pd.read_excel(\"covid data.xlsx\", header=0)\n",
    "data\n"
   ]
  },
  {
   "cell_type": "code",
   "execution_count": 51,
   "id": "8a8742b3",
   "metadata": {},
   "outputs": [
    {
     "data": {
      "text/html": [
       "<div>\n",
       "<style scoped>\n",
       "    .dataframe tbody tr th:only-of-type {\n",
       "        vertical-align: middle;\n",
       "    }\n",
       "\n",
       "    .dataframe tbody tr th {\n",
       "        vertical-align: top;\n",
       "    }\n",
       "\n",
       "    .dataframe thead th {\n",
       "        text-align: right;\n",
       "    }\n",
       "</style>\n",
       "<table border=\"1\" class=\"dataframe\">\n",
       "  <thead>\n",
       "    <tr style=\"text-align: right;\">\n",
       "      <th></th>\n",
       "      <th>new_cases</th>\n",
       "    </tr>\n",
       "  </thead>\n",
       "  <tbody>\n",
       "    <tr>\n",
       "      <th>count</th>\n",
       "      <td>418.000000</td>\n",
       "    </tr>\n",
       "    <tr>\n",
       "      <th>mean</th>\n",
       "      <td>1850.485646</td>\n",
       "    </tr>\n",
       "    <tr>\n",
       "      <th>std</th>\n",
       "      <td>1420.237210</td>\n",
       "    </tr>\n",
       "    <tr>\n",
       "      <th>min</th>\n",
       "      <td>0.000000</td>\n",
       "    </tr>\n",
       "    <tr>\n",
       "      <th>25%</th>\n",
       "      <td>729.000000</td>\n",
       "    </tr>\n",
       "    <tr>\n",
       "      <th>50%</th>\n",
       "      <td>1603.000000</td>\n",
       "    </tr>\n",
       "    <tr>\n",
       "      <th>75%</th>\n",
       "      <td>2615.500000</td>\n",
       "    </tr>\n",
       "    <tr>\n",
       "      <th>max</th>\n",
       "      <td>7626.000000</td>\n",
       "    </tr>\n",
       "  </tbody>\n",
       "</table>\n",
       "</div>"
      ],
      "text/plain": [
       "         new_cases\n",
       "count   418.000000\n",
       "mean   1850.485646\n",
       "std    1420.237210\n",
       "min       0.000000\n",
       "25%     729.000000\n",
       "50%    1603.000000\n",
       "75%    2615.500000\n",
       "max    7626.000000"
      ]
     },
     "execution_count": 51,
     "metadata": {},
     "output_type": "execute_result"
    }
   ],
   "source": [
    "data.describe()"
   ]
  },
  {
   "cell_type": "markdown",
   "id": "3d93f4dc",
   "metadata": {},
   "source": [
    "## 5.\tModel Specification:"
   ]
  },
  {
   "cell_type": "markdown",
   "id": "cacd9c09",
   "metadata": {},
   "source": [
    "### 5.1 Auto-Regressive Integrated Moving Average (ARIMA) Model:"
   ]
  },
  {
   "cell_type": "markdown",
   "id": "1c5dcfe8",
   "metadata": {},
   "source": [
    "In time series analysis, the forecast is based on the past values of the series called lags. A simple overview of a model that depends on one lag or one variable in the series is depicted in equation (1)."
   ]
  },
  {
   "cell_type": "markdown",
   "id": "3bbf7fc1",
   "metadata": {},
   "source": [
    "Yt = α + β Yt-1 + et (1)"
   ]
  },
  {
   "cell_type": "markdown",
   "id": "4210b6df",
   "metadata": {},
   "source": [
    "Here, the predicted value, Yt depends on the previous prediction Yt−1, and the error et calculated as the difference between the predicted and actual outcome. β is the slope coefficient, and α is the intercept. The ARIMA model (Oreshkin et al.,2019) does not directly depend on the lags or variables of the time series. It depends on the error lags which are estimated by subtracting the actual outcome from the forecasted outcome. The fitting of the ARIMA model consists of several steps which are discussed next."
   ]
  },
  {
   "cell_type": "markdown",
   "id": "83999eaf",
   "metadata": {},
   "source": [
    "## 5.2 Test of Stationarity:"
   ]
  },
  {
   "cell_type": "markdown",
   "id": "d91224c3",
   "metadata": {},
   "source": [
    "Achieving stationarity is a precondition for any time series analysis as well as for establishing an ARIMA model. To test whether the series is stationary or not, we conducted an Augmented Dickey-Fuller (ADF) test. Difference transformation was adapted to transformed nonstationary time series into a stationary time series. "
   ]
  },
  {
   "cell_type": "markdown",
   "id": "afe97b4d",
   "metadata": {},
   "source": [
    "### 5.3 Estimation of the fitted Model:\n",
    "ARIMA model forecasts based on its previous values and it has 3 parameters, p, d, and q which are required to do the forecasting. The p, d, and q values depend on the autocorrelation function (ACF) and partial autocorrelation function (PACF). ARIMA model is represented in the form of P, D, Q. Here, P stands for the order of auto-regression, D signifies the degree of trend difference, and Q is the order of moving average. Here, the ARIMA model is applied to the time series data of confirmed COVID-19 cases in India. Auto-correlation function (ACF) graph and partial autocorrelation (PACF) graph are used to find the initial number of ARIMA models. These ARIMA models are then tested for variance in normality and stationarity."
   ]
  },
  {
   "cell_type": "markdown",
   "id": "5e35c889",
   "metadata": {},
   "source": [
    "## 5.4 Diagnostic Checking:\n",
    "After identifying the fitted ARIMA model and parameter estimate, the Ljung-Box Q test (Ljung & Box, 1978) is applied to check whether the residual series is a white noise. If so, then the fitted model is accepted."
   ]
  },
  {
   "cell_type": "markdown",
   "id": "76be06a5",
   "metadata": {},
   "source": [
    "## 5.6 Forecasting: \n",
    "The future values of the new cases were predicted by using the fitted model, that is ARIMA (0,1,2)\n"
   ]
  },
  {
   "cell_type": "markdown",
   "id": "8c2b2e91",
   "metadata": {},
   "source": [
    "## 6.\tResults:"
   ]
  },
  {
   "cell_type": "code",
   "execution_count": 34,
   "id": "961d920d",
   "metadata": {},
   "outputs": [
    {
     "data": {
      "image/png": "[encoded data removed]",
      "text/plain": [
       "<Figure size 432x288 with 1 Axes>"
      ]
     },
     "metadata": {
      "needs_background": "light"
     },
     "output_type": "display_data"
    }
   ],
   "source": [
    "import matplotlib.pyplot as plt\n",
    "\n",
    "data.plot('date','new_cases')\n",
    "\n",
    "plt.xlabel(\"Date\")\n",
    "plt.ylabel(\"New Cases\")\n",
    "plt.title(\"New Cases in Bangladesh\")\n",
    "plt.show()"
   ]
  },
  {
   "cell_type": "markdown",
   "id": "13d74b28",
   "metadata": {},
   "source": [
    "The time series plot of daily COVID-19 total confirmed new cases in Bangladesh from March 18, 2020, to May 9, 2021, is plotted using lineplot. The graphical inspection showed that the original series is in an increasing trend and sometimes in a decreasing trend with the variance not being stable. This suggests that the time series is not stationary and will require differencing to make it stationary, at least a difference order of 1."
   ]
  },
  {
   "cell_type": "markdown",
   "id": "6db3bd35",
   "metadata": {},
   "source": [
    "We will take a look at an autocorrelation plot of the time series. "
   ]
  },
  {
   "cell_type": "markdown",
   "id": "e713618d",
   "metadata": {},
   "source": [
    "Before fitting the ARIMA model, we need to apply the ADF test is to check the stationarity of the series. The findings indicate that all the series are nonstationary at their level (p value>0.05). "
   ]
  },
  {
   "cell_type": "code",
   "execution_count": 38,
   "id": "c7e3f9f2",
   "metadata": {},
   "outputs": [],
   "source": [
    "import numpy as np\n",
    "import pandas as pd\n",
    "import matplotlib.pylab as plt\n",
    "%matplotlib inline"
   ]
  },
  {
   "cell_type": "code",
   "execution_count": 43,
   "id": "53d00eb4",
   "metadata": {},
   "outputs": [
    {
     "name": "stdout",
     "output_type": "stream",
     "text": [
      "Observations of Dickey-fuller test1\n",
      "Test Statistic                  -3.602945\n",
      "p-value                          0.005705\n",
      "#lags used                      15.000000\n",
      "number of observations used    402.000000\n",
      "critical value (1%)             -3.446722\n",
      "critical value (5%)             -2.868757\n",
      "critical value (10%)            -2.570614\n",
      "dtype: float64\n"
     ]
    }
   ],
   "source": [
    "from statsmodels.tsa.stattools import adfuller\n",
    "print(\"Observations of Dickey-fuller test1\")\n",
    "dftest = adfuller(data['new_cases'],autolag='AIC')\n",
    "dfoutput=pd.Series(dftest[0:4],index=['Test Statistic','p-value','#lags used','number of observations used'])\n",
    "for key,value in dftest[4].items():\n",
    "    dfoutput['critical value (%s)'%key]= value\n",
    "print(dfoutput)"
   ]
  },
  {
   "cell_type": "code",
   "execution_count": 44,
   "id": "9b20625c",
   "metadata": {},
   "outputs": [
    {
     "name": "stdout",
     "output_type": "stream",
     "text": [
      "          date  new_cases       DATE  new_cases_lag\n",
      "0   2020-03-18          4 2020-03-18            NaN\n",
      "1   2020-03-19          3 2020-03-19            4.0\n",
      "2   2020-03-20          3 2020-03-20            3.0\n",
      "3   2020-03-21          5 2020-03-21            3.0\n",
      "4   2020-03-22          2 2020-03-22            5.0\n",
      "..         ...        ...        ...            ...\n",
      "413 2021-05-05       1742 2021-05-05         1914.0\n",
      "414 2021-05-06       1822 2021-05-06         1742.0\n",
      "415 2021-05-07       1682 2021-05-07         1822.0\n",
      "416 2021-05-08       1285 2021-05-08         1682.0\n",
      "417 2021-05-09       1386 2021-05-09         1285.0\n",
      "\n",
      "[418 rows x 4 columns]\n"
     ]
    }
   ],
   "source": [
    "data[\"new_cases_lag\"] = data[\"new_cases\"].shift(1)\n",
    "print(data)"
   ]
  },
  {
   "cell_type": "markdown",
   "id": "7b7fadfa",
   "metadata": {},
   "source": [
    "After confirming the series is stationary, we will check the ACF and PACF graph to find the potential ARIMA model with correct parameters with the lowest AIC."
   ]
  },
  {
   "cell_type": "markdown",
   "id": "3264722d",
   "metadata": {},
   "source": [
    "If The Ljung-Box Q test suggested that the residual series of the ARIMA is purely white noise (p-value > 0.05) then the selected model is probably adequate for the data. Then, this model will be applied to forecast the daily confirmed new cases of COVID-19 in Bangladesh. "
   ]
  },
  {
   "cell_type": "code",
   "execution_count": 62,
   "id": "4801eda1",
   "metadata": {},
   "outputs": [],
   "source": [
    "#ARIMA Model\n",
    "#Prediction"
   ]
  },
  {
   "cell_type": "markdown",
   "id": "9e3f7056",
   "metadata": {},
   "source": [
    "## 7.\tConclusion:\n",
    "In this study, we have forecasted COVID-19 confirmed new cases for 45 days, until 23rd June 2021 for Bangladesh using the ARIMA model (-,-,-). The ADF test confirms the stationarity of the series. Our forecast indicates that the total number of new cases will be ----- on average. Based on the forecast government and public health officials can devise a proper strategy to provide health services to patients in emergency. This study can be extended in the future to forecast more COVID-19 related variables in different countries. "
   ]
  },
  {
   "cell_type": "markdown",
   "id": "63f7882a",
   "metadata": {},
   "source": [
    "## 8.\tReferences\n",
    "\n",
    "1. Arunkumar, K., Kalaga, D. V., Kumar, C. S., Chikoor, G., Kawaji, M., & Brenza, T. M. (2021). Forecasting the dynamics of cumulative COVID-19 cases (confirmed, recovered, and deaths) for top-16 countries using statistical machine learning models: Auto-Regressive Integrated Moving Average (ARIMA) and Seasonal Auto-Regressive Integrated Moving Average.\n",
    "\n",
    "2. Cascella, M., M., R., Cuomo, A., Dulebohn, S., & Di Napoli, R. (2020). Features, Evaluation \n",
    "and Treatment Coronavirus (COVID-19). StatPEarls Publishing.\n",
    "\n",
    "3. Hilmer, S., & Tiao, G. (2012). An ARIMA-Model-Based Approach to Seasonal Adjustment.\n",
    "Hongzhou, L., Stratton, C. W., & Tang, Y.-W. (2020). Outbreak of pneumonia of unknown\n",
    "etiology in Wuhan, China: The mystery and the miracle. Journal of Medical Virology.\n",
    "\n",
    "4. Kalpakis, K., Gada, D., & Puttagunta, V. (2001). Distance Measures for Effective Clustering of \n",
    "ARIMA Time-Series.\n",
    "\n",
    "5. Kundu, L. R., Ferdous, Z., Islam, U. S., & Sultana, M. (2020). Forecasting the spread of COVID-\n",
    "19 pandemic in Bangladesh using ARIMA model.\n",
    "doi:https://doi.org/10.1101/2020.10.22.20217414\n",
    "\n",
    "6. LaViola, J. (2003). Double exponential smoothing: an alternative toKalman filter-based \n",
    "predictive tracking.\n",
    "\n",
    "7. Ljung, G., & Box, G. (1978). On a Measure of Lack of Fit in Time Series Models.\n",
    "8. Paul, R. (March 8, 2020). Reuters. Retrieved from https://www.reuters.com/article/us-health-\n",
    "coronavirus-Bangladesh/bangladesh-confirms-its-first-three-cases-of-coronavirus-idUSKBN20V0FS\n",
    "9. Singh, S., Chowdhury, C., Panja, A. K., & Neogy, S. (2021). Time Series Analysis of COVID-19 \n",
    "Data to Study the Effect of Lockdown and Unlock in India. Journal of The Institution of \n",
    "Engineers (India): Series B.\n",
    "10. Tandon, H., P., R., Chakraborty, T., & Suhag, V. (2020). Coronavirus(covid-19): Arima based \n",
    "time-series analysis to forecast the near future.\n",
    "11. Tyagi, R., Dwivedi, L., & Sanzgiri, A. (2020). Estimation of effective reproduction numbers for \n",
    "covid-19 using real-time Bayesian method for India and its states.\n",
    "12. Worldometer. (2021, January 10). Retrieved from\n",
    "https://www.worldometers.info/coronavirus/countries-where-coronavirus-has-spread/\n",
    "13. Zhu, N., Zhang, D., Wang, W., & Li, X. (2019). A Novel Coronavirus from Patients with Pneumonia in China. \n",
    "\n"
   ]
  }
 ],
 "metadata": {
  "kernelspec": {
   "display_name": "Python 3 (ipykernel)",
   "language": "python",
   "name": "python3"
  },
  "language_info": {
   "codemirror_mode": {
    "name": "ipython",
    "version": 3
   },
   "file_extension": ".py",
   "mimetype": "text/x-python",
   "name": "python",
   "nbconvert_exporter": "python",
   "pygments_lexer": "ipython3",
   "version": "3.9.7"
  }
 },
 "nbformat": 4,
 "nbformat_minor": 5
}
