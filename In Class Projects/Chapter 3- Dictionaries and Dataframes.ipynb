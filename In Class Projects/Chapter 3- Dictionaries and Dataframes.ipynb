{
 "cells": [
  {
   "cell_type": "markdown",
   "id": "af5383db",
   "metadata": {},
   "source": [
    "## Chapter 3 - Dictionaries and Dataframes"
   ]
  },
  {
   "cell_type": "markdown",
   "id": "a1585c9c",
   "metadata": {},
   "source": [
    "### Dictionaries"
   ]
  },
  {
   "cell_type": "markdown",
   "id": "bdf5d3ec",
   "metadata": {},
   "source": [
    "This in class project is going to build dictionaries. Dictionaries are datastructures that do not assume an index value for the data stored in the structure.\n",
    "Dictionaries take the general form\n",
    "my_dictionary = {key: obj}\n",
    "\n",
    "To call the object that is linked to the key.\n",
    "my_dictionary[key] will output the object, obj"
   ]
  },
  {
   "cell_type": "code",
   "execution_count": 5,
   "id": "243c18c0",
   "metadata": {},
   "outputs": [
    {
     "data": {
      "text/plain": [
       "{}"
      ]
     },
     "execution_count": 5,
     "metadata": {},
     "output_type": "execute_result"
    }
   ],
   "source": [
    "dct = {}\n",
    "dct"
   ]
  },
  {
   "cell_type": "code",
   "execution_count": null,
   "id": "d05e11ba",
   "metadata": {},
   "outputs": [],
   "source": []
  },
  {
   "cell_type": "code",
   "execution_count": 1,
   "id": "a2e03349",
   "metadata": {},
   "outputs": [
    {
     "data": {
      "text/plain": [
       "{'run': 'to move swiftly by foot', 'walk': 'to move slowly, leisurely on foot'}"
      ]
     },
     "execution_count": 1,
     "metadata": {},
     "output_type": "execute_result"
    }
   ],
   "source": [
    "dct = {\"run\": \"to move swiftly by foot\",\n",
    "      \"walk\": \"to move slowly, leisurely on foot\"}\n",
    "dct"
   ]
  },
  {
   "cell_type": "code",
   "execution_count": 2,
   "id": "ab9dbc87",
   "metadata": {},
   "outputs": [
    {
     "data": {
      "text/plain": [
       "{'run': {}, 'walk': {}}"
      ]
     },
     "execution_count": 2,
     "metadata": {},
     "output_type": "execute_result"
    }
   ],
   "source": [
    "dct = {\"run\" : {},\n",
    "      \"walk\" : {}}\n",
    "dct"
   ]
  },
  {
   "cell_type": "markdown",
   "id": "840085bc",
   "metadata": {},
   "source": [
    "Next, let's include definitions for each word as a verb and as a noun."
   ]
  },
  {
   "cell_type": "code",
   "execution_count": 3,
   "id": "bee0eeec",
   "metadata": {},
   "outputs": [
    {
     "data": {
      "text/plain": [
       "{'run': {'verb': 'to move swiftly by foot',\n",
       "  'noun': 'refers to a period of time while one was running'},\n",
       " 'walk': {'verb': 'to move slowly, leisurely by foot',\n",
       "  'noun': 'refers to a period of time while one was walking'}}"
      ]
     },
     "execution_count": 3,
     "metadata": {},
     "output_type": "execute_result"
    }
   ],
   "source": [
    "dct = {\"run\": \n",
    "       {\"verb\":\"to move swiftly by foot\", \n",
    "        \"noun\":\"refers to a period of time while one was running\"},\n",
    "       \"walk\" :\n",
    "       {\"verb\" : \"to move slowly, leisurely by foot\",\n",
    "        \"noun\": \"refers to a period of time while one was walking\"}}\n",
    "dct"
   ]
  },
  {
   "cell_type": "markdown",
   "id": "026428f0",
   "metadata": {},
   "source": [
    "Since the second layer of keys in each dictionary is the same ({\"noun\" : def, \"verb\" : def}), the dataframe will automatically index the rows as \"noun\" and \"verb\"."
   ]
  },
  {
   "cell_type": "code",
   "execution_count": 4,
   "id": "bc933113",
   "metadata": {},
   "outputs": [
    {
     "data": {
      "text/html": [
       "<div>\n",
       "<style scoped>\n",
       "    .dataframe tbody tr th:only-of-type {\n",
       "        vertical-align: middle;\n",
       "    }\n",
       "\n",
       "    .dataframe tbody tr th {\n",
       "        vertical-align: top;\n",
       "    }\n",
       "\n",
       "    .dataframe thead th {\n",
       "        text-align: right;\n",
       "    }\n",
       "</style>\n",
       "<table border=\"1\" class=\"dataframe\">\n",
       "  <thead>\n",
       "    <tr style=\"text-align: right;\">\n",
       "      <th></th>\n",
       "      <th>run</th>\n",
       "      <th>walk</th>\n",
       "    </tr>\n",
       "  </thead>\n",
       "  <tbody>\n",
       "    <tr>\n",
       "      <th>verb</th>\n",
       "      <td>to move swiftly by foot</td>\n",
       "      <td>to move slowly, leisurely by foot</td>\n",
       "    </tr>\n",
       "    <tr>\n",
       "      <th>noun</th>\n",
       "      <td>refers to a period of time while one was running</td>\n",
       "      <td>refers to a period of time while one was walking</td>\n",
       "    </tr>\n",
       "  </tbody>\n",
       "</table>\n",
       "</div>"
      ],
      "text/plain": [
       "                                                   run  \\\n",
       "verb                           to move swiftly by foot   \n",
       "noun  refers to a period of time while one was running   \n",
       "\n",
       "                                                  walk  \n",
       "verb                 to move slowly, leisurely by foot  \n",
       "noun  refers to a period of time while one was walking  "
      ]
     },
     "execution_count": 4,
     "metadata": {},
     "output_type": "execute_result"
    }
   ],
   "source": [
    "import pandas as pd\n",
    "df = pd.DataFrame(dct)\n",
    "df\n",
    "\n",
    "# (df =) is saving our Dataframe as a variable \"df\" which we\n",
    "#can call at anytime"
   ]
  },
  {
   "cell_type": "markdown",
   "id": "0bcc77bd",
   "metadata": {},
   "source": [
    "Now let's create a dictionary that references each of us."
   ]
  },
  {
   "cell_type": "code",
   "execution_count": 29,
   "id": "3e6753f2",
   "metadata": {},
   "outputs": [
    {
     "data": {
      "text/plain": [
       "{'Caden': {'Age': 19, 'Interesting Fact': 'Played Hockey'},\n",
       " 'Jacob P': {'Age': 21,\n",
       "  'Interesting Fact': 'Dr. Caton thought my last name was keterson'},\n",
       " 'Finnian': {'Age': 21, 'Interesting Fact': 'Wrestled in highschool'},\n",
       " 'Genesis': {'Age': 20, 'Interesting Fact': 'Tore both ACLs'},\n",
       " 'Sam': {'Age': 23, 'Interesting Fact': 'Favorite color is beige'},\n",
       " 'Proma': {'Age': 23,\n",
       "  'Interesting Fact': 'Learned classical dance for 10 years'},\n",
       " 'Zach': {'Age': 20, 'Interesting Fact': 'On the track and field team'},\n",
       " 'Jacob R': {'Age': 20,\n",
       "  'Interesting Fact': 'Plays classic rock on the guitar'},\n",
       " 'Brandon': {'Age': 23, 'Interesting Fact': 'Played baseball'},\n",
       " 'Gabe': {'Age': 23, 'Interesting Fact': 'a double major'},\n",
       " 'Drew': {'Age': 49, 'Interesting Fact': 'Was in Air Force'},\n",
       " 'Isaac': {'Age': 21,\n",
       "  'Interesting Fact': 'Travelling to Europe in the summer 2022'},\n",
       " 'Kodjo': {'Age': 30, 'Interesting Fact': 'Wife is a soldier'}}"
      ]
     },
     "execution_count": 29,
     "metadata": {},
     "output_type": "execute_result"
    }
   ],
   "source": [
    "dct = {\"Caden\": {\"Age\": 19,\n",
    "                \"Interesting Fact\": \"Played Hockey\"},\n",
    "       \"Jacob P\": {\"Age\": 21,\n",
    "                \"Interesting Fact\": \"Dr. Caton thought my last name was keterson\"},\n",
    "       \"Finnian\":{\"Age\": 21,\n",
    "                \"Interesting Fact\": \"Wrestled in highschool\"}, \n",
    "       \"Genesis\":{\"Age\": 20,\n",
    "                \"Interesting Fact\": \"Tore both ACLs\"},\n",
    "       \"Sam\":{\"Age\": 23,\n",
    "                \"Interesting Fact\": \"Favorite color is beige\"}, \n",
    "       \"Proma\":{\"Age\": 23,\n",
    "                \"Interesting Fact\": \"Learned classical dance for 10 years\"},\n",
    "       \"Zach\":{\"Age\": 20,\n",
    "                \"Interesting Fact\": \"On the track and field team\"}, \n",
    "       \"Jacob R\":{\"Age\": 20,\n",
    "                \"Interesting Fact\": \"Plays classic rock on the guitar\"}, \n",
    "       \"Brandon\":{\"Age\": 23,\n",
    "                \"Interesting Fact\": \"Played baseball\"},\n",
    "       \"Gabe\":{\"Age\": 23,\n",
    "                \"Interesting Fact\": \"a double major\"},\n",
    "       \"Drew\":{\"Age\": 49,\n",
    "                \"Interesting Fact\": \"Was in Air Force\"},\n",
    "       \"Isaac\":{\"Age\": 21,\n",
    "                \"Interesting Fact\": \"Travelling to Europe in the summer 2022\"},\n",
    "       \"Kodjo\":{\"Age\": 30,\n",
    "                \"Interesting Fact\": \"Wife is a soldier\"},\n",
    "      \n",
    "      }\n",
    "dct"
   ]
  },
  {
   "cell_type": "code",
   "execution_count": 31,
   "id": "7583e6ea",
   "metadata": {},
   "outputs": [
    {
     "data": {
      "text/html": [
       "<div>\n",
       "<style scoped>\n",
       "    .dataframe tbody tr th:only-of-type {\n",
       "        vertical-align: middle;\n",
       "    }\n",
       "\n",
       "    .dataframe tbody tr th {\n",
       "        vertical-align: top;\n",
       "    }\n",
       "\n",
       "    .dataframe thead th {\n",
       "        text-align: right;\n",
       "    }\n",
       "</style>\n",
       "<table border=\"1\" class=\"dataframe\">\n",
       "  <thead>\n",
       "    <tr style=\"text-align: right;\">\n",
       "      <th></th>\n",
       "      <th>Age</th>\n",
       "      <th>Interesting Fact</th>\n",
       "    </tr>\n",
       "  </thead>\n",
       "  <tbody>\n",
       "    <tr>\n",
       "      <th>Caden</th>\n",
       "      <td>19</td>\n",
       "      <td>Played Hockey</td>\n",
       "    </tr>\n",
       "    <tr>\n",
       "      <th>Jacob P</th>\n",
       "      <td>21</td>\n",
       "      <td>Dr. Caton thought my last name was keterson</td>\n",
       "    </tr>\n",
       "    <tr>\n",
       "      <th>Finnian</th>\n",
       "      <td>21</td>\n",
       "      <td>Wrestled in highschool</td>\n",
       "    </tr>\n",
       "    <tr>\n",
       "      <th>Genesis</th>\n",
       "      <td>20</td>\n",
       "      <td>Tore both ACLs</td>\n",
       "    </tr>\n",
       "    <tr>\n",
       "      <th>Sam</th>\n",
       "      <td>23</td>\n",
       "      <td>Favorite color is beige</td>\n",
       "    </tr>\n",
       "    <tr>\n",
       "      <th>Proma</th>\n",
       "      <td>23</td>\n",
       "      <td>Learned classical dance for 10 years</td>\n",
       "    </tr>\n",
       "    <tr>\n",
       "      <th>Zach</th>\n",
       "      <td>20</td>\n",
       "      <td>On the track and field team</td>\n",
       "    </tr>\n",
       "    <tr>\n",
       "      <th>Jacob R</th>\n",
       "      <td>20</td>\n",
       "      <td>Plays classic rock on the guitar</td>\n",
       "    </tr>\n",
       "    <tr>\n",
       "      <th>Brandon</th>\n",
       "      <td>23</td>\n",
       "      <td>Played baseball</td>\n",
       "    </tr>\n",
       "    <tr>\n",
       "      <th>Gabe</th>\n",
       "      <td>23</td>\n",
       "      <td>a double major</td>\n",
       "    </tr>\n",
       "    <tr>\n",
       "      <th>Drew</th>\n",
       "      <td>49</td>\n",
       "      <td>Was in Air Force</td>\n",
       "    </tr>\n",
       "    <tr>\n",
       "      <th>Isaac</th>\n",
       "      <td>21</td>\n",
       "      <td>Travelling to Europe in the summer 2022</td>\n",
       "    </tr>\n",
       "    <tr>\n",
       "      <th>Kodjo</th>\n",
       "      <td>30</td>\n",
       "      <td>Wife is a soldier</td>\n",
       "    </tr>\n",
       "  </tbody>\n",
       "</table>\n",
       "</div>"
      ],
      "text/plain": [
       "        Age                             Interesting Fact\n",
       "Caden    19                                Played Hockey\n",
       "Jacob P  21  Dr. Caton thought my last name was keterson\n",
       "Finnian  21                       Wrestled in highschool\n",
       "Genesis  20                               Tore both ACLs\n",
       "Sam      23                      Favorite color is beige\n",
       "Proma    23         Learned classical dance for 10 years\n",
       "Zach     20                  On the track and field team\n",
       "Jacob R  20             Plays classic rock on the guitar\n",
       "Brandon  23                              Played baseball\n",
       "Gabe     23                               a double major\n",
       "Drew     49                             Was in Air Force\n",
       "Isaac    21      Travelling to Europe in the summer 2022\n",
       "Kodjo    30                            Wife is a soldier"
      ]
     },
     "execution_count": 31,
     "metadata": {},
     "output_type": "execute_result"
    }
   ],
   "source": [
    "class_df = pd.DataFrame(dct). T\n",
    "class_df"
   ]
  },
  {
   "cell_type": "code",
   "execution_count": 32,
   "id": "0f4f7e92",
   "metadata": {},
   "outputs": [
    {
     "data": {
      "text/plain": [
       "Index(['Caden', 'Jacob P', 'Finnian', 'Genesis', 'Sam', 'Proma', 'Zach',\n",
       "       'Jacob R', 'Brandon', 'Gabe', 'Drew', 'Isaac', 'Kodjo'],\n",
       "      dtype='object')"
      ]
     },
     "execution_count": 32,
     "metadata": {},
     "output_type": "execute_result"
    }
   ],
   "source": [
    "class_df.index"
   ]
  },
  {
   "cell_type": "code",
   "execution_count": 33,
   "id": "1f1e2afb",
   "metadata": {},
   "outputs": [
    {
     "data": {
      "text/plain": [
       "Caden      19\n",
       "Jacob P    21\n",
       "Finnian    21\n",
       "Genesis    20\n",
       "Sam        23\n",
       "Proma      23\n",
       "Zach       20\n",
       "Jacob R    20\n",
       "Brandon    23\n",
       "Gabe       23\n",
       "Drew       49\n",
       "Isaac      21\n",
       "Kodjo      30\n",
       "Name: Age, dtype: object"
      ]
     },
     "execution_count": 33,
     "metadata": {},
     "output_type": "execute_result"
    }
   ],
   "source": [
    "class_df[\"Age\"]"
   ]
  },
  {
   "cell_type": "code",
   "execution_count": 34,
   "id": "d62ce159",
   "metadata": {},
   "outputs": [
    {
     "data": {
      "text/plain": [
       "Caden                                    Played Hockey\n",
       "Jacob P    Dr. Caton thought my last name was keterson\n",
       "Finnian                         Wrestled in highschool\n",
       "Genesis                                 Tore both ACLs\n",
       "Sam                            Favorite color is beige\n",
       "Proma             Learned classical dance for 10 years\n",
       "Zach                       On the track and field team\n",
       "Jacob R               Plays classic rock on the guitar\n",
       "Brandon                                Played baseball\n",
       "Gabe                                    a double major\n",
       "Drew                                  Was in Air Force\n",
       "Isaac          Travelling to Europe in the summer 2022\n",
       "Kodjo                                Wife is a soldier\n",
       "Name: Interesting Fact, dtype: object"
      ]
     },
     "execution_count": 34,
     "metadata": {},
     "output_type": "execute_result"
    }
   ],
   "source": [
    "class_df[\"Interesting Fact\"]"
   ]
  },
  {
   "cell_type": "code",
   "execution_count": 35,
   "id": "d318c1ce",
   "metadata": {},
   "outputs": [
    {
     "data": {
      "text/plain": [
       "{'Caden': {'Age': 19, 'Interesting Fact': 'Played Hockey'},\n",
       " 'Jacob P': {'Age': 21,\n",
       "  'Interesting Fact': 'Dr. Caton thought my last name was keterson'},\n",
       " 'Finnian': {'Age': 21, 'Interesting Fact': 'Wrestled in highschool'},\n",
       " 'Genesis': {'Age': 20, 'Interesting Fact': 'Tore both ACLs'},\n",
       " 'Sam': {'Age': 23, 'Interesting Fact': 'Favorite color is beige'},\n",
       " 'Proma': {'Age': 23,\n",
       "  'Interesting Fact': 'Learned classical dance for 10 years'},\n",
       " 'Zach': {'Age': 20, 'Interesting Fact': 'On the track and field team'},\n",
       " 'Jacob R': {'Age': 20,\n",
       "  'Interesting Fact': 'Plays classic rock on the guitar'},\n",
       " 'Brandon': {'Age': 23, 'Interesting Fact': 'Played baseball'},\n",
       " 'Gabe': {'Age': 23, 'Interesting Fact': 'a double major'},\n",
       " 'Drew': {'Age': 49, 'Interesting Fact': 'Was in Air Force'},\n",
       " 'Isaac': {'Age': 21,\n",
       "  'Interesting Fact': 'Travelling to Europe in the summer 2022'},\n",
       " 'Kodjo': {'Age': 30, 'Interesting Fact': 'Wife is a soldier'},\n",
       " 'Dr. Caton': {'Age': None, 'Intresting Fact': 'Used to ride dirtbikes'}}"
      ]
     },
     "execution_count": 35,
     "metadata": {},
     "output_type": "execute_result"
    }
   ],
   "source": [
    "dct[\"Dr. Caton\"] = {}\n",
    "dct[\"Dr. Caton\"] [\"Age\"] = None\n",
    "dct[\"Dr. Caton\"] [\"Intresting Fact\"] = \"Used to ride dirtbikes\"\n",
    "dct\n"
   ]
  },
  {
   "cell_type": "code",
   "execution_count": 36,
   "id": "464f9b5d",
   "metadata": {},
   "outputs": [],
   "source": [
    "dct[\"Faria Tabassum\"] = {\"Age\":27,\n",
    " \"Intresting Fact\":\"Learned French and Chinese\"}\n",
    " \n",
    "#Just add another (,\"Column Name\":\"Column data\") to add another Column\n"
   ]
  },
  {
   "cell_type": "code",
   "execution_count": 37,
   "id": "f41b2132",
   "metadata": {},
   "outputs": [
    {
     "data": {
      "text/html": [
       "<div>\n",
       "<style scoped>\n",
       "    .dataframe tbody tr th:only-of-type {\n",
       "        vertical-align: middle;\n",
       "    }\n",
       "\n",
       "    .dataframe tbody tr th {\n",
       "        vertical-align: top;\n",
       "    }\n",
       "\n",
       "    .dataframe thead th {\n",
       "        text-align: right;\n",
       "    }\n",
       "</style>\n",
       "<table border=\"1\" class=\"dataframe\">\n",
       "  <thead>\n",
       "    <tr style=\"text-align: right;\">\n",
       "      <th></th>\n",
       "      <th>Age</th>\n",
       "      <th>Interesting Fact</th>\n",
       "      <th>Intresting Fact</th>\n",
       "    </tr>\n",
       "  </thead>\n",
       "  <tbody>\n",
       "    <tr>\n",
       "      <th>Caden</th>\n",
       "      <td>19</td>\n",
       "      <td>Played Hockey</td>\n",
       "      <td>NaN</td>\n",
       "    </tr>\n",
       "    <tr>\n",
       "      <th>Jacob P</th>\n",
       "      <td>21</td>\n",
       "      <td>Dr. Caton thought my last name was keterson</td>\n",
       "      <td>NaN</td>\n",
       "    </tr>\n",
       "    <tr>\n",
       "      <th>Finnian</th>\n",
       "      <td>21</td>\n",
       "      <td>Wrestled in highschool</td>\n",
       "      <td>NaN</td>\n",
       "    </tr>\n",
       "    <tr>\n",
       "      <th>Genesis</th>\n",
       "      <td>20</td>\n",
       "      <td>Tore both ACLs</td>\n",
       "      <td>NaN</td>\n",
       "    </tr>\n",
       "    <tr>\n",
       "      <th>Sam</th>\n",
       "      <td>23</td>\n",
       "      <td>Favorite color is beige</td>\n",
       "      <td>NaN</td>\n",
       "    </tr>\n",
       "    <tr>\n",
       "      <th>Proma</th>\n",
       "      <td>23</td>\n",
       "      <td>Learned classical dance for 10 years</td>\n",
       "      <td>NaN</td>\n",
       "    </tr>\n",
       "    <tr>\n",
       "      <th>Zach</th>\n",
       "      <td>20</td>\n",
       "      <td>On the track and field team</td>\n",
       "      <td>NaN</td>\n",
       "    </tr>\n",
       "    <tr>\n",
       "      <th>Jacob R</th>\n",
       "      <td>20</td>\n",
       "      <td>Plays classic rock on the guitar</td>\n",
       "      <td>NaN</td>\n",
       "    </tr>\n",
       "    <tr>\n",
       "      <th>Brandon</th>\n",
       "      <td>23</td>\n",
       "      <td>Played baseball</td>\n",
       "      <td>NaN</td>\n",
       "    </tr>\n",
       "    <tr>\n",
       "      <th>Gabe</th>\n",
       "      <td>23</td>\n",
       "      <td>a double major</td>\n",
       "      <td>NaN</td>\n",
       "    </tr>\n",
       "    <tr>\n",
       "      <th>Drew</th>\n",
       "      <td>49</td>\n",
       "      <td>Was in Air Force</td>\n",
       "      <td>NaN</td>\n",
       "    </tr>\n",
       "    <tr>\n",
       "      <th>Isaac</th>\n",
       "      <td>21</td>\n",
       "      <td>Travelling to Europe in the summer 2022</td>\n",
       "      <td>NaN</td>\n",
       "    </tr>\n",
       "    <tr>\n",
       "      <th>Kodjo</th>\n",
       "      <td>30</td>\n",
       "      <td>Wife is a soldier</td>\n",
       "      <td>NaN</td>\n",
       "    </tr>\n",
       "    <tr>\n",
       "      <th>Dr. Caton</th>\n",
       "      <td>None</td>\n",
       "      <td>NaN</td>\n",
       "      <td>Used to ride dirtbikes</td>\n",
       "    </tr>\n",
       "    <tr>\n",
       "      <th>Faria Tabassum</th>\n",
       "      <td>27</td>\n",
       "      <td>NaN</td>\n",
       "      <td>Learned French and Chinese</td>\n",
       "    </tr>\n",
       "  </tbody>\n",
       "</table>\n",
       "</div>"
      ],
      "text/plain": [
       "                 Age                             Interesting Fact  \\\n",
       "Caden             19                                Played Hockey   \n",
       "Jacob P           21  Dr. Caton thought my last name was keterson   \n",
       "Finnian           21                       Wrestled in highschool   \n",
       "Genesis           20                               Tore both ACLs   \n",
       "Sam               23                      Favorite color is beige   \n",
       "Proma             23         Learned classical dance for 10 years   \n",
       "Zach              20                  On the track and field team   \n",
       "Jacob R           20             Plays classic rock on the guitar   \n",
       "Brandon           23                              Played baseball   \n",
       "Gabe              23                               a double major   \n",
       "Drew              49                             Was in Air Force   \n",
       "Isaac             21      Travelling to Europe in the summer 2022   \n",
       "Kodjo             30                            Wife is a soldier   \n",
       "Dr. Caton       None                                          NaN   \n",
       "Faria Tabassum    27                                          NaN   \n",
       "\n",
       "                           Intresting Fact  \n",
       "Caden                                  NaN  \n",
       "Jacob P                                NaN  \n",
       "Finnian                                NaN  \n",
       "Genesis                                NaN  \n",
       "Sam                                    NaN  \n",
       "Proma                                  NaN  \n",
       "Zach                                   NaN  \n",
       "Jacob R                                NaN  \n",
       "Brandon                                NaN  \n",
       "Gabe                                   NaN  \n",
       "Drew                                   NaN  \n",
       "Isaac                                  NaN  \n",
       "Kodjo                                  NaN  \n",
       "Dr. Caton           Used to ride dirtbikes  \n",
       "Faria Tabassum  Learned French and Chinese  "
      ]
     },
     "execution_count": 37,
     "metadata": {},
     "output_type": "execute_result"
    }
   ],
   "source": [
    "class_df = pd.DataFrame(dct).T\n",
    "class_df\n"
   ]
  },
  {
   "cell_type": "code",
   "execution_count": 38,
   "id": "fac20846",
   "metadata": {},
   "outputs": [
    {
     "data": {
      "text/plain": [
       "Age                 object\n",
       "Interesting Fact    object\n",
       "Intresting Fact     object\n",
       "dtype: object"
      ]
     },
     "execution_count": 38,
     "metadata": {},
     "output_type": "execute_result"
    }
   ],
   "source": [
    "class_df.dtypes\n"
   ]
  },
  {
   "cell_type": "code",
   "execution_count": 39,
   "id": "2439399e",
   "metadata": {},
   "outputs": [
    {
     "data": {
      "text/plain": [
       "{'William Nganje': {'Website': 'https://www.ndsu.edu/agecon/faculty/william_nganje/#c622350',\n",
       "  'Areas of Specialization': 'Risk management; financial analysis; economics of obesity, food safety and food terrorism; experimental economics; and consumer choice theory',\n",
       "  'Bio': 'Department Chair and Professor, Department of Agribusiness and Applied Economics, North Dakota State University, 2013 to current.'},\n",
       " 'David Bullock': {'Website': 'https://www.ndsu.edu/agecon/faculty/bullock/#c622728',\n",
       "  'Areas of Specialization': 'futures and options markets, over-the-counter derivatives, trading, risk management, agrifinance, Monte Carlo simulation, and Big Data',\n",
       "  'Bio': 'Dr. David W. Bullock is a Research Associate Professor affiliated with the Center for Trading and Risk at NDSU.  His research interests include futures and options markets, over-the-counter derivatives, trading, risk management, agrifinance, Monte Carlo simulation, and Big Data applications in agriculture.  His academic research in option portfolio theory has been published in both the Journal of Economics and Business and the International Review of Economics and Finance.  Additionally, he was the primary contributor behind the AgriBank Insights publication series which won a National AgriMarketing Association (NAMA) award for the best company publication in 2016. Before coming to NDSU in January 2018, Dr. Bullock held numerous positions for over 25 years in the government and private sectors including the Senior Economist at AgriBank FCB – the regional Farm Credit System funding bank for the Upper Midwest region, Director of Research and Senior Foods Economist at Fortune 500 commodity risk management firm INTL FCStone Inc., the Senior Dairy Analyst at Informa Economics, a Risk Management Specialist with the Minnesota Department of Agriculture, and the Senior Economist at the Minneapolis Grain Exchange. David began his academic career as an Assistant Professor and Extension Marketing Economist at Montana State University after graduating from Iowa State University with a Ph.D. in agricultural economics with fields in agricultural price analysis and econometrics in 1989.  Prior to entering ISU, he received bachelor’s (1982) and master’s (1984) degrees in agricultural economics from Northwest Missouri State University. Dr. Bullock is originally from the small northwestern Missouri farming community of Lathrop which is located 40 miles north of the Kansas City metropolitan area.  While in high school, he served as a regional state Vice-President in the Future Farmers of America (FFA) during his senior year.'},\n",
       " 'James Caton': {'Website': 'https://www.ndsu.edu/centers/pcpe/about/directory/james_caton/',\n",
       "  'Areas of Specialization': 'Entrepreneurship, Institutions, Macroeconomics, Computation',\n",
       "  'Bio': \"James Caton is a faculty fellow at the NDSU Center for the Study of Public Choice and Private Enterprise (PCPE) and an assistant professor in the NDSU Department of Agribusiness and Applied Economics. He teaches undergraduate courses in the areas of macroeconomics, international trade, and computation. He specializes in research related to entrepreneurship, agent-based computational economics, market process theory, and monetary economics. His research has been published in the Southern Economic Journal, Erasmus Journal for Philosophy and Economics, Journal of Entrepreneurship and Public Policy and other academic publications. He co-edited Macroeconomics, a two volume set of essays and primary sources that represent the core of macroeconomic thought. He is also a regular contributor to the American Institute for Economic Research's Sound Money Project, which conducts research and promotes awareness about monetary stability and financial privacy. He resides in Fargo with his wife, Ingrid, and their children.\"},\n",
       " 'David Englund': {'Website': 'https://www.ndsu.edu/agecon/faculty/englund/#c622903',\n",
       "  'Areas of Specialization': 'Teaches Economic Principles, Led NDSU NAMA to National Champions',\n",
       "  'Bio': 'David Englund is a lecturer in the department.  He came to the department with 16 years of teaching experience, having taught Principles of Microeconomics, Principles of Macroeconomics, Money and Banking, Consumer Behavior, Selected Topics in Business, and several other classes.  He also had 10 years’ experience advising student NAMA chapters, having been awarded the Outstanding Advisor of the Year for a Developing Chapter in 2002, and the Outstanding Advisor of the Year award in 2009.\\nDavid primarily teaches Survey of Economics, Principles of Microeconomics, Skills for Academic Success, Agricultural Marketing, and NAMA (co-teaches).  He joined the NAMA team in the 2014-2015 school year as a co-advisor and helped coach the student team to a 3rd place finish in the national student marketing plan competition at the national conference.\\nSome of David’s outside interests are jogging, photography, and writing fiction novels.  His latest release, Camouflaged Encounters has received positive reviews.'},\n",
       " 'Erik Hanson': {'Website': 'https://www.ndsu.edu/agecon/faculty/hanson/#c622905',\n",
       "  'Areas of Specialization': 'Ag Management, Ag Finance',\n",
       "  'Bio': 'Erik Hanson is an Assistant Professor in the Department of Agricultural and Applied Economics. He teaches courses on agribusiness management and agricultural finance. Erik completed his Ph.D. at the University of Minnesota in 2016. Prior to that, Erik completed a master’s degree at the University of Illinois (2013) and a bachelor’s degree at Minnesota State University Moorhead (2011).'},\n",
       " 'Ronald Haugen': {'Website': '', 'Areas of Specialization': '', 'Bio': ''},\n",
       " 'Robert Hearne': {'Website': '', 'Areas of Specialization': '', 'Bio': ''},\n",
       " 'Jeremy Jackson': {'Website': '', 'Areas of Specialization': '', 'Bio': ''},\n",
       " 'Siew Lim': {'Website': '', 'Areas of Specialization': '', 'Bio': ''},\n",
       " 'Raymond March': {'Website': '', 'Areas of Specialization': '', 'Bio': ''},\n",
       " 'Dragan Miljkovic': {'Website': '', 'Areas of Specialization': '', 'Bio': ''},\n",
       " 'Frayne Olson': {'Website': '', 'Areas of Specialization': '', 'Bio': ''},\n",
       " 'Bryon Parman': {'Website': '', 'Areas of Specialization': '', 'Bio': ''},\n",
       " 'Tim Petry': {'Website': '', 'Areas of Specialization': '', 'Bio': ''},\n",
       " 'Xudong Rao': {'Website': '', 'Areas of Specialization': '', 'Bio': ''},\n",
       " 'Veeshan Rayamajhee': {'Website': '',\n",
       "  'Areas of Specialization': '',\n",
       "  'Bio': ''},\n",
       " 'David Ripplinger': {'Website': '', 'Areas of Specialization': '', 'Bio': ''},\n",
       " 'David Roberts': {'Website': '', 'Areas of Specialization': '', 'Bio': ''},\n",
       " 'Kristi Schweiss': {'Website': '', 'Areas of Specialization': '', 'Bio': ''},\n",
       " 'Anupa Sharma': {'Website': '', 'Areas of Specialization': '', 'Bio': ''},\n",
       " 'Andrew Swenson': {'Website': '', 'Areas of Specialization': '', 'Bio': ''},\n",
       " 'Cheryl Wachenheim': {'Website': '',\n",
       "  'Areas of Specialization': '',\n",
       "  'Bio': ''},\n",
       " 'William Wilson': {'Website': '', 'Areas of Specialization': '', 'Bio': ''}}"
      ]
     },
     "execution_count": 39,
     "metadata": {},
     "output_type": "execute_result"
    }
   ],
   "source": [
    "faculty_dict =  {\"William Nganje\":{\"Website\":\"https://www.ndsu.edu/agecon/faculty/william_nganje/#c622350\", \n",
    "                                     \"Areas of Specialization\":\"Risk management; financial analysis; economics of obesity, food safety and food terrorism; experimental economics; and consumer choice theory\",\n",
    "                                     \"Bio\":\"Department Chair and Professor, Department of Agribusiness and Applied Economics, North Dakota State University, 2013 to current.\"},\n",
    "                 \n",
    "                 \"David Bullock\": {\"Website\":\"https://www.ndsu.edu/agecon/faculty/bullock/#c622728\",\n",
    "                                    \"Areas of Specialization\": \"futures and options markets, over-the-counter derivatives, trading, risk management, agrifinance, Monte Carlo simulation, and Big Data\",\n",
    "                                    \"Bio\":\"Dr. David W. Bullock is a Research Associate Professor affiliated with the Center for Trading and Risk at NDSU.  His research interests include futures and options markets, over-the-counter derivatives, trading, risk management, agrifinance, Monte Carlo simulation, and Big Data applications in agriculture.  His academic research in option portfolio theory has been published in both the Journal of Economics and Business and the International Review of Economics and Finance.  Additionally, he was the primary contributor behind the AgriBank Insights publication series which won a National AgriMarketing Association (NAMA) award for the best company publication in 2016. Before coming to NDSU in January 2018, Dr. Bullock held numerous positions for over 25 years in the government and private sectors including the Senior Economist at AgriBank FCB – the regional Farm Credit System funding bank for the Upper Midwest region, Director of Research and Senior Foods Economist at Fortune 500 commodity risk management firm INTL FCStone Inc., the Senior Dairy Analyst at Informa Economics, a Risk Management Specialist with the Minnesota Department of Agriculture, and the Senior Economist at the Minneapolis Grain Exchange. David began his academic career as an Assistant Professor and Extension Marketing Economist at Montana State University after graduating from Iowa State University with a Ph.D. in agricultural economics with fields in agricultural price analysis and econometrics in 1989.  Prior to entering ISU, he received bachelor’s (1982) and master’s (1984) degrees in agricultural economics from Northwest Missouri State University. Dr. Bullock is originally from the small northwestern Missouri farming community of Lathrop which is located 40 miles north of the Kansas City metropolitan area.  While in high school, he served as a regional state Vice-President in the Future Farmers of America (FFA) during his senior year.\"},\n",
    "                 \"James Caton\": {\"Website\":\"https://www.ndsu.edu/centers/pcpe/about/directory/james_caton/\",\n",
    "                                 \"Areas of Specialization\": \"Entrepreneurship, Institutions, Macroeconomics, Computation\",\n",
    "                                 \"Bio\":\"James Caton is a faculty fellow at the NDSU Center for the Study of Public Choice and Private Enterprise (PCPE) and an assistant professor in the NDSU Department of Agribusiness and Applied Economics. He teaches undergraduate courses in the areas of macroeconomics, international trade, and computation. He specializes in research related to entrepreneurship, agent-based computational economics, market process theory, and monetary economics. His research has been published in the Southern Economic Journal, Erasmus Journal for Philosophy and Economics, Journal of Entrepreneurship and Public Policy and other academic publications. He co-edited Macroeconomics, a two volume set of essays and primary sources that represent the core of macroeconomic thought. He is also a regular contributor to the American Institute for Economic Research's Sound Money Project, which conducts research and promotes awareness about monetary stability and financial privacy. He resides in Fargo with his wife, Ingrid, and their children.\"},\n",
    "                 \"David Englund\": {\"Website\":\"https://www.ndsu.edu/agecon/faculty/englund/#c622903\",\n",
    "                                 \"Areas of Specialization\": \"Teaches Economic Principles, Led NDSU NAMA to National Champions\",\n",
    "                                 \"Bio\":\"David Englund is a lecturer in the department.  He came to the department with 16 years of teaching experience, having taught Principles of Microeconomics, Principles of Macroeconomics, Money and Banking, Consumer Behavior, Selected Topics in Business, and several other classes.  He also had 10 years’ experience advising student NAMA chapters, having been awarded the Outstanding Advisor of the Year for a Developing Chapter in 2002, and the Outstanding Advisor of the Year award in 2009.\\nDavid primarily teaches Survey of Economics, Principles of Microeconomics, Skills for Academic Success, Agricultural Marketing, and NAMA (co-teaches).  He joined the NAMA team in the 2014-2015 school year as a co-advisor and helped coach the student team to a 3rd place finish in the national student marketing plan competition at the national conference.\\nSome of David’s outside interests are jogging, photography, and writing fiction novels.  His latest release, Camouflaged Encounters has received positive reviews.\"},\n",
    "                 \"Erik Hanson\": {\"Website\":\"https://www.ndsu.edu/agecon/faculty/hanson/#c622905\",\n",
    "                                 \"Areas of Specialization\": \"Ag Management, Ag Finance\",\n",
    "                                 \"Bio\":\"Erik Hanson is an Assistant Professor in the Department of Agricultural and Applied Economics. He teaches courses on agribusiness management and agricultural finance. Erik completed his Ph.D. at the University of Minnesota in 2016. Prior to that, Erik completed a master’s degree at the University of Illinois (2013) and a bachelor’s degree at Minnesota State University Moorhead (2011).\"},\n",
    "                 \"Ronald Haugen\": {\"Website\":\"\",\n",
    "                                 \"Areas of Specialization\": \"\",\n",
    "                                 \"Bio\":\"\"},\n",
    "                 \"Robert Hearne\": {\"Website\":\"\",\n",
    "                                 \"Areas of Specialization\": \"\",\n",
    "                                 \"Bio\":\"\"},\n",
    "                 \"Jeremy Jackson\": {\"Website\":\"\",\n",
    "                                 \"Areas of Specialization\": \"\",\n",
    "                                 \"Bio\":\"\"},\n",
    "                 \"Siew Lim\": {\"Website\":\"\",\n",
    "                                 \"Areas of Specialization\": \"\",\n",
    "                                 \"Bio\":\"\"},\n",
    "                 \"Raymond March\": {\"Website\":\"\",\n",
    "                                 \"Areas of Specialization\": \"\",\n",
    "                                 \"Bio\":\"\"},\n",
    "                 \"Dragan Miljkovic\": {\"Website\":\"\",\n",
    "                                 \"Areas of Specialization\": \"\",\n",
    "                                 \"Bio\":\"\"},\n",
    "                 \"Frayne Olson\": {\"Website\":\"\",\n",
    "                                 \"Areas of Specialization\": \"\",\n",
    "                                 \"Bio\":\"\"},\n",
    "                 \"Bryon Parman\": {\"Website\":\"\",\n",
    "                                 \"Areas of Specialization\": \"\",\n",
    "                                 \"Bio\":\"\"},\n",
    "                 \"Tim Petry\": {\"Website\":\"\",\n",
    "                                 \"Areas of Specialization\": \"\",\n",
    "                                 \"Bio\":\"\"},\n",
    "                 \"Xudong Rao\": {\"Website\":\"\",\n",
    "                                 \"Areas of Specialization\": \"\",\n",
    "                                 \"Bio\":\"\"},\n",
    "                 \"Veeshan Rayamajhee\": {\"Website\":\"\",\n",
    "                                 \"Areas of Specialization\": \"\",\n",
    "                                 \"Bio\":\"\"},\n",
    "                 \"David Ripplinger\": {\"Website\":\"\",\n",
    "                                 \"Areas of Specialization\": \"\",\n",
    "                                 \"Bio\":\"\"},\n",
    "                 \"David Roberts\": {\"Website\":\"\",\n",
    "                                 \"Areas of Specialization\": \"\",\n",
    "                                 \"Bio\":\"\"},\n",
    "                 \"Kristi Schweiss\": {\"Website\":\"\",\n",
    "                                 \"Areas of Specialization\": \"\",\n",
    "                                 \"Bio\":\"\"},\n",
    "                 \"Anupa Sharma\": {\"Website\":\"\",\n",
    "                                 \"Areas of Specialization\": \"\",\n",
    "                                 \"Bio\":\"\"},\n",
    "                 \"Andrew Swenson\": {\"Website\":\"\",\n",
    "                                 \"Areas of Specialization\": \"\",\n",
    "                                 \"Bio\":\"\"},\n",
    "                 \"Cheryl Wachenheim\": {\"Website\":\"\",\n",
    "                                 \"Areas of Specialization\": \"\",\n",
    "                                 \"Bio\":\"\"},\n",
    "                 \"William Wilson\": {\"Website\":\"\",\n",
    "                                 \"Areas of Specialization\": \"\",\n",
    "                                 \"Bio\":\"\"},\n",
    "                }\n",
    "faculty_dict"
   ]
  },
  {
   "cell_type": "code",
   "execution_count": 40,
   "id": "9ecc3ab4",
   "metadata": {},
   "outputs": [],
   "source": [
    "faculty_df = pd.DataFrame(faculty_dict).T"
   ]
  },
  {
   "cell_type": "code",
   "execution_count": 41,
   "id": "5d915f81",
   "metadata": {},
   "outputs": [],
   "source": [
    "faculty_df.to_csv(\"facultyInfo.csv\")"
   ]
  },
  {
   "cell_type": "code",
   "execution_count": 44,
   "id": "a6b413d4",
   "metadata": {},
   "outputs": [
    {
     "data": {
      "text/plain": [
       "\"James Caton is a faculty fellow at the NDSU Center for the Study of Public Choice and Private Enterprise (PCPE) and an assistant professor in the NDSU Department of Agribusiness and Applied Economics. He teaches undergraduate courses in the areas of macroeconomics, international trade, and computation. He specializes in research related to entrepreneurship, agent-based computational economics, market process theory, and monetary economics. His research has been published in the Southern Economic Journal, Erasmus Journal for Philosophy and Economics, Journal of Entrepreneurship and Public Policy and other academic publications. He co-edited Macroeconomics, a two volume set of essays and primary sources that represent the core of macroeconomic thought. He is also a regular contributor to the American Institute for Economic Research's Sound Money Project, which conducts research and promotes awareness about monetary stability and financial privacy. He resides in Fargo with his wife, Ingrid, and their children.\""
      ]
     },
     "execution_count": 44,
     "metadata": {},
     "output_type": "execute_result"
    }
   ],
   "source": [
    "faculty_df.loc[\"James Caton\"][\"Bio\"]"
   ]
  },
  {
   "cell_type": "code",
   "execution_count": 45,
   "id": "0e9f6560",
   "metadata": {},
   "outputs": [
    {
     "data": {
      "text/plain": [
       "Index(['William Nganje', 'David Bullock', 'James Caton', 'David Englund',\n",
       "       'Erik Hanson', 'Ronald Haugen', 'Robert Hearne', 'Jeremy Jackson',\n",
       "       'Siew Lim', 'Raymond March', 'Dragan Miljkovic', 'Frayne Olson',\n",
       "       'Bryon Parman', 'Tim Petry', 'Xudong Rao', 'Veeshan Rayamajhee',\n",
       "       'David Ripplinger', 'David Roberts', 'Kristi Schweiss', 'Anupa Sharma',\n",
       "       'Andrew Swenson', 'Cheryl Wachenheim', 'William Wilson'],\n",
       "      dtype='object')"
      ]
     },
     "execution_count": 45,
     "metadata": {},
     "output_type": "execute_result"
    }
   ],
   "source": [
    "faculty_df.index"
   ]
  },
  {
   "cell_type": "code",
   "execution_count": 47,
   "id": "69098aec",
   "metadata": {},
   "outputs": [
    {
     "data": {
      "text/plain": [
       "Index(['Website', 'Areas of Specialization', 'Bio'], dtype='object')"
      ]
     },
     "execution_count": 47,
     "metadata": {},
     "output_type": "execute_result"
    }
   ],
   "source": [
    "faculty_df.keys()"
   ]
  },
  {
   "cell_type": "code",
   "execution_count": 48,
   "id": "2bf918ef",
   "metadata": {},
   "outputs": [
    {
     "data": {
      "text/plain": [
       "Website                    https://www.ndsu.edu/agecon/faculty/william_ng...\n",
       "Areas of Specialization    Risk management; financial analysis; economics...\n",
       "Bio                        Department Chair and Professor, Department of ...\n",
       "Name: William Nganje, dtype: object"
      ]
     },
     "execution_count": 48,
     "metadata": {},
     "output_type": "execute_result"
    }
   ],
   "source": [
    "faculty_df.loc[\"William Nganje\"]"
   ]
  },
  {
   "cell_type": "code",
   "execution_count": 49,
   "id": "040b7172",
   "metadata": {},
   "outputs": [
    {
     "name": "stdout",
     "output_type": "stream",
     "text": [
      "Website                    https://www.ndsu.edu/agecon/faculty/william_ng...\n",
      "Areas of Specialization    Risk management; financial analysis; economics...\n",
      "Bio                        Department Chair and Professor, Department of ...\n",
      "Name: William Nganje, dtype: object\n",
      "Website                    https://www.ndsu.edu/agecon/faculty/bullock/#c...\n",
      "Areas of Specialization    futures and options markets, over-the-counter ...\n",
      "Bio                        Dr. David W. Bullock is a Research Associate P...\n",
      "Name: David Bullock, dtype: object\n",
      "Website                    https://www.ndsu.edu/centers/pcpe/about/direct...\n",
      "Areas of Specialization    Entrepreneurship, Institutions, Macroeconomics...\n",
      "Bio                        James Caton is a faculty fellow at the NDSU Ce...\n",
      "Name: James Caton, dtype: object\n",
      "Website                    https://www.ndsu.edu/agecon/faculty/englund/#c...\n",
      "Areas of Specialization    Teaches Economic Principles, Led NDSU NAMA to ...\n",
      "Bio                        David Englund is a lecturer in the department....\n",
      "Name: David Englund, dtype: object\n",
      "Website                    https://www.ndsu.edu/agecon/faculty/hanson/#c6...\n",
      "Areas of Specialization                            Ag Management, Ag Finance\n",
      "Bio                        Erik Hanson is an Assistant Professor in the D...\n",
      "Name: Erik Hanson, dtype: object\n",
      "Website                    \n",
      "Areas of Specialization    \n",
      "Bio                        \n",
      "Name: Ronald Haugen, dtype: object\n",
      "Website                    \n",
      "Areas of Specialization    \n",
      "Bio                        \n",
      "Name: Robert Hearne, dtype: object\n",
      "Website                    \n",
      "Areas of Specialization    \n",
      "Bio                        \n",
      "Name: Jeremy Jackson, dtype: object\n",
      "Website                    \n",
      "Areas of Specialization    \n",
      "Bio                        \n",
      "Name: Siew Lim, dtype: object\n",
      "Website                    \n",
      "Areas of Specialization    \n",
      "Bio                        \n",
      "Name: Raymond March, dtype: object\n",
      "Website                    \n",
      "Areas of Specialization    \n",
      "Bio                        \n",
      "Name: Dragan Miljkovic, dtype: object\n",
      "Website                    \n",
      "Areas of Specialization    \n",
      "Bio                        \n",
      "Name: Frayne Olson, dtype: object\n",
      "Website                    \n",
      "Areas of Specialization    \n",
      "Bio                        \n",
      "Name: Bryon Parman, dtype: object\n",
      "Website                    \n",
      "Areas of Specialization    \n",
      "Bio                        \n",
      "Name: Tim Petry, dtype: object\n",
      "Website                    \n",
      "Areas of Specialization    \n",
      "Bio                        \n",
      "Name: Xudong Rao, dtype: object\n",
      "Website                    \n",
      "Areas of Specialization    \n",
      "Bio                        \n",
      "Name: Veeshan Rayamajhee, dtype: object\n",
      "Website                    \n",
      "Areas of Specialization    \n",
      "Bio                        \n",
      "Name: David Ripplinger, dtype: object\n",
      "Website                    \n",
      "Areas of Specialization    \n",
      "Bio                        \n",
      "Name: David Roberts, dtype: object\n",
      "Website                    \n",
      "Areas of Specialization    \n",
      "Bio                        \n",
      "Name: Kristi Schweiss, dtype: object\n",
      "Website                    \n",
      "Areas of Specialization    \n",
      "Bio                        \n",
      "Name: Anupa Sharma, dtype: object\n",
      "Website                    \n",
      "Areas of Specialization    \n",
      "Bio                        \n",
      "Name: Andrew Swenson, dtype: object\n",
      "Website                    \n",
      "Areas of Specialization    \n",
      "Bio                        \n",
      "Name: Cheryl Wachenheim, dtype: object\n",
      "Website                    \n",
      "Areas of Specialization    \n",
      "Bio                        \n",
      "Name: William Wilson, dtype: object\n"
     ]
    }
   ],
   "source": [
    "index = faculty_df.index\n",
    "for ix in index:\n",
    " print(faculty_df.loc[ix])\n"
   ]
  },
  {
   "cell_type": "code",
   "execution_count": 50,
   "id": "255553a6",
   "metadata": {},
   "outputs": [
    {
     "name": "stdout",
     "output_type": "stream",
     "text": [
      "Website                    https://www.ndsu.edu/agecon/faculty/william_ng...\n",
      "Areas of Specialization    Risk management; financial analysis; economics...\n",
      "Bio                        Department Chair and Professor, Department of ...\n",
      "Name: William Nganje, dtype: object\n",
      "Website                    https://www.ndsu.edu/agecon/faculty/bullock/#c...\n",
      "Areas of Specialization    futures and options markets, over-the-counter ...\n",
      "Bio                        Dr. David W. Bullock is a Research Associate P...\n",
      "Name: David Bullock, dtype: object\n",
      "Website                    https://www.ndsu.edu/centers/pcpe/about/direct...\n",
      "Areas of Specialization    Entrepreneurship, Institutions, Macroeconomics...\n",
      "Bio                        James Caton is a faculty fellow at the NDSU Ce...\n",
      "Name: James Caton, dtype: object\n",
      "Website                    https://www.ndsu.edu/agecon/faculty/englund/#c...\n",
      "Areas of Specialization    Teaches Economic Principles, Led NDSU NAMA to ...\n",
      "Bio                        David Englund is a lecturer in the department....\n",
      "Name: David Englund, dtype: object\n",
      "Website                    https://www.ndsu.edu/agecon/faculty/hanson/#c6...\n",
      "Areas of Specialization                            Ag Management, Ag Finance\n",
      "Bio                        Erik Hanson is an Assistant Professor in the D...\n",
      "Name: Erik Hanson, dtype: object\n",
      "Website                    \n",
      "Areas of Specialization    \n",
      "Bio                        \n",
      "Name: Ronald Haugen, dtype: object\n",
      "Website                    \n",
      "Areas of Specialization    \n",
      "Bio                        \n",
      "Name: Robert Hearne, dtype: object\n",
      "Website                    \n",
      "Areas of Specialization    \n",
      "Bio                        \n",
      "Name: Jeremy Jackson, dtype: object\n",
      "Website                    \n",
      "Areas of Specialization    \n",
      "Bio                        \n",
      "Name: Siew Lim, dtype: object\n",
      "Website                    \n",
      "Areas of Specialization    \n",
      "Bio                        \n",
      "Name: Raymond March, dtype: object\n",
      "Website                    \n",
      "Areas of Specialization    \n",
      "Bio                        \n",
      "Name: Dragan Miljkovic, dtype: object\n",
      "Website                    \n",
      "Areas of Specialization    \n",
      "Bio                        \n",
      "Name: Frayne Olson, dtype: object\n",
      "Website                    \n",
      "Areas of Specialization    \n",
      "Bio                        \n",
      "Name: Bryon Parman, dtype: object\n",
      "Website                    \n",
      "Areas of Specialization    \n",
      "Bio                        \n",
      "Name: Tim Petry, dtype: object\n",
      "Website                    \n",
      "Areas of Specialization    \n",
      "Bio                        \n",
      "Name: Xudong Rao, dtype: object\n",
      "Website                    \n",
      "Areas of Specialization    \n",
      "Bio                        \n",
      "Name: Veeshan Rayamajhee, dtype: object\n",
      "Website                    \n",
      "Areas of Specialization    \n",
      "Bio                        \n",
      "Name: David Ripplinger, dtype: object\n",
      "Website                    \n",
      "Areas of Specialization    \n",
      "Bio                        \n",
      "Name: David Roberts, dtype: object\n",
      "Website                    \n",
      "Areas of Specialization    \n",
      "Bio                        \n",
      "Name: Kristi Schweiss, dtype: object\n",
      "Website                    \n",
      "Areas of Specialization    \n",
      "Bio                        \n",
      "Name: Anupa Sharma, dtype: object\n",
      "Website                    \n",
      "Areas of Specialization    \n",
      "Bio                        \n",
      "Name: Andrew Swenson, dtype: object\n",
      "Website                    \n",
      "Areas of Specialization    \n",
      "Bio                        \n",
      "Name: Cheryl Wachenheim, dtype: object\n",
      "Website                    \n",
      "Areas of Specialization    \n",
      "Bio                        \n",
      "Name: William Wilson, dtype: object\n"
     ]
    }
   ],
   "source": [
    "names = faculty_df.index\n",
    "for name in names:\n",
    " print(faculty_df.loc[name])\n"
   ]
  },
  {
   "cell_type": "code",
   "execution_count": 51,
   "id": "a3ce949f",
   "metadata": {},
   "outputs": [
    {
     "data": {
      "text/plain": [
       "Index(['Website', 'Areas of Specialization', 'Bio'], dtype='object')"
      ]
     },
     "execution_count": 51,
     "metadata": {},
     "output_type": "execute_result"
    }
   ],
   "source": [
    "keys = faculty_df.keys()\n",
    "keys"
   ]
  },
  {
   "cell_type": "code",
   "execution_count": 55,
   "id": "c9c69748",
   "metadata": {},
   "outputs": [
    {
     "name": "stdout",
     "output_type": "stream",
     "text": [
      "William Nganje\n",
      "Website: \n",
      "Areas of Specialization: \n",
      "Bio: \n",
      "David Bullock\n",
      "Website: \n",
      "Areas of Specialization: \n",
      "Bio: \n",
      "James Caton\n",
      "Website: \n",
      "Areas of Specialization: \n",
      "Bio: \n",
      "David Englund\n",
      "Website: \n",
      "Areas of Specialization: \n",
      "Bio: \n",
      "Erik Hanson\n",
      "Website: \n",
      "Areas of Specialization: \n",
      "Bio: \n",
      "Ronald Haugen\n",
      "Website: \n",
      "Areas of Specialization: \n",
      "Bio: \n",
      "Robert Hearne\n",
      "Website: \n",
      "Areas of Specialization: \n",
      "Bio: \n",
      "Jeremy Jackson\n",
      "Website: \n",
      "Areas of Specialization: \n",
      "Bio: \n",
      "Siew Lim\n",
      "Website: \n",
      "Areas of Specialization: \n",
      "Bio: \n",
      "Raymond March\n",
      "Website: \n",
      "Areas of Specialization: \n",
      "Bio: \n",
      "Dragan Miljkovic\n",
      "Website: \n",
      "Areas of Specialization: \n",
      "Bio: \n",
      "Frayne Olson\n",
      "Website: \n",
      "Areas of Specialization: \n",
      "Bio: \n",
      "Bryon Parman\n",
      "Website: \n",
      "Areas of Specialization: \n",
      "Bio: \n",
      "Tim Petry\n",
      "Website: \n",
      "Areas of Specialization: \n",
      "Bio: \n",
      "Xudong Rao\n",
      "Website: \n",
      "Areas of Specialization: \n",
      "Bio: \n",
      "Veeshan Rayamajhee\n",
      "Website: \n",
      "Areas of Specialization: \n",
      "Bio: \n",
      "David Ripplinger\n",
      "Website: \n",
      "Areas of Specialization: \n",
      "Bio: \n",
      "David Roberts\n",
      "Website: \n",
      "Areas of Specialization: \n",
      "Bio: \n",
      "Kristi Schweiss\n",
      "Website: \n",
      "Areas of Specialization: \n",
      "Bio: \n",
      "Anupa Sharma\n",
      "Website: \n",
      "Areas of Specialization: \n",
      "Bio: \n",
      "Andrew Swenson\n",
      "Website: \n",
      "Areas of Specialization: \n",
      "Bio: \n",
      "Cheryl Wachenheim\n",
      "Website: \n",
      "Areas of Specialization: \n",
      "Bio: \n",
      "William Wilson\n",
      "Website: \n",
      "Areas of Specialization: \n",
      "Bio: \n",
      "\n"
     ]
    }
   ],
   "source": [
    "for names in index:\n",
    "        print(names)\n",
    "        for key in keys:\n",
    "            print(key+\":\", faculty_df.loc[name][key])\n",
    "print()"
   ]
  },
  {
   "cell_type": "code",
   "execution_count": 56,
   "id": "6ee1467b",
   "metadata": {},
   "outputs": [
    {
     "data": {
      "text/html": [
       "<div>\n",
       "<style scoped>\n",
       "    .dataframe tbody tr th:only-of-type {\n",
       "        vertical-align: middle;\n",
       "    }\n",
       "\n",
       "    .dataframe tbody tr th {\n",
       "        vertical-align: top;\n",
       "    }\n",
       "\n",
       "    .dataframe thead th {\n",
       "        text-align: right;\n",
       "    }\n",
       "</style>\n",
       "<table border=\"1\" class=\"dataframe\">\n",
       "  <thead>\n",
       "    <tr style=\"text-align: right;\">\n",
       "      <th></th>\n",
       "      <th>Website</th>\n",
       "      <th>Areas of Specialization</th>\n",
       "      <th>Bio</th>\n",
       "    </tr>\n",
       "  </thead>\n",
       "  <tbody>\n",
       "    <tr>\n",
       "      <th>William Nganje</th>\n",
       "      <td>https://www.ndsu.edu/agecon/faculty/william_ng...</td>\n",
       "      <td>Risk management; financial analysis; economics...</td>\n",
       "      <td>Department Chair and Professor, Department of ...</td>\n",
       "    </tr>\n",
       "  </tbody>\n",
       "</table>\n",
       "</div>"
      ],
      "text/plain": [
       "                                                          Website  \\\n",
       "William Nganje  https://www.ndsu.edu/agecon/faculty/william_ng...   \n",
       "\n",
       "                                          Areas of Specialization  \\\n",
       "William Nganje  Risk management; financial analysis; economics...   \n",
       "\n",
       "                                                              Bio  \n",
       "William Nganje  Department Chair and Professor, Department of ...  "
      ]
     },
     "execution_count": 56,
     "metadata": {},
     "output_type": "execute_result"
    }
   ],
   "source": [
    "faculty_df[faculty_df[\"Areas of Specialization\"].str.contains(\"Risk\")]\n"
   ]
  },
  {
   "cell_type": "code",
   "execution_count": 57,
   "id": "caf595a4",
   "metadata": {},
   "outputs": [
    {
     "data": {
      "text/html": [
       "<div>\n",
       "<style scoped>\n",
       "    .dataframe tbody tr th:only-of-type {\n",
       "        vertical-align: middle;\n",
       "    }\n",
       "\n",
       "    .dataframe tbody tr th {\n",
       "        vertical-align: top;\n",
       "    }\n",
       "\n",
       "    .dataframe thead th {\n",
       "        text-align: right;\n",
       "    }\n",
       "</style>\n",
       "<table border=\"1\" class=\"dataframe\">\n",
       "  <thead>\n",
       "    <tr style=\"text-align: right;\">\n",
       "      <th></th>\n",
       "      <th>Website</th>\n",
       "      <th>Areas of Specialization</th>\n",
       "      <th>Bio</th>\n",
       "    </tr>\n",
       "  </thead>\n",
       "  <tbody>\n",
       "    <tr>\n",
       "      <th>Jeremy Jackson</th>\n",
       "      <td></td>\n",
       "      <td></td>\n",
       "      <td></td>\n",
       "    </tr>\n",
       "    <tr>\n",
       "      <th>Raymond March</th>\n",
       "      <td></td>\n",
       "      <td></td>\n",
       "      <td></td>\n",
       "    </tr>\n",
       "    <tr>\n",
       "      <th>Veeshan Rayamajhee</th>\n",
       "      <td></td>\n",
       "      <td></td>\n",
       "      <td></td>\n",
       "    </tr>\n",
       "  </tbody>\n",
       "</table>\n",
       "</div>"
      ],
      "text/plain": [
       "                   Website Areas of Specialization Bio\n",
       "Jeremy Jackson                                        \n",
       "Raymond March                                         \n",
       "Veeshan Rayamajhee                                    "
      ]
     },
     "execution_count": 57,
     "metadata": {},
     "output_type": "execute_result"
    }
   ],
   "source": [
    "names = [\"Jeremy Jackson\", \"Raymond March\", \"Veeshan Rayamajhee\"]\n",
    "faculty_df[faculty_df.index.isin(names)]"
   ]
  },
  {
   "cell_type": "code",
   "execution_count": 58,
   "id": "a66101d8",
   "metadata": {},
   "outputs": [
    {
     "data": {
      "text/plain": [
       "True"
      ]
     },
     "execution_count": 58,
     "metadata": {},
     "output_type": "execute_result"
    }
   ],
   "source": [
    "list = [\"a\", \"b\", \"c\"]\n",
    "\"a\" in list"
   ]
  }
 ],
 "metadata": {
  "kernelspec": {
   "display_name": "Python 3",
   "language": "python",
   "name": "python3"
  },
  "language_info": {
   "codemirror_mode": {
    "name": "ipython",
    "version": 3
   },
   "file_extension": ".py",
   "mimetype": "text/x-python",
   "name": "python",
   "nbconvert_exporter": "python",
   "pygments_lexer": "ipython3",
   "version": "3.8.8"
  }
 },
 "nbformat": 4,
 "nbformat_minor": 5
}
