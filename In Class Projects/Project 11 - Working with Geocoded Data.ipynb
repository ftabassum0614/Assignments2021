{
 "cells": [
  {
   "cell_type": "markdown",
   "id": "e9e6b0ce",
   "metadata": {},
   "source": [
    "## Project 11 - Working with Geocoded Data\n"
   ]
  },
  {
   "cell_type": "code",
   "execution_count": 3,
   "id": "3fa5db26",
   "metadata": {},
   "outputs": [
    {
     "name": "stdout",
     "output_type": "stream",
     "text": [
      "Processing c:\\users\\faria\\gitrepositories\\assignments2021\\in class projects\\gdal-3.1.4-cp38-cp38-win_amd64.whl\n"
     ]
    },
    {
     "name": "stderr",
     "output_type": "stream",
     "text": [
      "WARNING: Requirement 'GDAL-3.1.4-cp38-cp38-win_amd64.whl' looks like a filename, but the file does not exist\n",
      "ERROR: Could not install packages due to an OSError: [Errno 2] No such file or directory: 'C:\\\\Users\\\\faria\\\\GitRepositories\\\\Assignments2021\\\\In Class Projects\\\\GDAL-3.1.4-cp38-cp38-win_amd64.whl'\n",
      "\n"
     ]
    },
    {
     "name": "stdout",
     "output_type": "stream",
     "text": [
      "Processing c:\\users\\faria\\gitrepositories\\assignments2021\\in class projects\\fiona-1.8.17-cp38-cp38-win_amd64.whl\n"
     ]
    },
    {
     "name": "stderr",
     "output_type": "stream",
     "text": [
      "WARNING: Requirement 'Fiona-1.8.17-cp38-cp38-win_amd64.whl' looks like a filename, but the file does not exist\n",
      "ERROR: Could not install packages due to an OSError: [Errno 2] No such file or directory: 'C:\\\\Users\\\\faria\\\\GitRepositories\\\\Assignments2021\\\\In Class Projects\\\\Fiona-1.8.17-cp38-cp38-win_amd64.whl'\n",
      "\n"
     ]
    },
    {
     "name": "stdout",
     "output_type": "stream",
     "text": [
      "Processing c:\\users\\faria\\gitrepositories\\assignments2021\\in class projects\\shapely-1.7.1-cp38-cp38-win_amd64.whl\n"
     ]
    },
    {
     "name": "stderr",
     "output_type": "stream",
     "text": [
      "WARNING: Requirement 'Shapely-1.7.1-cp38-cp38-win_amd64.whl' looks like a filename, but the file does not exist\n",
      "ERROR: Could not install packages due to an OSError: [Errno 2] No such file or directory: 'C:\\\\Users\\\\faria\\\\GitRepositories\\\\Assignments2021\\\\In Class Projects\\\\Shapely-1.7.1-cp38-cp38-win_amd64.whl'\n",
      "\n"
     ]
    },
    {
     "name": "stdout",
     "output_type": "stream",
     "text": [
      "Collecting geopandas\n",
      "  Using cached geopandas-0.10.2-py2.py3-none-any.whl (1.0 MB)\n",
      "Requirement already satisfied: pandas>=0.25.0 in c:\\users\\faria\\anaconda3\\lib\\site-packages (from geopandas) (1.2.4)\n",
      "Requirement already satisfied: shapely>=1.6 in c:\\users\\faria\\anaconda3\\lib\\site-packages (from geopandas) (1.8.0)\n",
      "Collecting fiona>=1.8\n",
      "  Using cached Fiona-1.8.20.tar.gz (1.3 MB)\n",
      "  Using cached Fiona-1.8.19.tar.gz (1.3 MB)\n",
      "  Using cached Fiona-1.8.18.tar.gz (1.3 MB)\n",
      "  Using cached Fiona-1.8.17.tar.gz (1.3 MB)\n",
      "  Using cached Fiona-1.8.16.tar.gz (1.3 MB)\n",
      "  Using cached Fiona-1.8.15.tar.gz (1.3 MB)\n",
      "  Using cached Fiona-1.8.14.tar.gz (1.3 MB)\n",
      "  Using cached Fiona-1.8.13.post1.tar.gz (1.2 MB)\n",
      "  Using cached Fiona-1.8.13.tar.gz (1.2 MB)\n",
      "  Using cached Fiona-1.8.12.tar.gz (1.2 MB)\n",
      "  Using cached Fiona-1.8.11.tar.gz (1.2 MB)\n",
      "  Using cached Fiona-1.8.10.tar.gz (1.2 MB)\n",
      "  Using cached Fiona-1.8.9.post2.tar.gz (1.2 MB)\n",
      "  Using cached Fiona-1.8.9.post1.tar.gz (1.2 MB)\n",
      "  Using cached Fiona-1.8.9.tar.gz (1.2 MB)\n",
      "  Using cached Fiona-1.8.8.tar.gz (1.7 MB)\n",
      "  Using cached Fiona-1.8.7.tar.gz (1.7 MB)\n",
      "  Using cached Fiona-1.8.6.tar.gz (1.7 MB)\n",
      "  Using cached Fiona-1.8.5.tar.gz (1.7 MB)\n",
      "  Using cached Fiona-1.8.4.tar.gz (1.1 MB)\n",
      "  Using cached Fiona-1.8.3.tar.gz (1.1 MB)\n",
      "  Using cached Fiona-1.8.2.tar.gz (1.2 MB)\n"
     ]
    },
    {
     "name": "stderr",
     "output_type": "stream",
     "text": [
      "    ERROR: Command errored out with exit status 1:\n",
      "     command: 'C:\\Users\\faria\\anaconda3\\python.exe' -c 'import sys, setuptools, tokenize; sys.argv[0] = '\"'\"'C:\\\\Users\\\\faria\\\\AppData\\\\Local\\\\Temp\\\\pip-install-_saom_oc\\\\fiona_023d178de4fd46b1a246acd28a24c4a3\\\\setup.py'\"'\"'; __file__='\"'\"'C:\\\\Users\\\\faria\\\\AppData\\\\Local\\\\Temp\\\\pip-install-_saom_oc\\\\fiona_023d178de4fd46b1a246acd28a24c4a3\\\\setup.py'\"'\"';f=getattr(tokenize, '\"'\"'open'\"'\"', open)(__file__);code=f.read().replace('\"'\"'\\r\\n'\"'\"', '\"'\"'\\n'\"'\"');f.close();exec(compile(code, __file__, '\"'\"'exec'\"'\"'))' egg_info --egg-base 'C:\\Users\\faria\\AppData\\Local\\Temp\\pip-pip-egg-info-f9kba97k'\n",
      "         cwd: C:\\Users\\faria\\AppData\\Local\\Temp\\pip-install-_saom_oc\\fiona_023d178de4fd46b1a246acd28a24c4a3\\\n",
      "    Complete output (1 lines):\n",
      "    A GDAL API version must be specified. Provide a path to gdal-config using a GDAL_CONFIG environment variable or use a GDAL_VERSION environment variable.\n",
      "    ----------------------------------------\n",
      "WARNING: Discarding https://files.pythonhosted.org/packages/ec/f7/093890341a7e8fbfcdfa04caf4dfb588ebab32c13ceaa6a3819da79ea106/Fiona-1.8.20.tar.gz#sha256=a70502d2857b82f749c09cb0dea3726787747933a2a1599b5ab787d74e3c143b (from https://pypi.org/simple/fiona/). Command errored out with exit status 1: python setup.py egg_info Check the logs for full command output.\n",
      "    ERROR: Command errored out with exit status 1:\n",
      "     command: 'C:\\Users\\faria\\anaconda3\\python.exe' -c 'import sys, setuptools, tokenize; sys.argv[0] = '\"'\"'C:\\\\Users\\\\faria\\\\AppData\\\\Local\\\\Temp\\\\pip-install-_saom_oc\\\\fiona_70f075e7b5774e0c8cb77ac3992f9d6d\\\\setup.py'\"'\"'; __file__='\"'\"'C:\\\\Users\\\\faria\\\\AppData\\\\Local\\\\Temp\\\\pip-install-_saom_oc\\\\fiona_70f075e7b5774e0c8cb77ac3992f9d6d\\\\setup.py'\"'\"';f=getattr(tokenize, '\"'\"'open'\"'\"', open)(__file__);code=f.read().replace('\"'\"'\\r\\n'\"'\"', '\"'\"'\\n'\"'\"');f.close();exec(compile(code, __file__, '\"'\"'exec'\"'\"'))' egg_info --egg-base 'C:\\Users\\faria\\AppData\\Local\\Temp\\pip-pip-egg-info-pogqk8k0'\n",
      "         cwd: C:\\Users\\faria\\AppData\\Local\\Temp\\pip-install-_saom_oc\\fiona_70f075e7b5774e0c8cb77ac3992f9d6d\\\n",
      "    Complete output (1 lines):\n",
      "    A GDAL API version must be specified. Provide a path to gdal-config using a GDAL_CONFIG environment variable or use a GDAL_VERSION environment variable.\n",
      "    ----------------------------------------\n",
      "WARNING: Discarding https://files.pythonhosted.org/packages/a0/d9/6042aeb073d11341f7726de0586ff71c13117c34959dcf07bd4ee6d4b93e/Fiona-1.8.19.tar.gz#sha256=b9059e0b29c2e9e6b817e53f941e77e1aca7075f986005d38db307067b60458f (from https://pypi.org/simple/fiona/). Command errored out with exit status 1: python setup.py egg_info Check the logs for full command output.\n",
      "    ERROR: Command errored out with exit status 1:\n",
      "     command: 'C:\\Users\\faria\\anaconda3\\python.exe' -c 'import sys, setuptools, tokenize; sys.argv[0] = '\"'\"'C:\\\\Users\\\\faria\\\\AppData\\\\Local\\\\Temp\\\\pip-install-_saom_oc\\\\fiona_61fc1407992c4cb198a6bd9e3f648fa4\\\\setup.py'\"'\"'; __file__='\"'\"'C:\\\\Users\\\\faria\\\\AppData\\\\Local\\\\Temp\\\\pip-install-_saom_oc\\\\fiona_61fc1407992c4cb198a6bd9e3f648fa4\\\\setup.py'\"'\"';f=getattr(tokenize, '\"'\"'open'\"'\"', open)(__file__);code=f.read().replace('\"'\"'\\r\\n'\"'\"', '\"'\"'\\n'\"'\"');f.close();exec(compile(code, __file__, '\"'\"'exec'\"'\"'))' egg_info --egg-base 'C:\\Users\\faria\\AppData\\Local\\Temp\\pip-pip-egg-info-s_mtmyce'\n",
      "         cwd: C:\\Users\\faria\\AppData\\Local\\Temp\\pip-install-_saom_oc\\fiona_61fc1407992c4cb198a6bd9e3f648fa4\\\n",
      "    Complete output (1 lines):\n",
      "    A GDAL API version must be specified. Provide a path to gdal-config using a GDAL_CONFIG environment variable or use a GDAL_VERSION environment variable.\n",
      "    ----------------------------------------\n",
      "WARNING: Discarding https://files.pythonhosted.org/packages/9f/e8/401cdaa58d862a25c4b3365acf7d2bd7ac77191e3dc9acdcdac0eff20ff0/Fiona-1.8.18.tar.gz#sha256=b732ece0ff8886a29c439723a3e1fc382718804bb057519d537a81308854967a (from https://pypi.org/simple/fiona/). Command errored out with exit status 1: python setup.py egg_info Check the logs for full command output.\n",
      "    ERROR: Command errored out with exit status 1:\n",
      "     command: 'C:\\Users\\faria\\anaconda3\\python.exe' -c 'import sys, setuptools, tokenize; sys.argv[0] = '\"'\"'C:\\\\Users\\\\faria\\\\AppData\\\\Local\\\\Temp\\\\pip-install-_saom_oc\\\\fiona_5035e5d1ddd2408693cc1ad68a5a4f4f\\\\setup.py'\"'\"'; __file__='\"'\"'C:\\\\Users\\\\faria\\\\AppData\\\\Local\\\\Temp\\\\pip-install-_saom_oc\\\\fiona_5035e5d1ddd2408693cc1ad68a5a4f4f\\\\setup.py'\"'\"';f=getattr(tokenize, '\"'\"'open'\"'\"', open)(__file__);code=f.read().replace('\"'\"'\\r\\n'\"'\"', '\"'\"'\\n'\"'\"');f.close();exec(compile(code, __file__, '\"'\"'exec'\"'\"'))' egg_info --egg-base 'C:\\Users\\faria\\AppData\\Local\\Temp\\pip-pip-egg-info-ffosw2bc'\n",
      "         cwd: C:\\Users\\faria\\AppData\\Local\\Temp\\pip-install-_saom_oc\\fiona_5035e5d1ddd2408693cc1ad68a5a4f4f\\\n",
      "    Complete output (1 lines):\n",
      "    A GDAL API version must be specified. Provide a path to gdal-config using a GDAL_CONFIG environment variable or use a GDAL_VERSION environment variable.\n",
      "    ----------------------------------------\n",
      "WARNING: Discarding https://files.pythonhosted.org/packages/88/62/69347ba2c41b526e1953c4cb66d51170b2869808863c03af202ba0121670/Fiona-1.8.17.tar.gz#sha256=716201c21246587f374785bec6d6a20a984fe1f6c2b0e83bf15127eb8f724d0c (from https://pypi.org/simple/fiona/). Command errored out with exit status 1: python setup.py egg_info Check the logs for full command output.\n",
      "    ERROR: Command errored out with exit status 1:\n",
      "     command: 'C:\\Users\\faria\\anaconda3\\python.exe' -c 'import sys, setuptools, tokenize; sys.argv[0] = '\"'\"'C:\\\\Users\\\\faria\\\\AppData\\\\Local\\\\Temp\\\\pip-install-_saom_oc\\\\fiona_010ed13ba7414bb89fd6d5ef59469c54\\\\setup.py'\"'\"'; __file__='\"'\"'C:\\\\Users\\\\faria\\\\AppData\\\\Local\\\\Temp\\\\pip-install-_saom_oc\\\\fiona_010ed13ba7414bb89fd6d5ef59469c54\\\\setup.py'\"'\"';f=getattr(tokenize, '\"'\"'open'\"'\"', open)(__file__);code=f.read().replace('\"'\"'\\r\\n'\"'\"', '\"'\"'\\n'\"'\"');f.close();exec(compile(code, __file__, '\"'\"'exec'\"'\"'))' egg_info --egg-base 'C:\\Users\\faria\\AppData\\Local\\Temp\\pip-pip-egg-info-vxf0ogzp'\n",
      "         cwd: C:\\Users\\faria\\AppData\\Local\\Temp\\pip-install-_saom_oc\\fiona_010ed13ba7414bb89fd6d5ef59469c54\\\n",
      "    Complete output (1 lines):\n",
      "    A GDAL API version must be specified. Provide a path to gdal-config using a GDAL_CONFIG environment variable or use a GDAL_VERSION environment variable.\n",
      "    ----------------------------------------\n",
      "WARNING: Discarding https://files.pythonhosted.org/packages/1e/60/dfc6115a11338d8aa96cacd8c60635223d9c97d61d556c90acc5dfd663fa/Fiona-1.8.16.tar.gz#sha256=fd6dfb65959becc916e9f6928618bfd59c16cdbc413ece0fbac61489cd11255f (from https://pypi.org/simple/fiona/). Command errored out with exit status 1: python setup.py egg_info Check the logs for full command output.\n",
      "    ERROR: Command errored out with exit status 1:\n",
      "     command: 'C:\\Users\\faria\\anaconda3\\python.exe' -c 'import sys, setuptools, tokenize; sys.argv[0] = '\"'\"'C:\\\\Users\\\\faria\\\\AppData\\\\Local\\\\Temp\\\\pip-install-_saom_oc\\\\fiona_855f2dc00e794e499ce97d443b2968f1\\\\setup.py'\"'\"'; __file__='\"'\"'C:\\\\Users\\\\faria\\\\AppData\\\\Local\\\\Temp\\\\pip-install-_saom_oc\\\\fiona_855f2dc00e794e499ce97d443b2968f1\\\\setup.py'\"'\"';f=getattr(tokenize, '\"'\"'open'\"'\"', open)(__file__);code=f.read().replace('\"'\"'\\r\\n'\"'\"', '\"'\"'\\n'\"'\"');f.close();exec(compile(code, __file__, '\"'\"'exec'\"'\"'))' egg_info --egg-base 'C:\\Users\\faria\\AppData\\Local\\Temp\\pip-pip-egg-info-dooz54d6'\n",
      "         cwd: C:\\Users\\faria\\AppData\\Local\\Temp\\pip-install-_saom_oc\\fiona_855f2dc00e794e499ce97d443b2968f1\\\n",
      "    Complete output (1 lines):\n",
      "    A GDAL API version must be specified. Provide a path to gdal-config using a GDAL_CONFIG environment variable or use a GDAL_VERSION environment variable.\n",
      "    ----------------------------------------\n",
      "WARNING: Discarding https://files.pythonhosted.org/packages/55/2f/17450ec2c8fcc720a8a3e4d9a383499508475c7cfb90f7eca9fb585ac598/Fiona-1.8.15.tar.gz#sha256=3b1c9b5c834fae2fe947cfaea176db890bc6750d1a6ba9f54d969c19ffcd191e (from https://pypi.org/simple/fiona/). Command errored out with exit status 1: python setup.py egg_info Check the logs for full command output.\n",
      "    ERROR: Command errored out with exit status 1:\n",
      "     command: 'C:\\Users\\faria\\anaconda3\\python.exe' -c 'import sys, setuptools, tokenize; sys.argv[0] = '\"'\"'C:\\\\Users\\\\faria\\\\AppData\\\\Local\\\\Temp\\\\pip-install-_saom_oc\\\\fiona_e1e601d9bca24b629f96cf9bfa60ec56\\\\setup.py'\"'\"'; __file__='\"'\"'C:\\\\Users\\\\faria\\\\AppData\\\\Local\\\\Temp\\\\pip-install-_saom_oc\\\\fiona_e1e601d9bca24b629f96cf9bfa60ec56\\\\setup.py'\"'\"';f=getattr(tokenize, '\"'\"'open'\"'\"', open)(__file__);code=f.read().replace('\"'\"'\\r\\n'\"'\"', '\"'\"'\\n'\"'\"');f.close();exec(compile(code, __file__, '\"'\"'exec'\"'\"'))' egg_info --egg-base 'C:\\Users\\faria\\AppData\\Local\\Temp\\pip-pip-egg-info-ym77yz4x'\n",
      "         cwd: C:\\Users\\faria\\AppData\\Local\\Temp\\pip-install-_saom_oc\\fiona_e1e601d9bca24b629f96cf9bfa60ec56\\\n",
      "    Complete output (1 lines):\n",
      "    A GDAL API version must be specified. Provide a path to gdal-config using a GDAL_CONFIG environment variable or use a GDAL_VERSION environment variable.\n",
      "    ----------------------------------------\n",
      "WARNING: Discarding https://files.pythonhosted.org/packages/5c/fd/5ec54f2d9b3d5dd23dd443fad5630d6b872e2664814c68b856c47e0d65af/Fiona-1.8.14.tar.gz#sha256=6eac038206c89d2cf5f99ea38b81cc228dc21eac5f47870a9a32d453b0007f4d (from https://pypi.org/simple/fiona/). Command errored out with exit status 1: python setup.py egg_info Check the logs for full command output.\n",
      "    ERROR: Command errored out with exit status 1:\n",
      "     command: 'C:\\Users\\faria\\anaconda3\\python.exe' -c 'import sys, setuptools, tokenize; sys.argv[0] = '\"'\"'C:\\\\Users\\\\faria\\\\AppData\\\\Local\\\\Temp\\\\pip-install-_saom_oc\\\\fiona_4018a638b7a9413c95a5389427389fcb\\\\setup.py'\"'\"'; __file__='\"'\"'C:\\\\Users\\\\faria\\\\AppData\\\\Local\\\\Temp\\\\pip-install-_saom_oc\\\\fiona_4018a638b7a9413c95a5389427389fcb\\\\setup.py'\"'\"';f=getattr(tokenize, '\"'\"'open'\"'\"', open)(__file__);code=f.read().replace('\"'\"'\\r\\n'\"'\"', '\"'\"'\\n'\"'\"');f.close();exec(compile(code, __file__, '\"'\"'exec'\"'\"'))' egg_info --egg-base 'C:\\Users\\faria\\AppData\\Local\\Temp\\pip-pip-egg-info-vxyvu6h7'\n",
      "         cwd: C:\\Users\\faria\\AppData\\Local\\Temp\\pip-install-_saom_oc\\fiona_4018a638b7a9413c95a5389427389fcb\\\n",
      "    Complete output (1 lines):\n",
      "    A GDAL API version must be specified. Provide a path to gdal-config using a GDAL_CONFIG environment variable or use a GDAL_VERSION environment variable.\n",
      "    ----------------------------------------\n",
      "WARNING: Discarding https://files.pythonhosted.org/packages/6d/42/f4a7cac53b28fa70e9a93d0e89a24d33e14826dad6644b699362ad84dde0/Fiona-1.8.13.post1.tar.gz#sha256=1a432bf9fd56f089256c010da009c90d4a795c531a848132c965052185336600 (from https://pypi.org/simple/fiona/). Command errored out with exit status 1: python setup.py egg_info Check the logs for full command output.\n",
      "    ERROR: Command errored out with exit status 1:\n",
      "     command: 'C:\\Users\\faria\\anaconda3\\python.exe' -c 'import sys, setuptools, tokenize; sys.argv[0] = '\"'\"'C:\\\\Users\\\\faria\\\\AppData\\\\Local\\\\Temp\\\\pip-install-_saom_oc\\\\fiona_9dc5ebb215e84abb843b6c45e9060f6d\\\\setup.py'\"'\"'; __file__='\"'\"'C:\\\\Users\\\\faria\\\\AppData\\\\Local\\\\Temp\\\\pip-install-_saom_oc\\\\fiona_9dc5ebb215e84abb843b6c45e9060f6d\\\\setup.py'\"'\"';f=getattr(tokenize, '\"'\"'open'\"'\"', open)(__file__);code=f.read().replace('\"'\"'\\r\\n'\"'\"', '\"'\"'\\n'\"'\"');f.close();exec(compile(code, __file__, '\"'\"'exec'\"'\"'))' egg_info --egg-base 'C:\\Users\\faria\\AppData\\Local\\Temp\\pip-pip-egg-info-8t8pwjju'\n",
      "         cwd: C:\\Users\\faria\\AppData\\Local\\Temp\\pip-install-_saom_oc\\fiona_9dc5ebb215e84abb843b6c45e9060f6d\\\n",
      "    Complete output (1 lines):\n",
      "    A GDAL API version must be specified. Provide a path to gdal-config using a GDAL_CONFIG environment variable or use a GDAL_VERSION environment variable.\n",
      "    ----------------------------------------\n",
      "WARNING: Discarding https://files.pythonhosted.org/packages/be/04/31d0a6f03943b1684f32c9b861be40c1fd282468fa6bd54ddf4a774e6b0f/Fiona-1.8.13.tar.gz#sha256=5ec34898c8b983a723fb4e949dd3e0ed7e691c303e51f6bfd61e52ac9ac813ae (from https://pypi.org/simple/fiona/). Command errored out with exit status 1: python setup.py egg_info Check the logs for full command output.\n",
      "    ERROR: Command errored out with exit status 1:\n",
      "     command: 'C:\\Users\\faria\\anaconda3\\python.exe' -c 'import sys, setuptools, tokenize; sys.argv[0] = '\"'\"'C:\\\\Users\\\\faria\\\\AppData\\\\Local\\\\Temp\\\\pip-install-_saom_oc\\\\fiona_58c8980e8c504b60b5f7b4bbc6095c5a\\\\setup.py'\"'\"'; __file__='\"'\"'C:\\\\Users\\\\faria\\\\AppData\\\\Local\\\\Temp\\\\pip-install-_saom_oc\\\\fiona_58c8980e8c504b60b5f7b4bbc6095c5a\\\\setup.py'\"'\"';f=getattr(tokenize, '\"'\"'open'\"'\"', open)(__file__);code=f.read().replace('\"'\"'\\r\\n'\"'\"', '\"'\"'\\n'\"'\"');f.close();exec(compile(code, __file__, '\"'\"'exec'\"'\"'))' egg_info --egg-base 'C:\\Users\\faria\\AppData\\Local\\Temp\\pip-pip-egg-info-c9u83xqb'\n",
      "         cwd: C:\\Users\\faria\\AppData\\Local\\Temp\\pip-install-_saom_oc\\fiona_58c8980e8c504b60b5f7b4bbc6095c5a\\\n",
      "    Complete output (1 lines):\n",
      "    A GDAL API version must be specified. Provide a path to gdal-config using a GDAL_CONFIG environment variable or use a GDAL_VERSION environment variable.\n",
      "    ----------------------------------------\n",
      "WARNING: Discarding https://files.pythonhosted.org/packages/97/d8/feab39987296437fbdc3029fb39752a14355d217d73b93471010b8dd63a3/Fiona-1.8.12.tar.gz#sha256=c9266ddf6ae2a64fcea20014ddf27f800ac07584f2fdb09c2a02f3b3a52e371c (from https://pypi.org/simple/fiona/). Command errored out with exit status 1: python setup.py egg_info Check the logs for full command output.\n",
      "    ERROR: Command errored out with exit status 1:\n",
      "     command: 'C:\\Users\\faria\\anaconda3\\python.exe' -c 'import sys, setuptools, tokenize; sys.argv[0] = '\"'\"'C:\\\\Users\\\\faria\\\\AppData\\\\Local\\\\Temp\\\\pip-install-_saom_oc\\\\fiona_f7e48808307245579dc55e35126d0a15\\\\setup.py'\"'\"'; __file__='\"'\"'C:\\\\Users\\\\faria\\\\AppData\\\\Local\\\\Temp\\\\pip-install-_saom_oc\\\\fiona_f7e48808307245579dc55e35126d0a15\\\\setup.py'\"'\"';f=getattr(tokenize, '\"'\"'open'\"'\"', open)(__file__);code=f.read().replace('\"'\"'\\r\\n'\"'\"', '\"'\"'\\n'\"'\"');f.close();exec(compile(code, __file__, '\"'\"'exec'\"'\"'))' egg_info --egg-base 'C:\\Users\\faria\\AppData\\Local\\Temp\\pip-pip-egg-info-dhs4n_kv'\n",
      "         cwd: C:\\Users\\faria\\AppData\\Local\\Temp\\pip-install-_saom_oc\\fiona_f7e48808307245579dc55e35126d0a15\\\n",
      "    Complete output (1 lines):\n",
      "    A GDAL API version must be specified. Provide a path to gdal-config using a GDAL_CONFIG environment variable or use a GDAL_VERSION environment variable.\n",
      "    ----------------------------------------\n",
      "WARNING: Discarding https://files.pythonhosted.org/packages/9d/f4/0a0ddc6174c4a93679b5f1dd3535e7ef8989828e6d5f86112de681f8c87b/Fiona-1.8.11.tar.gz#sha256=1e7ca9e051f5bffa1c43c70d573da9ca223fc076b84fa73380614fc02b9eb7f6 (from https://pypi.org/simple/fiona/). Command errored out with exit status 1: python setup.py egg_info Check the logs for full command output.\n",
      "    ERROR: Command errored out with exit status 1:\n",
      "     command: 'C:\\Users\\faria\\anaconda3\\python.exe' -c 'import sys, setuptools, tokenize; sys.argv[0] = '\"'\"'C:\\\\Users\\\\faria\\\\AppData\\\\Local\\\\Temp\\\\pip-install-_saom_oc\\\\fiona_6e6cee839c40457e9ecd21f4c0d2542a\\\\setup.py'\"'\"'; __file__='\"'\"'C:\\\\Users\\\\faria\\\\AppData\\\\Local\\\\Temp\\\\pip-install-_saom_oc\\\\fiona_6e6cee839c40457e9ecd21f4c0d2542a\\\\setup.py'\"'\"';f=getattr(tokenize, '\"'\"'open'\"'\"', open)(__file__);code=f.read().replace('\"'\"'\\r\\n'\"'\"', '\"'\"'\\n'\"'\"');f.close();exec(compile(code, __file__, '\"'\"'exec'\"'\"'))' egg_info --egg-base 'C:\\Users\\faria\\AppData\\Local\\Temp\\pip-pip-egg-info-1wrxx46b'\n",
      "         cwd: C:\\Users\\faria\\AppData\\Local\\Temp\\pip-install-_saom_oc\\fiona_6e6cee839c40457e9ecd21f4c0d2542a\\\n",
      "    Complete output (1 lines):\n",
      "    A GDAL API version must be specified. Provide a path to gdal-config using a GDAL_CONFIG environment variable or use a GDAL_VERSION environment variable.\n",
      "    ----------------------------------------\n",
      "WARNING: Discarding https://files.pythonhosted.org/packages/13/73/f80b491ed8559326fab202a6d6333a3cd6e8be1e9d782bc6c0d03d476457/Fiona-1.8.10.tar.gz#sha256=ff562eb2f3960e21f8c7f050ddd7f47a763869ea14afc2234a40df72666c6a2c (from https://pypi.org/simple/fiona/). Command errored out with exit status 1: python setup.py egg_info Check the logs for full command output.\n",
      "    ERROR: Command errored out with exit status 1:\n",
      "     command: 'C:\\Users\\faria\\anaconda3\\python.exe' -c 'import sys, setuptools, tokenize; sys.argv[0] = '\"'\"'C:\\\\Users\\\\faria\\\\AppData\\\\Local\\\\Temp\\\\pip-install-_saom_oc\\\\fiona_8a4053d12f2344f09ca8b45509f59de8\\\\setup.py'\"'\"'; __file__='\"'\"'C:\\\\Users\\\\faria\\\\AppData\\\\Local\\\\Temp\\\\pip-install-_saom_oc\\\\fiona_8a4053d12f2344f09ca8b45509f59de8\\\\setup.py'\"'\"';f=getattr(tokenize, '\"'\"'open'\"'\"', open)(__file__);code=f.read().replace('\"'\"'\\r\\n'\"'\"', '\"'\"'\\n'\"'\"');f.close();exec(compile(code, __file__, '\"'\"'exec'\"'\"'))' egg_info --egg-base 'C:\\Users\\faria\\AppData\\Local\\Temp\\pip-pip-egg-info-v18aar_0'\n",
      "         cwd: C:\\Users\\faria\\AppData\\Local\\Temp\\pip-install-_saom_oc\\fiona_8a4053d12f2344f09ca8b45509f59de8\\\n",
      "    Complete output (1 lines):\n",
      "    A GDAL API version must be specified. Provide a path to gdal-config using a GDAL_CONFIG environment variable or use a GDAL_VERSION environment variable.\n",
      "    ----------------------------------------\n",
      "WARNING: Discarding https://files.pythonhosted.org/packages/9b/52/45e75507660ce0e86176d0f59b659560f687e2c7e9ebf82a10e7dcd2d3b7/Fiona-1.8.9.post2.tar.gz#sha256=210fb038b579fab38f35ddbdd31b9725f4d5099b3edfd4b87c983e5d47b79983 (from https://pypi.org/simple/fiona/). Command errored out with exit status 1: python setup.py egg_info Check the logs for full command output.\n",
      "    ERROR: Command errored out with exit status 1:\n",
      "     command: 'C:\\Users\\faria\\anaconda3\\python.exe' -c 'import sys, setuptools, tokenize; sys.argv[0] = '\"'\"'C:\\\\Users\\\\faria\\\\AppData\\\\Local\\\\Temp\\\\pip-install-_saom_oc\\\\fiona_2f0c8a80e8df43508f656297ffb6f015\\\\setup.py'\"'\"'; __file__='\"'\"'C:\\\\Users\\\\faria\\\\AppData\\\\Local\\\\Temp\\\\pip-install-_saom_oc\\\\fiona_2f0c8a80e8df43508f656297ffb6f015\\\\setup.py'\"'\"';f=getattr(tokenize, '\"'\"'open'\"'\"', open)(__file__);code=f.read().replace('\"'\"'\\r\\n'\"'\"', '\"'\"'\\n'\"'\"');f.close();exec(compile(code, __file__, '\"'\"'exec'\"'\"'))' egg_info --egg-base 'C:\\Users\\faria\\AppData\\Local\\Temp\\pip-pip-egg-info-oysvq75h'\n",
      "         cwd: C:\\Users\\faria\\AppData\\Local\\Temp\\pip-install-_saom_oc\\fiona_2f0c8a80e8df43508f656297ffb6f015\\\n",
      "    Complete output (1 lines):\n",
      "    A GDAL API version must be specified. Provide a path to gdal-config using a GDAL_CONFIG environment variable or use a GDAL_VERSION environment variable.\n",
      "    ----------------------------------------\n",
      "WARNING: Discarding https://files.pythonhosted.org/packages/0e/a4/d9dd7399be809d3990f5000fb6ae43189ea26ae88be1bed3a4c9ddc1becc/Fiona-1.8.9.post1.tar.gz#sha256=d5e0ea0b8addffe9cba4cb59e2bd495b015230e7a1b1597974f5048211930199 (from https://pypi.org/simple/fiona/). Command errored out with exit status 1: python setup.py egg_info Check the logs for full command output.\n",
      "    ERROR: Command errored out with exit status 1:\n",
      "     command: 'C:\\Users\\faria\\anaconda3\\python.exe' -c 'import sys, setuptools, tokenize; sys.argv[0] = '\"'\"'C:\\\\Users\\\\faria\\\\AppData\\\\Local\\\\Temp\\\\pip-install-_saom_oc\\\\fiona_54a80216e000418aa03d2676b0def19f\\\\setup.py'\"'\"'; __file__='\"'\"'C:\\\\Users\\\\faria\\\\AppData\\\\Local\\\\Temp\\\\pip-install-_saom_oc\\\\fiona_54a80216e000418aa03d2676b0def19f\\\\setup.py'\"'\"';f=getattr(tokenize, '\"'\"'open'\"'\"', open)(__file__);code=f.read().replace('\"'\"'\\r\\n'\"'\"', '\"'\"'\\n'\"'\"');f.close();exec(compile(code, __file__, '\"'\"'exec'\"'\"'))' egg_info --egg-base 'C:\\Users\\faria\\AppData\\Local\\Temp\\pip-pip-egg-info-sgjk4xp7'\n",
      "         cwd: C:\\Users\\faria\\AppData\\Local\\Temp\\pip-install-_saom_oc\\fiona_54a80216e000418aa03d2676b0def19f\\\n",
      "    Complete output (1 lines):\n",
      "    A GDAL API version must be specified. Provide a path to gdal-config using a GDAL_CONFIG environment variable or use a GDAL_VERSION environment variable.\n",
      "    ----------------------------------------\n",
      "WARNING: Discarding https://files.pythonhosted.org/packages/ad/92/dcbd8c54d697c22f299b5af63b6df3acfbd06c6d72e249614c05be99337c/Fiona-1.8.9.tar.gz#sha256=4dd6e2f5327c1174143c7c8594a75d373bc72f2c9a2a6daee312c3186a128add (from https://pypi.org/simple/fiona/). Command errored out with exit status 1: python setup.py egg_info Check the logs for full command output.\n",
      "    ERROR: Command errored out with exit status 1:\n",
      "     command: 'C:\\Users\\faria\\anaconda3\\python.exe' -c 'import sys, setuptools, tokenize; sys.argv[0] = '\"'\"'C:\\\\Users\\\\faria\\\\AppData\\\\Local\\\\Temp\\\\pip-install-_saom_oc\\\\fiona_2a9ea0a07b694cd486ac3128bc15f484\\\\setup.py'\"'\"'; __file__='\"'\"'C:\\\\Users\\\\faria\\\\AppData\\\\Local\\\\Temp\\\\pip-install-_saom_oc\\\\fiona_2a9ea0a07b694cd486ac3128bc15f484\\\\setup.py'\"'\"';f=getattr(tokenize, '\"'\"'open'\"'\"', open)(__file__);code=f.read().replace('\"'\"'\\r\\n'\"'\"', '\"'\"'\\n'\"'\"');f.close();exec(compile(code, __file__, '\"'\"'exec'\"'\"'))' egg_info --egg-base 'C:\\Users\\faria\\AppData\\Local\\Temp\\pip-pip-egg-info-vcqn1csn'\n",
      "         cwd: C:\\Users\\faria\\AppData\\Local\\Temp\\pip-install-_saom_oc\\fiona_2a9ea0a07b694cd486ac3128bc15f484\\\n",
      "    Complete output (1 lines):\n",
      "    A GDAL API version must be specified. Provide a path to gdal-config using a GDAL_CONFIG environment variable or use a GDAL_VERSION environment variable.\n",
      "    ----------------------------------------\n",
      "WARNING: Discarding https://files.pythonhosted.org/packages/94/7f/e288db1ad63d759d494c30caae34f865e0c6927588c490705e91b7134193/Fiona-1.8.8.tar.gz#sha256=711c3be73203b37812992089445a1e4e9d3d6b64e667389f7b15406e15a91e83 (from https://pypi.org/simple/fiona/). Command errored out with exit status 1: python setup.py egg_info Check the logs for full command output.\n",
      "    ERROR: Command errored out with exit status 1:\n",
      "     command: 'C:\\Users\\faria\\anaconda3\\python.exe' -c 'import sys, setuptools, tokenize; sys.argv[0] = '\"'\"'C:\\\\Users\\\\faria\\\\AppData\\\\Local\\\\Temp\\\\pip-install-_saom_oc\\\\fiona_763be79eca4e4e1b91fc185eeeb227ee\\\\setup.py'\"'\"'; __file__='\"'\"'C:\\\\Users\\\\faria\\\\AppData\\\\Local\\\\Temp\\\\pip-install-_saom_oc\\\\fiona_763be79eca4e4e1b91fc185eeeb227ee\\\\setup.py'\"'\"';f=getattr(tokenize, '\"'\"'open'\"'\"', open)(__file__);code=f.read().replace('\"'\"'\\r\\n'\"'\"', '\"'\"'\\n'\"'\"');f.close();exec(compile(code, __file__, '\"'\"'exec'\"'\"'))' egg_info --egg-base 'C:\\Users\\faria\\AppData\\Local\\Temp\\pip-pip-egg-info-31t_rrx7'\n",
      "         cwd: C:\\Users\\faria\\AppData\\Local\\Temp\\pip-install-_saom_oc\\fiona_763be79eca4e4e1b91fc185eeeb227ee\\\n",
      "    Complete output (1 lines):\n",
      "    A GDAL API version must be specified. Provide a path to gdal-config using a GDAL_CONFIG environment variable or use a GDAL_VERSION environment variable.\n",
      "    ----------------------------------------\n",
      "WARNING: Discarding https://files.pythonhosted.org/packages/78/62/daafd070aebefa639df247705b97f13f7cfad43895581b5cae41bd886709/Fiona-1.8.7.tar.gz#sha256=a55a23615bad3e142d4e4cda97bb5de83c778a80049222e9dffae93c13b5cf93 (from https://pypi.org/simple/fiona/). Command errored out with exit status 1: python setup.py egg_info Check the logs for full command output.\n",
      "    ERROR: Command errored out with exit status 1:\n",
      "     command: 'C:\\Users\\faria\\anaconda3\\python.exe' -c 'import sys, setuptools, tokenize; sys.argv[0] = '\"'\"'C:\\\\Users\\\\faria\\\\AppData\\\\Local\\\\Temp\\\\pip-install-_saom_oc\\\\fiona_eb3869b38cc64218aee62afbe80630c3\\\\setup.py'\"'\"'; __file__='\"'\"'C:\\\\Users\\\\faria\\\\AppData\\\\Local\\\\Temp\\\\pip-install-_saom_oc\\\\fiona_eb3869b38cc64218aee62afbe80630c3\\\\setup.py'\"'\"';f=getattr(tokenize, '\"'\"'open'\"'\"', open)(__file__);code=f.read().replace('\"'\"'\\r\\n'\"'\"', '\"'\"'\\n'\"'\"');f.close();exec(compile(code, __file__, '\"'\"'exec'\"'\"'))' egg_info --egg-base 'C:\\Users\\faria\\AppData\\Local\\Temp\\pip-pip-egg-info-_lp6ibld'\n",
      "         cwd: C:\\Users\\faria\\AppData\\Local\\Temp\\pip-install-_saom_oc\\fiona_eb3869b38cc64218aee62afbe80630c3\\\n",
      "    Complete output (1 lines):\n",
      "    A GDAL API version must be specified. Provide a path to gdal-config using a GDAL_CONFIG environment variable or use a GDAL_VERSION environment variable.\n",
      "    ----------------------------------------\n",
      "WARNING: Discarding https://files.pythonhosted.org/packages/41/9d/63696e7b1de42aad294d4781199a408bec593d8fdb80a2b4a788c911a33b/Fiona-1.8.6.tar.gz#sha256=fa31dfe8855b9cd0b128b47a4df558f1b8eda90d2181bff1dd9854e5556efb3e (from https://pypi.org/simple/fiona/). Command errored out with exit status 1: python setup.py egg_info Check the logs for full command output.\n",
      "    ERROR: Command errored out with exit status 1:\n"
     ]
    },
    {
     "name": "stdout",
     "output_type": "stream",
     "text": [
      "  Using cached Fiona-1.8.1.tar.gz (1.1 MB)\n",
      "  Using cached Fiona-1.8.0.tar.gz (1.4 MB)\n",
      "Collecting geopandas\n",
      "  Using cached geopandas-0.10.1-py2.py3-none-any.whl (1.0 MB)\n",
      "  Using cached geopandas-0.10.0-py2.py3-none-any.whl (1.0 MB)\n",
      "  Using cached geopandas-0.9.0-py2.py3-none-any.whl (994 kB)\n",
      "  Using cached geopandas-0.8.2-py2.py3-none-any.whl (962 kB)\n",
      "Collecting fiona\n",
      "  Using cached Fiona-1.7.13.tar.gz (731 kB)\n",
      "Requirement already satisfied: pyproj>=2.2.0 in c:\\users\\faria\\anaconda3\\lib\\site-packages (from geopandas) (3.3.0)\n",
      "Requirement already satisfied: python-dateutil>=2.7.3 in c:\\users\\faria\\anaconda3\\lib\\site-packages (from pandas>=0.25.0->geopandas) (2.8.1)\n",
      "Requirement already satisfied: numpy>=1.16.5 in c:\\users\\faria\\anaconda3\\lib\\site-packages (from pandas>=0.25.0->geopandas) (1.20.1)\n",
      "Requirement already satisfied: pytz>=2017.3 in c:\\users\\faria\\anaconda3\\lib\\site-packages (from pandas>=0.25.0->geopandas) (2021.1)\n",
      "Requirement already satisfied: certifi in c:\\users\\faria\\anaconda3\\lib\\site-packages (from pyproj>=2.2.0->geopandas) (2020.12.5)\n",
      "Requirement already satisfied: six>=1.5 in c:\\users\\faria\\anaconda3\\lib\\site-packages (from python-dateutil>=2.7.3->pandas>=0.25.0->geopandas) (1.15.0)\n",
      "Requirement already satisfied: cligj>=0.4 in c:\\users\\faria\\anaconda3\\lib\\site-packages (from fiona->geopandas) (0.7.2)\n",
      "Requirement already satisfied: click-plugins in c:\\users\\faria\\anaconda3\\lib\\site-packages (from fiona->geopandas) (1.1.1)\n",
      "Requirement already satisfied: munch in c:\\users\\faria\\anaconda3\\lib\\site-packages (from fiona->geopandas) (2.5.0)\n",
      "Requirement already satisfied: click>=4.0 in c:\\users\\faria\\anaconda3\\lib\\site-packages (from cligj>=0.4->fiona->geopandas) (7.1.2)\n",
      "Building wheels for collected packages: fiona\n",
      "  Building wheel for fiona (setup.py): started\n",
      "  Building wheel for fiona (setup.py): finished with status 'error'\n",
      "  Running setup.py clean for fiona\n",
      "Failed to build fiona\n",
      "Installing collected packages: fiona, geopandas\n",
      "    Running setup.py install for fiona: started\n",
      "    Running setup.py install for fiona: finished with status 'error'\n"
     ]
    },
    {
     "name": "stderr",
     "output_type": "stream",
     "text": [
      "     command: 'C:\\Users\\faria\\anaconda3\\python.exe' -c 'import sys, setuptools, tokenize; sys.argv[0] = '\"'\"'C:\\\\Users\\\\faria\\\\AppData\\\\Local\\\\Temp\\\\pip-install-_saom_oc\\\\fiona_dad13713314c4b36a3715cf4a491a6c6\\\\setup.py'\"'\"'; __file__='\"'\"'C:\\\\Users\\\\faria\\\\AppData\\\\Local\\\\Temp\\\\pip-install-_saom_oc\\\\fiona_dad13713314c4b36a3715cf4a491a6c6\\\\setup.py'\"'\"';f=getattr(tokenize, '\"'\"'open'\"'\"', open)(__file__);code=f.read().replace('\"'\"'\\r\\n'\"'\"', '\"'\"'\\n'\"'\"');f.close();exec(compile(code, __file__, '\"'\"'exec'\"'\"'))' egg_info --egg-base 'C:\\Users\\faria\\AppData\\Local\\Temp\\pip-pip-egg-info-jjr7t7ie'\n",
      "         cwd: C:\\Users\\faria\\AppData\\Local\\Temp\\pip-install-_saom_oc\\fiona_dad13713314c4b36a3715cf4a491a6c6\\\n",
      "    Complete output (1 lines):\n",
      "    A GDAL API version must be specified. Provide a path to gdal-config using a GDAL_CONFIG environment variable or use a GDAL_VERSION environment variable.\n",
      "    ----------------------------------------\n",
      "WARNING: Discarding https://files.pythonhosted.org/packages/7b/af/1c2c83c4a8363a4ce9fea817b1910b5e071bed012e18257faa2a0ab3cfe7/Fiona-1.8.5.tar.gz#sha256=4f5cc2d449edbbf693c83e24cdada72de7c41297383d16fcc92387eb445e9d35 (from https://pypi.org/simple/fiona/). Command errored out with exit status 1: python setup.py egg_info Check the logs for full command output.\n",
      "    ERROR: Command errored out with exit status 1:\n",
      "     command: 'C:\\Users\\faria\\anaconda3\\python.exe' -c 'import sys, setuptools, tokenize; sys.argv[0] = '\"'\"'C:\\\\Users\\\\faria\\\\AppData\\\\Local\\\\Temp\\\\pip-install-_saom_oc\\\\fiona_020154788c0348cfa80ab0b581b77edd\\\\setup.py'\"'\"'; __file__='\"'\"'C:\\\\Users\\\\faria\\\\AppData\\\\Local\\\\Temp\\\\pip-install-_saom_oc\\\\fiona_020154788c0348cfa80ab0b581b77edd\\\\setup.py'\"'\"';f=getattr(tokenize, '\"'\"'open'\"'\"', open)(__file__);code=f.read().replace('\"'\"'\\r\\n'\"'\"', '\"'\"'\\n'\"'\"');f.close();exec(compile(code, __file__, '\"'\"'exec'\"'\"'))' egg_info --egg-base 'C:\\Users\\faria\\AppData\\Local\\Temp\\pip-pip-egg-info-fughrige'\n",
      "         cwd: C:\\Users\\faria\\AppData\\Local\\Temp\\pip-install-_saom_oc\\fiona_020154788c0348cfa80ab0b581b77edd\\\n",
      "    Complete output (1 lines):\n",
      "    A GDAL API version must be specified. Provide a path to gdal-config using a GDAL_CONFIG environment variable or use a GDAL_VERSION environment variable.\n",
      "    ----------------------------------------\n",
      "WARNING: Discarding https://files.pythonhosted.org/packages/3a/16/84960540e9fce61d767fd2f0f1d95f4c63e99ab5d8fddc308e8b51b059b8/Fiona-1.8.4.tar.gz#sha256=aec9ab2e3513c9503ec123b1a8573bee55fc6a66e2ac07088c3376bf6738a424 (from https://pypi.org/simple/fiona/). Command errored out with exit status 1: python setup.py egg_info Check the logs for full command output.\n",
      "    ERROR: Command errored out with exit status 1:\n",
      "     command: 'C:\\Users\\faria\\anaconda3\\python.exe' -c 'import sys, setuptools, tokenize; sys.argv[0] = '\"'\"'C:\\\\Users\\\\faria\\\\AppData\\\\Local\\\\Temp\\\\pip-install-_saom_oc\\\\fiona_9eee9a793fdc4c4dbbedb67f1e31624d\\\\setup.py'\"'\"'; __file__='\"'\"'C:\\\\Users\\\\faria\\\\AppData\\\\Local\\\\Temp\\\\pip-install-_saom_oc\\\\fiona_9eee9a793fdc4c4dbbedb67f1e31624d\\\\setup.py'\"'\"';f=getattr(tokenize, '\"'\"'open'\"'\"', open)(__file__);code=f.read().replace('\"'\"'\\r\\n'\"'\"', '\"'\"'\\n'\"'\"');f.close();exec(compile(code, __file__, '\"'\"'exec'\"'\"'))' egg_info --egg-base 'C:\\Users\\faria\\AppData\\Local\\Temp\\pip-pip-egg-info-48ommarw'\n",
      "         cwd: C:\\Users\\faria\\AppData\\Local\\Temp\\pip-install-_saom_oc\\fiona_9eee9a793fdc4c4dbbedb67f1e31624d\\\n",
      "    Complete output (1 lines):\n",
      "    A GDAL API version must be specified. Provide a path to gdal-config using a GDAL_CONFIG environment variable or use a GDAL_VERSION environment variable.\n",
      "    ----------------------------------------\n",
      "WARNING: Discarding https://files.pythonhosted.org/packages/46/d1/fcdb32513a03abfde0d97fd9782ce0f8cc0540fa6c6ce783e87b94064964/Fiona-1.8.3.tar.gz#sha256=3e831100a23c3b6cd32b98baf0c9e2119d909b44a5cf4533d3625f61dcf2d2b1 (from https://pypi.org/simple/fiona/). Command errored out with exit status 1: python setup.py egg_info Check the logs for full command output.\n",
      "    ERROR: Command errored out with exit status 1:\n",
      "     command: 'C:\\Users\\faria\\anaconda3\\python.exe' -c 'import sys, setuptools, tokenize; sys.argv[0] = '\"'\"'C:\\\\Users\\\\faria\\\\AppData\\\\Local\\\\Temp\\\\pip-install-_saom_oc\\\\fiona_acd5a29df85643ae80649946d7786e2d\\\\setup.py'\"'\"'; __file__='\"'\"'C:\\\\Users\\\\faria\\\\AppData\\\\Local\\\\Temp\\\\pip-install-_saom_oc\\\\fiona_acd5a29df85643ae80649946d7786e2d\\\\setup.py'\"'\"';f=getattr(tokenize, '\"'\"'open'\"'\"', open)(__file__);code=f.read().replace('\"'\"'\\r\\n'\"'\"', '\"'\"'\\n'\"'\"');f.close();exec(compile(code, __file__, '\"'\"'exec'\"'\"'))' egg_info --egg-base 'C:\\Users\\faria\\AppData\\Local\\Temp\\pip-pip-egg-info-2v68ucnh'\n",
      "         cwd: C:\\Users\\faria\\AppData\\Local\\Temp\\pip-install-_saom_oc\\fiona_acd5a29df85643ae80649946d7786e2d\\\n",
      "    Complete output (1 lines):\n",
      "    A GDAL API version must be specified. Provide a path to gdal-config using a GDAL_CONFIG environment variable or use a GDAL_VERSION environment variable.\n",
      "    ----------------------------------------\n",
      "WARNING: Discarding https://files.pythonhosted.org/packages/25/50/0466d5d83e1859c5ca38351ee932d64cc5635f9d4dad522879e58f4b0018/Fiona-1.8.2.tar.gz#sha256=4c6419b7ac29136708029f6a44b4ccd458735a4d241016c7b1bab41685c08d8f (from https://pypi.org/simple/fiona/). Command errored out with exit status 1: python setup.py egg_info Check the logs for full command output.\n",
      "    ERROR: Command errored out with exit status 1:\n",
      "     command: 'C:\\Users\\faria\\anaconda3\\python.exe' -c 'import sys, setuptools, tokenize; sys.argv[0] = '\"'\"'C:\\\\Users\\\\faria\\\\AppData\\\\Local\\\\Temp\\\\pip-install-_saom_oc\\\\fiona_ddafa781231b421ea54cc822f8f6271f\\\\setup.py'\"'\"'; __file__='\"'\"'C:\\\\Users\\\\faria\\\\AppData\\\\Local\\\\Temp\\\\pip-install-_saom_oc\\\\fiona_ddafa781231b421ea54cc822f8f6271f\\\\setup.py'\"'\"';f=getattr(tokenize, '\"'\"'open'\"'\"', open)(__file__);code=f.read().replace('\"'\"'\\r\\n'\"'\"', '\"'\"'\\n'\"'\"');f.close();exec(compile(code, __file__, '\"'\"'exec'\"'\"'))' egg_info --egg-base 'C:\\Users\\faria\\AppData\\Local\\Temp\\pip-pip-egg-info-sznu3j_r'\n",
      "         cwd: C:\\Users\\faria\\AppData\\Local\\Temp\\pip-install-_saom_oc\\fiona_ddafa781231b421ea54cc822f8f6271f\\\n",
      "    Complete output (1 lines):\n",
      "    A GDAL API version must be specified. Provide a path to gdal-config using a GDAL_CONFIG environment variable or use a GDAL_VERSION environment variable.\n",
      "    ----------------------------------------\n",
      "WARNING: Discarding https://files.pythonhosted.org/packages/3e/5f/0c6704efeea2ff3fba7f54cc6ec38070157f21bc1cffa7bdfa7c9f6b8f7a/Fiona-1.8.1.tar.gz#sha256=4c34bb4c5cd788aaf14e5484c3b7de407b1a8a7c7b2d29bbb2e8b37931e83b8d (from https://pypi.org/simple/fiona/). Command errored out with exit status 1: python setup.py egg_info Check the logs for full command output.\n",
      "    ERROR: Command errored out with exit status 1:\n",
      "     command: 'C:\\Users\\faria\\anaconda3\\python.exe' -c 'import sys, setuptools, tokenize; sys.argv[0] = '\"'\"'C:\\\\Users\\\\faria\\\\AppData\\\\Local\\\\Temp\\\\pip-install-_saom_oc\\\\fiona_1542132fd9ff4b6aad74c590184c4c55\\\\setup.py'\"'\"'; __file__='\"'\"'C:\\\\Users\\\\faria\\\\AppData\\\\Local\\\\Temp\\\\pip-install-_saom_oc\\\\fiona_1542132fd9ff4b6aad74c590184c4c55\\\\setup.py'\"'\"';f=getattr(tokenize, '\"'\"'open'\"'\"', open)(__file__);code=f.read().replace('\"'\"'\\r\\n'\"'\"', '\"'\"'\\n'\"'\"');f.close();exec(compile(code, __file__, '\"'\"'exec'\"'\"'))' egg_info --egg-base 'C:\\Users\\faria\\AppData\\Local\\Temp\\pip-pip-egg-info-38g1ccfe'\n",
      "         cwd: C:\\Users\\faria\\AppData\\Local\\Temp\\pip-install-_saom_oc\\fiona_1542132fd9ff4b6aad74c590184c4c55\\\n",
      "    Complete output (1 lines):\n",
      "    A GDAL API version must be specified. Provide a path to gdal-config using a GDAL_CONFIG environment variable or use a GDAL_VERSION environment variable.\n",
      "    ----------------------------------------\n",
      "WARNING: Discarding https://files.pythonhosted.org/packages/2a/bd/c1efc2680f338e5941121c776d6323af6b9698ac739e22ba523cee348a7f/Fiona-1.8.0.tar.gz#sha256=20141a9ece06daa7bb4333fba640c2fe39a49f8aca5492d1da8595d41e91844a (from https://pypi.org/simple/fiona/). Command errored out with exit status 1: python setup.py egg_info Check the logs for full command output.\n",
      "  ERROR: Command errored out with exit status 1:\n",
      "   command: 'C:\\Users\\faria\\anaconda3\\python.exe' -u -c 'import sys, setuptools, tokenize; sys.argv[0] = '\"'\"'C:\\\\Users\\\\faria\\\\AppData\\\\Local\\\\Temp\\\\pip-install-_saom_oc\\\\fiona_ea195984404646ed92632e2fb5be3b79\\\\setup.py'\"'\"'; __file__='\"'\"'C:\\\\Users\\\\faria\\\\AppData\\\\Local\\\\Temp\\\\pip-install-_saom_oc\\\\fiona_ea195984404646ed92632e2fb5be3b79\\\\setup.py'\"'\"';f=getattr(tokenize, '\"'\"'open'\"'\"', open)(__file__);code=f.read().replace('\"'\"'\\r\\n'\"'\"', '\"'\"'\\n'\"'\"');f.close();exec(compile(code, __file__, '\"'\"'exec'\"'\"'))' bdist_wheel -d 'C:\\Users\\faria\\AppData\\Local\\Temp\\pip-wheel-crbs9i6t'\n",
      "       cwd: C:\\Users\\faria\\AppData\\Local\\Temp\\pip-install-_saom_oc\\fiona_ea195984404646ed92632e2fb5be3b79\\\n",
      "  Complete output (42 lines):\n",
      "  C:\\Users\\faria\\anaconda3\\lib\\distutils\\dist.py:274: UserWarning: Unknown distribution option: 'metadata_version'\n",
      "    warnings.warn(msg)\n",
      "  C:\\Users\\faria\\anaconda3\\lib\\distutils\\dist.py:274: UserWarning: Unknown distribution option: 'requires_python'\n",
      "    warnings.warn(msg)\n",
      "  C:\\Users\\faria\\anaconda3\\lib\\distutils\\dist.py:274: UserWarning: Unknown distribution option: 'requires_external'\n",
      "    warnings.warn(msg)\n",
      "  running bdist_wheel\n",
      "  running build\n",
      "  running build_py\n",
      "  creating build\n",
      "  creating build\\lib.win-amd64-3.8\n",
      "  creating build\\lib.win-amd64-3.8\\fiona\n",
      "  copying .\\fiona\\collection.py -> build\\lib.win-amd64-3.8\\fiona\n",
      "  copying .\\fiona\\compat.py -> build\\lib.win-amd64-3.8\\fiona\n",
      "  copying .\\fiona\\crs.py -> build\\lib.win-amd64-3.8\\fiona\n",
      "  copying .\\fiona\\drvsupport.py -> build\\lib.win-amd64-3.8\\fiona\n",
      "  copying .\\fiona\\errors.py -> build\\lib.win-amd64-3.8\\fiona\n",
      "  copying .\\fiona\\inspector.py -> build\\lib.win-amd64-3.8\\fiona\n",
      "  copying .\\fiona\\rfc3339.py -> build\\lib.win-amd64-3.8\\fiona\n",
      "  copying .\\fiona\\tool.py -> build\\lib.win-amd64-3.8\\fiona\n",
      "  copying .\\fiona\\transform.py -> build\\lib.win-amd64-3.8\\fiona\n",
      "  copying .\\fiona\\__init__.py -> build\\lib.win-amd64-3.8\\fiona\n",
      "  creating build\\lib.win-amd64-3.8\\fiona\\fio\n",
      "  copying .\\fiona\\fio\\bounds.py -> build\\lib.win-amd64-3.8\\fiona\\fio\n",
      "  copying .\\fiona\\fio\\calc.py -> build\\lib.win-amd64-3.8\\fiona\\fio\n",
      "  copying .\\fiona\\fio\\cat.py -> build\\lib.win-amd64-3.8\\fiona\\fio\n",
      "  copying .\\fiona\\fio\\collect.py -> build\\lib.win-amd64-3.8\\fiona\\fio\n",
      "  copying .\\fiona\\fio\\distrib.py -> build\\lib.win-amd64-3.8\\fiona\\fio\n",
      "  copying .\\fiona\\fio\\dump.py -> build\\lib.win-amd64-3.8\\fiona\\fio\n",
      "  copying .\\fiona\\fio\\env.py -> build\\lib.win-amd64-3.8\\fiona\\fio\n",
      "  copying .\\fiona\\fio\\filter.py -> build\\lib.win-amd64-3.8\\fiona\\fio\n",
      "  copying .\\fiona\\fio\\helpers.py -> build\\lib.win-amd64-3.8\\fiona\\fio\n",
      "  copying .\\fiona\\fio\\info.py -> build\\lib.win-amd64-3.8\\fiona\\fio\n",
      "  copying .\\fiona\\fio\\insp.py -> build\\lib.win-amd64-3.8\\fiona\\fio\n",
      "  copying .\\fiona\\fio\\load.py -> build\\lib.win-amd64-3.8\\fiona\\fio\n",
      "  copying .\\fiona\\fio\\ls.py -> build\\lib.win-amd64-3.8\\fiona\\fio\n",
      "  copying .\\fiona\\fio\\main.py -> build\\lib.win-amd64-3.8\\fiona\\fio\n",
      "  copying .\\fiona\\fio\\options.py -> build\\lib.win-amd64-3.8\\fiona\\fio\n",
      "  copying .\\fiona\\fio\\__init__.py -> build\\lib.win-amd64-3.8\\fiona\\fio\n",
      "  running build_ext\n",
      "  building 'fiona._transform' extension\n",
      "  error: Microsoft Visual C++ 14.0 or greater is required. Get it with \"Microsoft C++ Build Tools\": https://visualstudio.microsoft.com/visual-cpp-build-tools/\n",
      "  ----------------------------------------\n",
      "  ERROR: Failed building wheel for fiona\n",
      "    ERROR: Command errored out with exit status 1:\n",
      "     command: 'C:\\Users\\faria\\anaconda3\\python.exe' -u -c 'import sys, setuptools, tokenize; sys.argv[0] = '\"'\"'C:\\\\Users\\\\faria\\\\AppData\\\\Local\\\\Temp\\\\pip-install-_saom_oc\\\\fiona_ea195984404646ed92632e2fb5be3b79\\\\setup.py'\"'\"'; __file__='\"'\"'C:\\\\Users\\\\faria\\\\AppData\\\\Local\\\\Temp\\\\pip-install-_saom_oc\\\\fiona_ea195984404646ed92632e2fb5be3b79\\\\setup.py'\"'\"';f=getattr(tokenize, '\"'\"'open'\"'\"', open)(__file__);code=f.read().replace('\"'\"'\\r\\n'\"'\"', '\"'\"'\\n'\"'\"');f.close();exec(compile(code, __file__, '\"'\"'exec'\"'\"'))' install --record 'C:\\Users\\faria\\AppData\\Local\\Temp\\pip-record-eclbr8i8\\install-record.txt' --single-version-externally-managed --compile --install-headers 'C:\\Users\\faria\\anaconda3\\Include\\fiona'\n",
      "         cwd: C:\\Users\\faria\\AppData\\Local\\Temp\\pip-install-_saom_oc\\fiona_ea195984404646ed92632e2fb5be3b79\\\n",
      "    Complete output (12 lines):\n",
      "    C:\\Users\\faria\\anaconda3\\lib\\distutils\\dist.py:274: UserWarning: Unknown distribution option: 'metadata_version'\n",
      "      warnings.warn(msg)\n",
      "    C:\\Users\\faria\\anaconda3\\lib\\distutils\\dist.py:274: UserWarning: Unknown distribution option: 'requires_python'\n",
      "      warnings.warn(msg)\n",
      "    C:\\Users\\faria\\anaconda3\\lib\\distutils\\dist.py:274: UserWarning: Unknown distribution option: 'requires_external'\n",
      "      warnings.warn(msg)\n",
      "    running install\n",
      "    running build\n",
      "    running build_py\n",
      "    running build_ext\n",
      "    building 'fiona._transform' extension\n",
      "    error: Microsoft Visual C++ 14.0 or greater is required. Get it with \"Microsoft C++ Build Tools\": https://visualstudio.microsoft.com/visual-cpp-build-tools/\n",
      "    ----------------------------------------\n",
      "ERROR: Command errored out with exit status 1: 'C:\\Users\\faria\\anaconda3\\python.exe' -u -c 'import sys, setuptools, tokenize; sys.argv[0] = '\"'\"'C:\\\\Users\\\\faria\\\\AppData\\\\Local\\\\Temp\\\\pip-install-_saom_oc\\\\fiona_ea195984404646ed92632e2fb5be3b79\\\\setup.py'\"'\"'; __file__='\"'\"'C:\\\\Users\\\\faria\\\\AppData\\\\Local\\\\Temp\\\\pip-install-_saom_oc\\\\fiona_ea195984404646ed92632e2fb5be3b79\\\\setup.py'\"'\"';f=getattr(tokenize, '\"'\"'open'\"'\"', open)(__file__);code=f.read().replace('\"'\"'\\r\\n'\"'\"', '\"'\"'\\n'\"'\"');f.close();exec(compile(code, __file__, '\"'\"'exec'\"'\"'))' install --record 'C:\\Users\\faria\\AppData\\Local\\Temp\\pip-record-eclbr8i8\\install-record.txt' --single-version-externally-managed --compile --install-headers 'C:\\Users\\faria\\anaconda3\\Include\\fiona' Check the logs for full command output.\n"
     ]
    }
   ],
   "source": [
    "!pip install GDAL-3.1.4-cp38-cp38-win_amd64.whl \n",
    "!pip install Fiona-1.8.17-cp38-cp38-win_amd64.whl\n",
    "!pip install Shapely-1.7.1-cp38-cp38-win_amd64.whl\n",
    "!pip install geopandas"
   ]
  },
  {
   "cell_type": "code",
   "execution_count": 8,
   "id": "d0d23cb3",
   "metadata": {},
   "outputs": [
    {
     "name": "stdout",
     "output_type": "stream",
     "text": [
      "Processing c:\\users\\faria\\gitrepositories\\assignments2021\\in class projects\\gdal-3.1.4-cp38-cp38-win_amd64.whl\n"
     ]
    },
    {
     "name": "stderr",
     "output_type": "stream",
     "text": [
      "WARNING: Requirement 'GDAL-3.1.4-cp38-cp38-win_amd64.whl' looks like a filename, but the file does not exist\n",
      "ERROR: Could not install packages due to an OSError: [Errno 2] No such file or directory: 'C:\\\\Users\\\\faria\\\\GitRepositories\\\\Assignments2021\\\\In Class Projects\\\\GDAL-3.1.4-cp38-cp38-win_amd64.whl'\n",
      "\n"
     ]
    },
    {
     "name": "stdout",
     "output_type": "stream",
     "text": [
      "Processing c:\\users\\faria\\gitrepositories\\assignments2021\\in class projects\\fiona-1.8.17-cp38-cp38-win_amd64.whl\n"
     ]
    },
    {
     "name": "stderr",
     "output_type": "stream",
     "text": [
      "WARNING: Requirement 'Fiona-1.8.17-cp38-cp38-win_amd64.whl' looks like a filename, but the file does not exist\n",
      "ERROR: Could not install packages due to an OSError: [Errno 2] No such file or directory: 'C:\\\\Users\\\\faria\\\\GitRepositories\\\\Assignments2021\\\\In Class Projects\\\\Fiona-1.8.17-cp38-cp38-win_amd64.whl'\n",
      "\n"
     ]
    },
    {
     "name": "stdout",
     "output_type": "stream",
     "text": [
      "Processing c:\\users\\faria\\gitrepositories\\assignments2021\\in class projects\\shapely-1.7.1-cp38-cp38-win_amd64.whl\n"
     ]
    },
    {
     "name": "stderr",
     "output_type": "stream",
     "text": [
      "WARNING: Requirement 'Shapely-1.7.1-cp38-cp38-win_amd64.whl' looks like a filename, but the file does not exist\n",
      "ERROR: Could not install packages due to an OSError: [Errno 2] No such file or directory: 'C:\\\\Users\\\\faria\\\\GitRepositories\\\\Assignments2021\\\\In Class Projects\\\\Shapely-1.7.1-cp38-cp38-win_amd64.whl'\n",
      "\n"
     ]
    }
   ],
   "source": []
  },
  {
   "cell_type": "code",
   "execution_count": null,
   "id": "d18637b1",
   "metadata": {},
   "outputs": [],
   "source": [
    "#COVID19Map.py\n",
    "### import all modules that we will use in this lesson\n",
    "import geopandas\n",
    "import numpy as np\n",
    "import pandas as pd"
   ]
  },
  {
   "cell_type": "code",
   "execution_count": 9,
   "id": "5dbdd13e",
   "metadata": {},
   "outputs": [
    {
     "ename": "ModuleNotFoundError",
     "evalue": "No module named 'geopandas'",
     "output_type": "error",
     "traceback": [
      "\u001b[1;31m---------------------------------------------------------------------------\u001b[0m",
      "\u001b[1;31mModuleNotFoundError\u001b[0m                       Traceback (most recent call last)",
      "\u001b[1;32m<ipython-input-9-4e9a015f6dcf>\u001b[0m in \u001b[0;36m<module>\u001b[1;34m\u001b[0m\n\u001b[0;32m      1\u001b[0m \u001b[1;31m#COVID19Map.py\u001b[0m\u001b[1;33m\u001b[0m\u001b[1;33m\u001b[0m\u001b[1;33m\u001b[0m\u001b[0m\n\u001b[0;32m      2\u001b[0m \u001b[1;31m### import all modules that we will use in this lesson\u001b[0m\u001b[1;33m\u001b[0m\u001b[1;33m\u001b[0m\u001b[1;33m\u001b[0m\u001b[0m\n\u001b[1;32m----> 3\u001b[1;33m \u001b[1;32mimport\u001b[0m \u001b[0mgeopandas\u001b[0m\u001b[1;33m\u001b[0m\u001b[1;33m\u001b[0m\u001b[0m\n\u001b[0m\u001b[0;32m      4\u001b[0m \u001b[1;32mimport\u001b[0m \u001b[0mnumpy\u001b[0m \u001b[1;32mas\u001b[0m \u001b[0mnp\u001b[0m\u001b[1;33m\u001b[0m\u001b[1;33m\u001b[0m\u001b[0m\n\u001b[0;32m      5\u001b[0m \u001b[1;32mimport\u001b[0m \u001b[0mpandas\u001b[0m \u001b[1;32mas\u001b[0m \u001b[0mpd\u001b[0m\u001b[1;33m\u001b[0m\u001b[1;33m\u001b[0m\u001b[0m\n",
      "\u001b[1;31mModuleNotFoundError\u001b[0m: No module named 'geopandas'"
     ]
    }
   ],
   "source": [
    "# We won't actually use datetime directly. Since the dataframe index will use \n",
    "# data formatted as datetime64, I import it in case I need to use the datetime\n",
    "# module to troubleshoot later \n",
    "import datetime\n",
    "# you could technically call many of the submodules from matplotlib using mpl., \n",
    "#but for convenience we explicitly import submodules. These will be used for \n",
    "# constructing visualizations\n",
    "import matplotlib as mpl\n",
    "import matplotlib.pyplot as plt\n",
    "from matplotlib import cm\n",
    "# If you choose to make a dynamic visualization for the homework\n",
    "from matplotlib.animation import FuncAnimation\n",
    "from mpl_toolkits.axes_grid1 import make_axes_locatable\n",
    "from matplotlib.backends.backend_pdf import PdfPages\n",
    "import matplotlib.ticker as mtick\n",
    "import datadotworld as dw"
   ]
  },
  {
   "cell_type": "code",
   "execution_count": null,
   "id": "20d04203",
   "metadata": {},
   "outputs": [],
   "source": []
  }
 ],
 "metadata": {
  "kernelspec": {
   "display_name": "Python 3",
   "language": "python",
   "name": "python3"
  },
  "language_info": {
   "codemirror_mode": {
    "name": "ipython",
    "version": 3
   },
   "file_extension": ".py",
   "mimetype": "text/x-python",
   "name": "python",
   "nbconvert_exporter": "python",
   "pygments_lexer": "ipython3",
   "version": "3.8.8"
  }
 },
 "nbformat": 4,
 "nbformat_minor": 5
}
