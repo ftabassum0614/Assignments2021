{
 "cells": [
  {
   "cell_type": "markdown",
   "id": "7036ef54",
   "metadata": {},
   "source": [
    "## Chapter 2: Working with Lists"
   ]
  },
  {
   "cell_type": "markdown",
   "id": "bb2e5fe7",
   "metadata": {},
   "source": [
    "Lists can hold any kind of object"
   ]
  },
  {
   "cell_type": "markdown",
   "id": "52ae021c",
   "metadata": {},
   "source": [
    "We will make out first lists. \n",
    "One will be empty and another will contain integers, another floats and another strings. Another will mix these. "
   ]
  },
  {
   "cell_type": "code",
   "execution_count": 1,
   "id": "0e8ab108",
   "metadata": {},
   "outputs": [
    {
     "name": "stdout",
     "output_type": "stream",
     "text": [
      "[]\n",
      "[2, 5, 9, 7]\n",
      "[2.0, 3.0, 4.0, 5.0, 6.0]\n",
      "['words are words', 'odd and even']\n",
      "[2, 5.0, 'mix the list']\n"
     ]
    }
   ],
   "source": [
    "#lists.py\n",
    "empty_list = []\n",
    "int_list = [2,5,9,7]\n",
    "float_list = [2.0,3.0,4.0,5.0,6.0]\n",
    "string_list = [\"words are words\", \"odd and even\"]\n",
    "mixed_list = [2,5.0, \"mix the list\"]\n",
    "\n",
    "print(empty_list)  \n",
    "print(int_list)  \n",
    "print(float_list)  \n",
    "print(string_list)  \n",
    "print(mixed_list)"
   ]
  },
  {
   "cell_type": "markdown",
   "id": "f9fa4395",
   "metadata": {},
   "source": [
    "Often we want to transform lists. In the following example, we will concatenate two lists, which means we will join the lists together. "
   ]
  },
  {
   "cell_type": "code",
   "execution_count": 2,
   "id": "f2d4b5e4",
   "metadata": {},
   "outputs": [
    {
     "name": "stdout",
     "output_type": "stream",
     "text": [
      "list1: [2, 3, 4, 5, 6, 8]\n",
      "list2: [2, 5, 9, 8, 7, 3]\n",
      "[2, 3, 4, 5, 6, 8, 2, 5, 9, 8, 7, 3]\n"
     ]
    }
   ],
   "source": [
    "#concatenateLists\n",
    "\n",
    "list1 = [2, 3, 4, 5, 6, 8]\n",
    "list2 = [2, 5, 9, 8, 7, 3]\n",
    "join_lists = list1 + list2\n",
    "\n",
    "print(\"list1:\", list1) #Question: Why write \"list1:\"?\n",
    "print(\"list2:\", list2)\n",
    "print(join_lists)\n"
   ]
  },
  {
   "cell_type": "markdown",
   "id": "c4d2834a",
   "metadata": {},
   "source": [
    "# For Loops and range()"
   ]
  },
  {
   "cell_type": "markdown",
   "id": "8c592243",
   "metadata": {},
   "source": [
    "list(obj): List transforms an iterable obejct\n",
    "range(j,k,l)\n",
    "len(obj)"
   ]
  },
  {
   "cell_type": "code",
   "execution_count": 3,
   "id": "fe6665e4",
   "metadata": {},
   "outputs": [
    {
     "ename": "SyntaxError",
     "evalue": "invalid syntax (<ipython-input-3-2c74a06305f3>, line 2)",
     "output_type": "error",
     "traceback": [
      "\u001b[1;36m  File \u001b[1;32m\"<ipython-input-3-2c74a06305f3>\"\u001b[1;36m, line \u001b[1;32m2\u001b[0m\n\u001b[1;33m    <execute script>\u001b[0m\n\u001b[1;37m    ^\u001b[0m\n\u001b[1;31mSyntaxError\u001b[0m\u001b[1;31m:\u001b[0m invalid syntax\n"
     ]
    }
   ],
   "source": [
    "for i in range(j, k, l):\n",
    "    <execute script>\n",
    "    "
   ]
  },
  {
   "cell_type": "code",
   "execution_count": 4,
   "id": "48a9683b",
   "metadata": {},
   "outputs": [
    {
     "name": "stdout",
     "output_type": "stream",
     "text": [
      "[0, 1, 2, 3, 4, 5, 6, 7, 8]\n",
      "[-9, -8, -7, -6, -5, -4, -3, -2, -1, 0, 1, 2, 3, 4, 5, 6, 7, 8]\n",
      "[-9, -6, -3, 0, 3, 6]\n"
     ]
    }
   ],
   "source": [
    "#range.py\n",
    "list1 = list(range(9))\n",
    "list2 = list(range(-9,9))\n",
    "list3 = list(range(-9,9,3))\n",
    "\n",
    "print(list1)\n",
    "print(list2)\n",
    "print(list3)"
   ]
  },
  {
   "cell_type": "code",
   "execution_count": 3,
   "id": "44e6352c",
   "metadata": {},
   "outputs": [
    {
     "name": "stdout",
     "output_type": "stream",
     "text": [
      "0\n",
      "1\n",
      "2\n",
      "3\n",
      "4\n",
      "5\n",
      "6\n",
      "7\n"
     ]
    }
   ],
   "source": [
    "#forLoopAndRange.py\n",
    "for i in range(8):\n",
    "    print(i)"
   ]
  },
  {
   "cell_type": "code",
   "execution_count": 6,
   "id": "8a5e80ec",
   "metadata": {},
   "outputs": [
    {
     "ename": "SyntaxError",
     "evalue": "invalid syntax (<ipython-input-6-2233a9ac6f2b>, line 2)",
     "output_type": "error",
     "traceback": [
      "\u001b[1;36m  File \u001b[1;32m\"<ipython-input-6-2233a9ac6f2b>\"\u001b[1;36m, line \u001b[1;32m2\u001b[0m\n\u001b[1;33m    <execute script>\u001b[0m\n\u001b[1;37m    ^\u001b[0m\n\u001b[1;31mSyntaxError\u001b[0m\u001b[1;31m:\u001b[0m invalid syntax\n"
     ]
    }
   ],
   "source": [
    "for i in range(len(A)):\n",
    "    <execute script>"
   ]
  },
  {
   "cell_type": "code",
   "execution_count": 7,
   "id": "af4a7ab4",
   "metadata": {},
   "outputs": [
    {
     "name": "stdout",
     "output_type": "stream",
     "text": [
      "list1 elements: 5 4 9 10 3\n",
      "list2 elements: 6 3 2 1 5\n",
      "list3 elements: [5, 4, 9, 10, 3, 5, 6, 3, 2, 1, 5, 3]\n"
     ]
    }
   ],
   "source": [
    "#copyListElementsForLoop.py\n",
    "list1 = [5, 4, 9, 10, 3, 5]\n",
    "list2 = [6, 3, 2, 1, 5, 3]\n",
    "\n",
    "print(\"list1 elements:\", list1[0], list1[1], list1[2], list1[3], list1[4])\n",
    "print(\"list2 elements:\", list2[0], list2[1], list2[2], list2[3], list2[4])\n",
    "\n",
    "list3 = []\n",
    "j = len(list1)\n",
    "for i in range(j):\n",
    "    list3.append(list1[i])\n",
    "\n",
    "k = len(list2)\n",
    "for i in range(k):\n",
    "    list3.append(list2[i])\n",
    "\n",
    "print(\"list3 elements:\", list3)"
   ]
  },
  {
   "cell_type": "markdown",
   "id": "b83376ed",
   "metadata": {},
   "source": [
    "## Creating a new list with values from other lists"
   ]
  },
  {
   "cell_type": "markdown",
   "id": "c845c555",
   "metadata": {},
   "source": [
    "1. List methods i.e.,\n",
    ".append()\n",
    ".insert()\n",
    "2. If statements\n",
    "3. Else statements\n",
    "4. Operator i.e., ==, !=, <, >, <=, >= "
   ]
  },
  {
   "cell_type": "code",
   "execution_count": 8,
   "id": "656329f8",
   "metadata": {},
   "outputs": [
    {
     "name": "stdout",
     "output_type": "stream",
     "text": [
      "list1 elements: 5 4 9 10 3\n",
      "list2 elements: 6 3 2 1 5\n",
      "list3: [11, 7, 11, 11, 8, 8]\n"
     ]
    }
   ],
   "source": [
    "#addListElements.py\n",
    "list1 = [5, 4, 9, 10, 3, 5]\n",
    "list2 = [6, 3, 2, 1, 5, 3]\n",
    "\n",
    "print(\"list1 elements:\", list1[0], list1[1], list1[2], list1[3], list1[4])\n",
    "print(\"list2 elements:\", list2[0], list2[1], list2[2], list2[3], list2[4])\n",
    "\n",
    "list3 = []\n",
    "j = len(list1)\n",
    "for i in range(j):\n",
    "    list3.append(list1[i] + list2[i])\n",
    "    \n",
    "print(\"list3:\", list3)"
   ]
  },
  {
   "cell_type": "code",
   "execution_count": 9,
   "id": "24897087",
   "metadata": {},
   "outputs": [
    {
     "name": "stdout",
     "output_type": "stream",
     "text": [
      "list1 elements: 5 4 9 10 3\n",
      "list2 elements: 6 3 2 1 5\n",
      "list3: [8, 8, 11, 11, 7, 11]\n"
     ]
    }
   ],
   "source": [
    "#addListElements.py\n",
    "list1 = [5, 4, 9, 10, 3, 5]\n",
    "list2 = [6, 3, 2, 1, 5, 3]\n",
    "\n",
    "print(\"list1 elements:\", list1[0], list1[1], list1[2], list1[3], list1[4])\n",
    "print(\"list2 elements:\", list2[0], list2[1], list2[2], list2[3], list2[4])\n",
    "\n",
    "list3 = []\n",
    "j = len(list1)\n",
    "for i in range(j):\n",
    "    list3.insert(0,list1[i] + list2[i])\n",
    "    \n",
    "print(\"list3:\", list3)"
   ]
  },
  {
   "cell_type": "code",
   "execution_count": 10,
   "id": "26a60d63",
   "metadata": {},
   "outputs": [
    {
     "name": "stdout",
     "output_type": "stream",
     "text": [
      "execute script\n"
     ]
    }
   ],
   "source": [
    "if True:\n",
    "    print(\"execute script\")"
   ]
  },
  {
   "cell_type": "code",
   "execution_count": 11,
   "id": "51332124",
   "metadata": {},
   "outputs": [
    {
     "name": "stdout",
     "output_type": "stream",
     "text": [
      "execute script\n"
     ]
    }
   ],
   "source": [
    "if True:\n",
    "    print(\"execute script\")\n",
    "else:\n",
    "    pass"
   ]
  },
  {
   "cell_type": "code",
   "execution_count": 12,
   "id": "a3479e63",
   "metadata": {},
   "outputs": [
    {
     "name": "stdout",
     "output_type": "stream",
     "text": [
      "statement isn't True\n"
     ]
    }
   ],
   "source": [
    "if False:\n",
    "    print(\"execute script\")\n",
    "else:\n",
    "    print(\"statement isn't True\")"
   ]
  },
  {
   "cell_type": "code",
   "execution_count": 13,
   "id": "9ca7bc53",
   "metadata": {},
   "outputs": [
    {
     "name": "stdout",
     "output_type": "stream",
     "text": [
      "list1 elements: 5 4 9 10 3\n",
      "list2 elements: 6 3 2 1 5\n",
      "list3: [11, 7, 11, 11, 8, 8]\n"
     ]
    }
   ],
   "source": [
    "#addListElements3.py\n",
    "list1 = [5, 4, 9, 10, 3, 5]\n",
    "list2 = [6, 3, 2, 1, 5, 3]\n",
    "print(\"list1 elements:\", list1[0], list1[1], list1[2], list1[3], list1[4])\n",
    "print(\"list2 elements:\", list2[0], list2[1], list2[2], list2[3], list2[4])\n",
    "\n",
    "list3 = []\n",
    "j = len(list1)\n",
    "if j == len(list2):\n",
    "    for i in range(0, len(list2)):\n",
    "        list3.insert(i,list1[i] + list2[i])\n",
    "print(\"list3:\", list3)"
   ]
  },
  {
   "cell_type": "code",
   "execution_count": 14,
   "id": "ed0686c6",
   "metadata": {},
   "outputs": [
    {
     "name": "stdout",
     "output_type": "stream",
     "text": [
      "list1 elements: 5 4 9 10 3\n",
      "list2 elements: 6 3 2 1 5\n",
      "Lists are not the same length, cannot perform element-wise operations.\n",
      "list3: []\n"
     ]
    }
   ],
   "source": [
    "#addListElements4.py\n",
    "list1 = [5, 4, 9, 10, 3, 5]\n",
    "list2 = [6, 3, 2, 1, 5]\n",
    "print(\"list1 elements:\", list1[0], list1[1], list1[2], list1[3], list1[4])\n",
    "print(\"list2 elements:\", list2[0], list2[1], list2[2], list2[3], list2[4])\n",
    "\n",
    "list3 = []\n",
    "j = len(list1)\n",
    "if j == len(list2):\n",
    "    for i in range(0, len(list2)):\n",
    "        list3.insert(i,list1[i] + list2[i])\n",
    "else:\n",
    "    print(\"Lists are not the same length, cannot perform element-wise operations.\")\n",
    "print(\"list3:\", list3)"
   ]
  },
  {
   "cell_type": "code",
   "execution_count": 15,
   "id": "5882db9b",
   "metadata": {},
   "outputs": [
    {
     "name": "stdout",
     "output_type": "stream",
     "text": [
      "lists before deletion: \n",
      "red \t nose\n",
      "blue \t ice\n",
      "orange \t fire\n",
      "black \t cat\n",
      "white \t mouse\n",
      "golden \t dog\n",
      "\n",
      "lists after deletion: \n",
      "blue \t nose\n",
      "orange \t ice\n",
      "black \t fire\n",
      "white \t cat\n",
      "golden \t mouse\n"
     ]
    }
   ],
   "source": [
    "#deleteListElements.py\n",
    "list1 = [\"red\", \"blue\", \"orange\", \"black\", \"white\", \"golden\"]\n",
    "list2 = [\"nose\", \"ice\", \"fire\", \"cat\", \"mouse\", \"dog\"]\n",
    "print(\"lists before deletion: \")\n",
    "for i in range(len(list1)):\n",
    "    print(list1[i],\"\\t\", list2[i])\n",
    "    \n",
    "del list1[0]\n",
    "del list2[5]\n",
    "\n",
    "print()\n",
    "print(\"lists after deletion: \")\n",
    "for i in range(len(list1)):\n",
    "    print(list1[i], \"\\t\",list2[i])"
   ]
  },
  {
   "cell_type": "code",
   "execution_count": 16,
   "id": "c364138f",
   "metadata": {},
   "outputs": [
    {
     "name": "stdout",
     "output_type": "stream",
     "text": [
      "lists before deletion: \n",
      "red \t nose\n",
      "blue \t ice\n",
      "orange \t fire\n",
      "black \t cat\n",
      "white \t mouse\n",
      "golden \t dog\n",
      "\n",
      "lists after deletion: \n",
      "blue \t nose\n",
      "orange \t ice\n",
      "black \t fire\n",
      "white \t cat\n",
      "golden \t mouse\n"
     ]
    }
   ],
   "source": [
    "#removeListElements.py\n",
    "list1 = [\"red\", \"blue\", \"orange\", \"black\", \"white\", \"golden\"]\n",
    "list2 = [\"nose\", \"ice\", \"fire\", \"cat\", \"mouse\", \"dog\"]\n",
    "print(\"lists before deletion: \")\n",
    "for i in range(len(list1)):\n",
    "    print(list1[i],\"\\t\", list2[i])\n",
    "    \n",
    "list1.remove(\"red\")\n",
    "list2.remove(\"dog\")\n",
    "\n",
    "print()\n",
    "print(\"lists after deletion: \")\n",
    "for i in range(len(list1)):\n",
    "    print(list1[i], \"\\t\",list2[i])"
   ]
  },
  {
   "cell_type": "code",
   "execution_count": 17,
   "id": "21cf71e3",
   "metadata": {},
   "outputs": [
    {
     "name": "stdout",
     "output_type": "stream",
     "text": [
      "lists before deletion: \n",
      "red \t nose\n",
      "blue \t ice\n",
      "orange \t fire\n",
      "black \t cat\n",
      "white \t mouse\n",
      "golden \t dog\n",
      "\n",
      "lists after deletion: \n",
      "blue \t nose\n",
      "orange \t ice\n",
      "black \t fire\n",
      "white \t cat\n",
      "golden \t mouse\n",
      "\n",
      "Res1 \tRes2\n",
      "red \tdog\n"
     ]
    }
   ],
   "source": [
    "#removeAndSaveListElementsPop.py\n",
    "\n",
    "#define list1 and list2\n",
    "list1 = [\"red\", \"blue\", \"orange\", \"black\", \"white\", \"golden\"]\n",
    "list2 = [\"nose\", \"ice\", \"fire\", \"cat\", \"mouse\", \"dog\"]\n",
    "\n",
    "#identify what is printed in for loop\n",
    "print(\"lists before deletion: \")\n",
    "if len(list1) == len(list2):\n",
    "    # use for loop to print lists in parallel\n",
    "    for i in range(len(list1)):\n",
    "        print(list1[i],\"\\t\", list2[i])\n",
    "    \n",
    "# remove list elements and save them as variables '_res\"\n",
    "list1_res = \"red\"\n",
    "list2_res = \"dog\"\n",
    "list1.remove(list1_res)\n",
    "list2.remove(list2_res)\n",
    "\n",
    "print()\n",
    "# print lists again as in lines 8-11\n",
    "print(\"lists after deletion: \")\n",
    "if len(list1) == len(list2):\n",
    "    for i in range(len(list1)):\n",
    "        print(list1[i], \"\\t\",list2[i])\n",
    "     \n",
    "print()\n",
    "print(\"Res1\", \"\\tRes2\")\n",
    "print(list1_res, \"\\t\" + (list2_res))"
   ]
  },
  {
   "cell_type": "code",
   "execution_count": 18,
   "id": "1bc6d1d0",
   "metadata": {},
   "outputs": [
    {
     "name": "stdout",
     "output_type": "stream",
     "text": [
      "lists before deletion: \n",
      "red \t nose\n",
      "blue \t ice\n",
      "orange \t fire\n",
      "black \t cat\n",
      "white \t mouse\n",
      "golden \t dog\n",
      "\n",
      "lists after deletion: \n",
      "blue \t nose\n",
      "orange \t ice\n",
      "black \t fire\n",
      "white \t cat\n",
      "golden \t mouse\n",
      "\n",
      "Res1 \tRes2\n",
      "red \tdog\n"
     ]
    }
   ],
   "source": [
    "#removeListElementsPop.py\n",
    "\n",
    "#define list1 and list2\n",
    "list1 = [\"red\", \"blue\", \"orange\", \"black\", \"white\", \"golden\"]\n",
    "list2 = [\"nose\", \"ice\", \"fire\", \"cat\", \"mouse\", \"dog\"]\n",
    "\n",
    "#identify what is printed in for loop\n",
    "print(\"lists before deletion: \")\n",
    "# use for loop to print lists in parallel\n",
    "for i in range(len(list1)):\n",
    "    print(list1[i],\"\\t\", list2[i])\n",
    "    \n",
    "# remove list elements and save them as variables '_res\"\n",
    "list1_res = list1.pop(0)\n",
    "list2_res = list2.pop(5)\n",
    "\n",
    "print()\n",
    "# print lists again as in lines 8-11\n",
    "print(\"lists after deletion: \")\n",
    "for i in range(len(list1)):\n",
    "    print(list1[i], \"\\t\",list2[i])\n",
    "     \n",
    "print()\n",
    "print(\"Res1\", \"\\tRes2\")\n",
    "print(list1_res, \"\\t\" + (list2_res))"
   ]
  },
  {
   "cell_type": "code",
   "execution_count": 19,
   "id": "a44482f2",
   "metadata": {},
   "outputs": [
    {
     "name": "stdout",
     "output_type": "stream",
     "text": [
      "list1 elements: 5 4 9 10 3\n",
      "list2 elements: 6 3 2 1 5\n",
      "list3: [11, 11, 8]\n"
     ]
    }
   ],
   "source": [
    "#addListElements5.py\n",
    "list1 = [5, 4, 9, 10, 3, 5]\n",
    "list2 = [6, 3, 2, 1, 5, 3]\n",
    "print(\"list1 elements:\", list1[0], list1[1], list1[2], list1[3], list1[4])\n",
    "print(\"list2 elements:\", list2[0], list2[1], list2[2], list2[3], list2[4])\n",
    "\n",
    "list3 = []\n",
    "j = len(list1)\n",
    "if j == len(list2):\n",
    "    for i in range(0, j, 2):\n",
    "        list3.append(list1[i] + list2[i])\n",
    "else:\n",
    "    print(\"Lists are not the same length, cannot perform element-wise operations.\")\n",
    "print(\"list3:\", list3)"
   ]
  },
  {
   "cell_type": "code",
   "execution_count": 20,
   "id": "d664eb8f",
   "metadata": {},
   "outputs": [
    {
     "name": "stdout",
     "output_type": "stream",
     "text": [
      "A\n",
      "few\n",
      "words\n",
      "to\n",
      "print\n"
     ]
    }
   ],
   "source": [
    "obj = [\"A\", \"few\", \"words\", \"to\", \"print\"]\n",
    "for x in obj:\n",
    "    print(x)"
   ]
  },
  {
   "cell_type": "code",
   "execution_count": 21,
   "id": "353bf23a",
   "metadata": {},
   "outputs": [
    {
     "name": "stdout",
     "output_type": "stream",
     "text": [
      "list1\t list2\n",
      "red \t red\n",
      "blue \t blue\n",
      "orange \t orange\n",
      "black \t black\n",
      "white \t white\n",
      "golden \t golden\n"
     ]
    }
   ],
   "source": [
    "#forLoopWithoutIndexer.py\n",
    "list1 = [\"red\", \"blue\", \"orange\", \"black\", \"white\", \"golden\"]\n",
    "list2 = []\n",
    "for x in list1:\n",
    "    list2.append(x)\n",
    "\n",
    "print(\"list1\\t\", \"list2\")\n",
    "k = len(list1)\n",
    "j = len(list2)\n",
    "\n",
    "if len(list1) == len(list2):\n",
    "    for i in range(0, len(list1)):\n",
    "        print(list1[i], \"\\t\", list2[i])"
   ]
  },
  {
   "cell_type": "code",
   "execution_count": 22,
   "id": "fbdf5caa",
   "metadata": {},
   "outputs": [
    {
     "name": "stdout",
     "output_type": "stream",
     "text": [
      "list1: [5, 4, 9, 10, 3, 5]\n",
      "list2: ['red', 'blue', 'orange', 'black', 'white', 'golden']\n",
      "sortedList1: [3, 4, 5, 5, 9, 10]\n",
      "sortedList2: ['black', 'blue', 'golden', 'orange', 'red', 'white']\n"
     ]
    }
   ],
   "source": [
    "#sorting.py\n",
    "list1 = [5, 4, 9, 10, 3, 5]\n",
    "list2 = [\"red\", \"blue\", \"orange\", \"black\", \"white\", \"golden\"]\n",
    "\n",
    "print(\"list1:\", list1)\n",
    "print(\"list2:\", list2)\n",
    "\n",
    "sorted_list1 = sorted(list1)\n",
    "sorted_list2 = sorted(list2)\n",
    "\n",
    "print(\"sortedList1:\", sorted_list1)\n",
    "print(\"sortedList2:\", sorted_list2)"
   ]
  },
  {
   "cell_type": "code",
   "execution_count": 23,
   "id": "4ed1d737",
   "metadata": {},
   "outputs": [
    {
     "name": "stdout",
     "output_type": "stream",
     "text": [
      "list1: [5, 4, 9, 10, 3, 5]\n",
      "list2: ['red', 'blue', 'orange', 'black', 'white', 'golden']\n",
      "list3: [5, 4, 9, 10, 3, 5, 'red', 'blue', 'orange', 'black', 'white', 'golden']\n",
      "sortedList1: [3, 4, 5, 5, 9, 10]\n",
      "sortedList2: ['black', 'blue', 'golden', 'orange', 'red', 'white']\n"
     ]
    },
    {
     "ename": "TypeError",
     "evalue": "'<' not supported between instances of 'str' and 'int'",
     "output_type": "error",
     "traceback": [
      "\u001b[1;31m---------------------------------------------------------------------------\u001b[0m",
      "\u001b[1;31mTypeError\u001b[0m                                 Traceback (most recent call last)",
      "\u001b[1;32m<ipython-input-23-33cfe0647146>\u001b[0m in \u001b[0;36m<module>\u001b[1;34m\u001b[0m\n\u001b[0;32m     14\u001b[0m \u001b[0mprint\u001b[0m\u001b[1;33m(\u001b[0m\u001b[1;34m\"sortedList2:\"\u001b[0m\u001b[1;33m,\u001b[0m \u001b[0msorted_list2\u001b[0m\u001b[1;33m)\u001b[0m\u001b[1;33m\u001b[0m\u001b[1;33m\u001b[0m\u001b[0m\n\u001b[0;32m     15\u001b[0m \u001b[1;33m\u001b[0m\u001b[0m\n\u001b[1;32m---> 16\u001b[1;33m \u001b[0msorted_list3\u001b[0m \u001b[1;33m=\u001b[0m \u001b[0msorted\u001b[0m\u001b[1;33m(\u001b[0m\u001b[0mlist3\u001b[0m\u001b[1;33m)\u001b[0m\u001b[1;33m\u001b[0m\u001b[1;33m\u001b[0m\u001b[0m\n\u001b[0m\u001b[0;32m     17\u001b[0m \u001b[0mprint\u001b[0m\u001b[1;33m(\u001b[0m\u001b[1;34m\"sortedList3:\"\u001b[0m\u001b[1;33m,\u001b[0m \u001b[0msorted_list3\u001b[0m\u001b[1;33m)\u001b[0m\u001b[1;33m\u001b[0m\u001b[1;33m\u001b[0m\u001b[0m\n\u001b[0;32m     18\u001b[0m \u001b[0mprint\u001b[0m\u001b[1;33m(\u001b[0m\u001b[1;34m\"Execution complete!\"\u001b[0m\u001b[1;33m)\u001b[0m\u001b[1;33m\u001b[0m\u001b[1;33m\u001b[0m\u001b[0m\n",
      "\u001b[1;31mTypeError\u001b[0m: '<' not supported between instances of 'str' and 'int'"
     ]
    }
   ],
   "source": [
    "#sortingError.py\n",
    "list1 = [5, 4, 9, 10, 3, 5]\n",
    "list2 = [\"red\", \"blue\", \"orange\", \"black\", \"white\", \"golden\"]\n",
    "list3 = list1 + list2\n",
    "\n",
    "print(\"list1:\", list1)\n",
    "print(\"list2:\", list2)\n",
    "print(\"list3:\", list3)\n",
    "\n",
    "sorted_list1 = sorted(list1)\n",
    "sorted_list2 = sorted(list2)\n",
    "\n",
    "print(\"sortedList1:\", sorted_list1)\n",
    "print(\"sortedList2:\", sorted_list2)\n",
    "\n",
    "sorted_list3 = sorted(list3)\n",
    "print(\"sortedList3:\", sorted_list3)\n",
    "print(\"Execution complete!\")"
   ]
  },
  {
   "cell_type": "code",
   "execution_count": 24,
   "id": "7c07222d",
   "metadata": {},
   "outputs": [
    {
     "name": "stdout",
     "output_type": "stream",
     "text": [
      "list1: [5, 4, 9, 10, 3, 5]\n",
      "list2: ['red', 'blue', 'orange', 'black', 'white', 'golden']\n",
      "list3: [5, 4, 9, 10, 3, 5, 'red', 'blue', 'orange', 'black', 'white', 'golden']\n",
      "sortedList1: [3, 4, 5, 5, 9, 10]\n",
      "sortedList2: ['black', 'blue', 'golden', 'orange', 'red', 'white']\n",
      "TypeError: unorderable types: str() < int() ignoring error\n",
      "Execution complete!\n"
     ]
    }
   ],
   "source": [
    "#sortingError.py\n",
    "list1 = [5, 4, 9, 10, 3, 5]\n",
    "list2 = [\"red\", \"blue\", \"orange\", \"black\", \"white\", \"golden\"]\n",
    "list3 = list1 + list2\n",
    "\n",
    "print(\"list1:\", list1)\n",
    "print(\"list2:\", list2)\n",
    "print(\"list3:\", list3)\n",
    "\n",
    "sorted_list1 = sorted(list1)\n",
    "sorted_list2 = sorted(list2)\n",
    "\n",
    "print(\"sortedList1:\", sorted_list1)\n",
    "print(\"sortedList2:\", sorted_list2)\n",
    "try:\n",
    "    sorted_list3 = sorted(list3)\n",
    "    print(\"sortedList3:\", sorted_list3)\n",
    "except:\n",
    "    print(\"TypeError: unorderable types: str() < int() \"\n",
    "         \"ignoring error\")\n",
    "print(\"Execution complete!\")"
   ]
  },
  {
   "cell_type": "code",
   "execution_count": 25,
   "id": "7f750baf",
   "metadata": {},
   "outputs": [
    {
     "name": "stdout",
     "output_type": "stream",
     "text": [
      "[3, 1, 5, 6, 1]\n"
     ]
    }
   ],
   "source": [
    "#fullSlice.py\n",
    "some_list = [3, 1, 5, 6, 1]\n",
    "print(some_list[:])"
   ]
  },
  {
   "cell_type": "code",
   "execution_count": 26,
   "id": "90da4df8",
   "metadata": {},
   "outputs": [
    {
     "name": "stdout",
     "output_type": "stream",
     "text": [
      "minimum: 0\n",
      "maximum: 5\n",
      "Full list using slice [3, 1, 5, 6, 1]\n",
      "Full list without slice [3, 1, 5, 6, 1]\n"
     ]
    }
   ],
   "source": [
    "#fullSlice2.py\n",
    "some_list = [3, 1, 5, 6, 1]\n",
    "min_index = 0\n",
    "max_index = len(some_list)\n",
    "print(\"minimum:\", min_index)\n",
    "print(\"maximum:\", max_index)\n",
    "print(\"Full list using slice\", some_list[min_index:max_index])\n",
    "print(\"Full list without slice\", some_list)"
   ]
  },
  {
   "cell_type": "code",
   "execution_count": 27,
   "id": "71d00d51",
   "metadata": {},
   "outputs": [
    {
     "name": "stdout",
     "output_type": "stream",
     "text": [
      "Full List: [1, 2, 3, 4, 5, 6, 7, 8, 9]\n",
      "Partial List: [4, 5, 6, 7]\n",
      "full_list[7]: 8\n"
     ]
    }
   ],
   "source": [
    "#partialSlice.py\n",
    "min_index = 3\n",
    "max_index = 7\n",
    "full_list = [1, 2, 3, 4, 5, 6, 7, 8, 9]\n",
    "partial_list = full_list[min_index:max_index]\n",
    "print(\"Full List:\", full_list)\n",
    "print(\"Partial List:\", partial_list)\n",
    "print(\"full_list[7]:\", full_list[7])"
   ]
  },
  {
   "cell_type": "code",
   "execution_count": 28,
   "id": "e6708bfc",
   "metadata": {},
   "outputs": [
    {
     "name": "stdout",
     "output_type": "stream",
     "text": [
      "i j\n",
      "0 0\n",
      "0 1\n",
      "0 2\n",
      "0 3\n",
      "0 4\n",
      "1 0\n",
      "1 1\n",
      "1 2\n",
      "1 3\n",
      "1 4\n",
      "2 0\n",
      "2 1\n",
      "2 2\n",
      "2 3\n",
      "2 4\n",
      "3 0\n",
      "3 1\n",
      "3 2\n",
      "3 3\n",
      "3 4\n",
      "4 0\n",
      "4 1\n",
      "4 2\n",
      "4 3\n",
      "4 4\n"
     ]
    }
   ],
   "source": [
    "#nestedForLoop.py\n",
    "print(\"i\", \"j\")\n",
    "for i in range(5):\n",
    "    for j in range(5):\n",
    "        print(i, j)"
   ]
  },
  {
   "cell_type": "code",
   "execution_count": 29,
   "id": "325812a4",
   "metadata": {},
   "outputs": [
    {
     "name": "stdout",
     "output_type": "stream",
     "text": [
      "i j i+j\n",
      "0 0 0\n",
      "0 1 1\n",
      "0 2 2\n",
      "0 3 3\n",
      "0 4 4\n",
      "1 0 1\n",
      "1 1 2\n",
      "1 2 3\n",
      "1 3 4\n",
      "1 4 5\n",
      "2 0 2\n",
      "2 1 3\n",
      "2 2 4\n",
      "2 3 5\n",
      "2 4 6\n",
      "3 0 3\n",
      "3 1 4\n",
      "3 2 5\n",
      "3 3 6\n",
      "3 4 7\n",
      "4 0 4\n",
      "4 1 5\n",
      "4 2 6\n",
      "4 3 7\n",
      "4 4 8\n"
     ]
    }
   ],
   "source": [
    "#nestedForLoop.py\n",
    "print(\"i\", \"j\", \"i+j\")\n",
    "for i in range(5):\n",
    "    for j in range(5):\n",
    "        val = i + j\n",
    "        print(i, j, val)"
   ]
  },
  {
   "cell_type": "code",
   "execution_count": 30,
   "id": "f49c7f20",
   "metadata": {},
   "outputs": [
    {
     "name": "stdout",
     "output_type": "stream",
     "text": [
      "maximum: 50 minimum: 20\n"
     ]
    }
   ],
   "source": [
    "# minMaxFunctions.py\n",
    "list1 = [20, 30, 40, 50]\n",
    "max_list_value = max(list1)\n",
    "min_list_value = min(list1)\n",
    "print(\"maximum:\", max_list_value, \"minimum:\", min_list_value)"
   ]
  },
  {
   "cell_type": "code",
   "execution_count": 31,
   "id": "4a49af19",
   "metadata": {},
   "outputs": [
    {
     "name": "stdout",
     "output_type": "stream",
     "text": [
      "maximum: 50 minimum: 20\n"
     ]
    }
   ],
   "source": [
    "#minMaxFuntionsByHand.py\n",
    "list1 = [20, 30, 40, 50]\n",
    "# initial smallest value is infinite\n",
    "# will be replaced if a value from the list is lower\n",
    "min_list_val = float(\"inf\")\n",
    "# initial largest values is negative infinite\n",
    "# will be replaced if a value  from the list is higher\n",
    "max_list_val = float(\"-inf\")\n",
    "\n",
    "for x in list1:\n",
    "    if x < min_list_val:\n",
    "        min_list_val = x\n",
    "    if x > max_list_val:\n",
    "        max_list_val = x\n",
    "\n",
    "print(\"maximum:\", max_list_val, \"minimum:\", min_list_val)"
   ]
  },
  {
   "cell_type": "code",
   "execution_count": 32,
   "id": "dc80062d",
   "metadata": {},
   "outputs": [
    {
     "name": "stdout",
     "output_type": "stream",
     "text": [
      "<generator object <genexpr> at 0x000001FBF79CA660>\n",
      "[0, 1, 2, 3, 4, 5, 6, 7, 8, 9, 10, 11, 12, 13, 14, 15, 16, 17, 18, 19]\n",
      "[0, 2, 4, 6, 8, 10, 12, 14, 16, 18, 20, 22, 24, 26, 28, 30, 32, 34, 36, 38]\n"
     ]
    }
   ],
   "source": [
    "#listFromGenerator.py\n",
    "generator = (i for i in range(20))\n",
    "print(generator)\n",
    "\n",
    "list1 = list(generator)\n",
    "print(list1)\n",
    "\n",
    "list2 = [2 * i for i in range(20)]\n",
    "print(list2)"
   ]
  }
 ],
 "metadata": {
  "kernelspec": {
   "display_name": "Python 3",
   "language": "python",
   "name": "python3"
  },
  "language_info": {
   "codemirror_mode": {
    "name": "ipython",
    "version": 3
   },
   "file_extension": ".py",
   "mimetype": "text/x-python",
   "name": "python",
   "nbconvert_exporter": "python",
   "pygments_lexer": "ipython3",
   "version": "3.8.8"
  }
 },
 "nbformat": 4,
 "nbformat_minor": 5
}
